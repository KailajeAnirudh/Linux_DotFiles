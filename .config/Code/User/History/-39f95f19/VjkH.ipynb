{
 "cells": [
  {
   "cell_type": "code",
   "execution_count": 1,
   "metadata": {},
   "outputs": [],
   "source": [
    "import numpy as np\n",
    "from scipy.spatial import transform"
   ]
  },
  {
   "cell_type": "code",
   "execution_count": 2,
   "metadata": {},
   "outputs": [],
   "source": [
    "def RotZ(theta_rad):\n",
    "    return np.array([[np.cos(theta_rad), np.sin(theta_rad), 0],\n",
    "                     [-np.sin(theta_rad), np.cos(theta_rad), 0],\n",
    "                     [0, 0, 1]])\n",
    "def RotY(theta_rad):\n",
    "    return np.array([[np.cos(theta_rad), 0, -np.sin(theta_rad)],\n",
    "                     [0, 1, 0],\n",
    "                     [np.sin(theta_rad), 0, np.cos(theta_rad)]])\n",
    "def RotX(theta_rad):\n",
    "    return np.array([[1, 0, 0],\n",
    "                     [0, np.cos(theta_rad), np.sin(theta_rad)],\n",
    "                     [0, -np.sin(theta_rad), np.cos(theta_rad)]])"
   ]
  },
  {
   "cell_type": "code",
   "execution_count": null,
   "metadata": {},
   "outputs": [],
   "source": [
    "\"\"\"Use Z-Y-X euler convention\"\"\""
   ]
  },
  {
   "cell_type": "markdown",
   "metadata": {},
   "source": [
    "### Question 1a"
   ]
  },
  {
   "cell_type": "code",
   "execution_count": 44,
   "metadata": {},
   "outputs": [
    {
     "data": {
      "text/plain": [
       "array([[ 0.984,  0.171, -0.043],\n",
       "       [-0.17 ,  0.985,  0.034],\n",
       "       [ 0.048, -0.026,  0.998]])"
      ]
     },
     "execution_count": 44,
     "metadata": {},
     "output_type": "execute_result"
    }
   ],
   "source": [
    "R_final  = RotX(30*np.pi/180)@RotY(-20*np.pi/180)@RotX(-30*np.pi/180)@RotY(20*np.pi/180)\n",
    "R_final.round(3)"
   ]
  },
  {
   "cell_type": "code",
   "execution_count": 46,
   "metadata": {},
   "outputs": [
    {
     "data": {
      "text/plain": [
       "array([-9.77769559, -2.76359835, -1.4981269 ])"
      ]
     },
     "execution_count": 46,
     "metadata": {},
     "output_type": "execute_result"
    }
   ],
   "source": [
    "transform.Rotation.from_matrix(R_final).as_euler('ZYX')*180/np.pi"
   ]
  },
  {
   "cell_type": "markdown",
   "metadata": {},
   "source": [
    "### Question 1b"
   ]
  },
  {
   "cell_type": "markdown",
   "metadata": {},
   "source": [
    "The rotation matrix after the given transformation is given by:"
   ]
  },
  {
   "cell_type": "code",
   "execution_count": 20,
   "metadata": {},
   "outputs": [
    {
     "data": {
      "text/plain": [
       "array([[-1., -0., -0.],\n",
       "       [ 0.,  0., -1.],\n",
       "       [ 0., -1.,  0.]])"
      ]
     },
     "execution_count": 20,
     "metadata": {},
     "output_type": "execute_result"
    }
   ],
   "source": [
    "R_current = (RotZ(-np.pi/2)@RotX(np.pi/2)@RotY(np.pi/2)).round(2)\n",
    "R_current"
   ]
  },
  {
   "cell_type": "markdown",
   "metadata": {},
   "source": [
    "The rotation transformation matrix required to go back to original configuration:"
   ]
  },
  {
   "cell_type": "code",
   "execution_count": 47,
   "metadata": {},
   "outputs": [
    {
     "data": {
      "text/plain": [
       "array([[-1.,  0.,  0.],\n",
       "       [-0.,  0., -1.],\n",
       "       [-0., -1.,  0.]])"
      ]
     },
     "execution_count": 47,
     "metadata": {},
     "output_type": "execute_result"
    }
   ],
   "source": [
    "R_req = R_current.T\n",
    "R_req\n"
   ]
  },
  {
   "cell_type": "markdown",
   "metadata": {},
   "source": [
    "Confirming if we got the correct matrix. We should have $R_{\\text{req}}R_{\\text{current}} = \\begin{bmatrix}\n",
    "1 & 0 & 0 \\\\\n",
    "0 & 1 & 0 \\\\\n",
    "0 & 0 & 1 \n",
    "\\end{bmatrix}$"
   ]
  },
  {
   "cell_type": "code",
   "execution_count": 48,
   "metadata": {},
   "outputs": [
    {
     "data": {
      "text/plain": [
       "array([[1., 0., 0.],\n",
       "       [0., 1., 0.],\n",
       "       [0., 0., 1.]])"
      ]
     },
     "execution_count": 48,
     "metadata": {},
     "output_type": "execute_result"
    }
   ],
   "source": [
    "(R_req@R_current).round(2)"
   ]
  },
  {
   "cell_type": "markdown",
   "metadata": {},
   "source": [
    "To find what axis and by how much the vehicle needs to rotate to return to the original orientation, I will find the rotation vector representation of the $R_{\\text{req}}$ matrix"
   ]
  },
  {
   "cell_type": "code",
   "execution_count": 49,
   "metadata": {},
   "outputs": [
    {
     "data": {
      "text/plain": [
       "(3.141592653589793, array([ 0.        ,  0.70710678, -0.70710678]))"
      ]
     },
     "execution_count": 49,
     "metadata": {},
     "output_type": "execute_result"
    }
   ],
   "source": [
    "rotvec = transform.Rotation.from_matrix(R_current.T).as_rotvec()\n",
    "np.linalg.norm(rotvec), rotvec/np.linalg.norm(rotvec)"
   ]
  },
  {
   "cell_type": "markdown",
   "metadata": {},
   "source": [
    "So we need to rotate about the [0, 0.707, -0.707] axis by $180 \\degree$"
   ]
  },
  {
   "cell_type": "markdown",
   "metadata": {},
   "source": [
    "The euler angles for final orientation are given by:"
   ]
  },
  {
   "cell_type": "code",
   "execution_count": 35,
   "metadata": {},
   "outputs": [
    {
     "data": {
      "text/plain": [
       "array([ 3.14159265,  0.        , -1.57079633])"
      ]
     },
     "execution_count": 35,
     "metadata": {},
     "output_type": "execute_result"
    }
   ],
   "source": [
    "transform.Rotation.as_euler(transform.Rotation.from_matrix(R_current), 'ZYX')"
   ]
  },
  {
   "cell_type": "markdown",
   "metadata": {},
   "source": [
    "$$\\phi = 180 \\degree, \\theta = 0 \\degree, \\psi = -90 \\degree$$\n",
    "Lets confirm this,"
   ]
  },
  {
   "cell_type": "code",
   "execution_count": 51,
   "metadata": {},
   "outputs": [
    {
     "data": {
      "text/plain": [
       "(array([[-1.,  0.,  0.],\n",
       "        [-0., -0., -1.],\n",
       "        [-0., -1.,  0.]]),\n",
       " array([[-1., -0., -0.],\n",
       "        [ 0.,  0., -1.],\n",
       "        [ 0., -1.,  0.]]))"
      ]
     },
     "execution_count": 51,
     "metadata": {},
     "output_type": "execute_result"
    }
   ],
   "source": [
    "(RotX(-np.pi/2)@RotZ(np.pi)).round(2), R_current"
   ]
  },
  {
   "cell_type": "markdown",
   "metadata": {},
   "source": [
    "### Problem 2"
   ]
  },
  {
   "cell_type": "markdown",
   "metadata": {},
   "source": [
    "We have $^B \\omega = \\begin{bmatrix}\n",
    "0 \\\\\n",
    "0 \\\\\n",
    "r \n",
    "\\end{bmatrix} $, Let $\\underline{\\theta_0}$ be the initial Euler Angles.\n",
    "We know, $$^B \\omega = E \\underline{\\dot \\theta}$$, where $$E = \\begin{bmatrix}\n",
    "1 & 0 & -\\sin \\theta \\\\\n",
    "0 & \\cos \\phi & \\sin \\phi \\cos\\theta \\\\\n",
    "0 & -\\sin\\phi & \\cos \\phi \\cos \\theta \n",
    "\\end{bmatrix}, \\text{and } E^{-1} = \\begin{bmatrix}\n",
    "1 & \\sin \\phi \\tan \\theta & \\cos\\phi\\tan\\theta \\\\\n",
    "0 & \\cos\\phi & -\\sin\\phi \\\\\n",
    "0 & \\sin\\phi\\sec\\theta & \\cos\\phi\\sec\\theta \n",
    "\\end{bmatrix}$$"
   ]
  },
  {
   "cell_type": "markdown",
   "metadata": {},
   "source": [
    "Problem 2a"
   ]
  },
  {
   "cell_type": "markdown",
   "metadata": {},
   "source": [
    "If this motion was superimposed over $\\vec V  = V \\hat i_E$,\n",
    "\n",
    "Consider the equation for $\\underline \\theta$\n",
    "$$ \\underline{\\dot\\theta} = E^{-1} {^B\\omega}$$\n",
    "$$ \\underline{\\dot\\theta} = \\begin{bmatrix}\n",
    "1 & \\sin \\phi \\tan \\theta & \\cos\\phi\\tan\\theta \\\\\n",
    "0 & \\cos\\phi & -\\sin\\phi \\\\\n",
    "0 & \\sin\\phi\\sec\\theta & \\cos\\phi\\sec\\theta \n",
    "\\end{bmatrix} \\begin{bmatrix}\n",
    "0 \\\\\n",
    "0 \\\\\n",
    "r \n",
    "\\end{bmatrix} = \\begin{bmatrix} r \\cos \\phi \\tan \\theta \\\\ -r \\sin \\phi \\\\ r \\cos\\phi\\sec\\theta \\end{bmatrix}$$"
   ]
  },
  {
   "cell_type": "markdown",
   "metadata": {},
   "source": []
  }
 ],
 "metadata": {
  "kernelspec": {
   "display_name": "Python 3",
   "language": "python",
   "name": "python3"
  },
  "language_info": {
   "codemirror_mode": {
    "name": "ipython",
    "version": 3
   },
   "file_extension": ".py",
   "mimetype": "text/x-python",
   "name": "python",
   "nbconvert_exporter": "python",
   "pygments_lexer": "ipython3",
   "version": "3.11.2"
  }
 },
 "nbformat": 4,
 "nbformat_minor": 2
}
