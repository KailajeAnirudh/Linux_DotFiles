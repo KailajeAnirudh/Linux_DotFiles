{
 "cells": [
  {
   "cell_type": "code",
   "execution_count": 1,
   "metadata": {},
   "outputs": [],
   "source": [
    "import os, numpy as np, matplotlib.pyplot as plt, pickle, pandas as pd\n",
    "import torch\n",
    "from utils import *"
   ]
  },
  {
   "cell_type": "markdown",
   "metadata": {},
   "source": [
    "## Visualizing Loss Curves for AWS training."
   ]
  },
  {
   "cell_type": "code",
   "execution_count": null,
   "metadata": {},
   "outputs": [],
   "source": [
    "path = '/home/anirudhkailaje/Documents/01_UPenn/01_ESE5460/03_Project/src/99_ModelLogs/12-12-2023-DiagModel-600SeqLen/'\n",
    "losses = []\n",
    "loss_names = []\n",
    "for file in os.listdir(path):\n",
    "    if 'loss' in file:\n",
    "        with open(path+file, 'rb') as f:\n",
    "            losses.append(pickle.load(f))\n",
    "        loss_names.append(file.split('.')[0])"
   ]
  },
  {
   "cell_type": "code",
   "execution_count": null,
   "metadata": {},
   "outputs": [],
   "source": [
    "for i in range(len(losses)):\n",
    "    fig, axes = plt.subplots(1, 3, figsize=(15, 5))\n",
    "    axes[0].plot(losses[i][0])\n",
    "    axes[0].set_title('Training Loss')\n",
    "    axes[1].plot(torch.tensor(losses[i][1]).cpu().numpy())\n",
    "    axes[1].set_title('Validation Loss')\n",
    "    axes[2].plot(losses[i][2])\n",
    "    axes[2].set_title('Learning Rate')\n",
    "    fig.suptitle(loss_names[i])\n",
    "    plt.show()"
   ]
  },
  {
   "cell_type": "markdown",
   "metadata": {},
   "source": [
    "## Data Loading from Utils"
   ]
  },
  {
   "cell_type": "code",
   "execution_count": 2,
   "metadata": {},
   "outputs": [],
   "source": [
    "data_folder = '/home/anirudhkailaje/Documents/01_UPenn/01_ESE5460/03_Project/ptb-xl-a-large-publicly-available-electrocardiography-dataset-1.0.1/'\n",
    "data, raw_labels = load_dataset(data_folder, 100)"
   ]
  },
  {
   "cell_type": "code",
   "execution_count": 3,
   "metadata": {},
   "outputs": [],
   "source": [
    "tasks = ['diagnostic', 'subdiagnostic', 'superdiagnostic', 'form', 'rhythm']\n",
    "task_labels = []\n",
    "for task in tasks:\n",
    "    task_labels.append(compute_label_aggregations(raw_labels, folder= data_folder, ctype=task))"
   ]
  },
  {
   "cell_type": "code",
   "execution_count": 4,
   "metadata": {},
   "outputs": [],
   "source": [
    "outputfolder = '/home/anirudhkailaje/Documents/01_UPenn/01_ESE5460/03_Project/src/data/01_12-12-2023/'\n",
    "experiment_name = 'Plain'\n",
    "if not os.path.exists(outputfolder+experiment_name):\n",
    "            os.makedirs(outputfolder+experiment_name)\n",
    "            if not os.path.exists(outputfolder+experiment_name+'/results/'):\n",
    "                os.makedirs(outputfolder+experiment_name+'/results/')\n",
    "            if not os.path.exists(outputfolder+experiment_name+'/models/'):\n",
    "                os.makedirs(outputfolder+experiment_name+'/models/')\n",
    "            if not os.path.exists(outputfolder+experiment_name+'/data/'):\n",
    "                os.makedirs(outputfolder+experiment_name+'/data/')"
   ]
  },
  {
   "cell_type": "code",
   "execution_count": 5,
   "metadata": {},
   "outputs": [],
   "source": [
    "task_idx = 3\n",
    "task_data, labels, Y, _ = select_data(data, task_labels[task_idx], tasks[task_idx], 0, outputfolder+experiment_name+'/data/')"
   ]
  },
  {
   "cell_type": "code",
   "execution_count": 7,
   "metadata": {},
   "outputs": [],
   "source": [
    "test_fold = 10; val_fold = 9; train_fold = 8\n",
    "X_test = task_data[labels.strat_fold == test_fold]\n",
    "y_test = Y[labels.strat_fold == test_fold]\n",
    "# 9th fold for validation (8th for now)\n",
    "X_val = task_data[labels.strat_fold == val_fold]\n",
    "y_val = Y[labels.strat_fold == val_fold]\n",
    "# rest for training\n",
    "X_train = task_data[labels.strat_fold <= train_fold]\n",
    "y_train = Y[labels.strat_fold <= train_fold]\n",
    "\n",
    "# Preprocess signal data\n",
    "# X_train, X_val, X_test = preprocess_signals(X_train, X_val, X_test, outputfolder+experiment_name+'/data/')\n",
    "# n_classes = y_train.shape[1]\n",
    "\n",
    "# save train and test labels\n",
    "# y_train.dump(outputfolder + experiment_name+ '/data/y_train.npy')\n",
    "# y_val.dump(outputfolder + experiment_name+ '/data/y_val.npy')\n",
    "# y_test.dump(outputfolder + experiment_name+ '/data/y_test.npy')\n"
   ]
  },
  {
   "cell_type": "code",
   "execution_count": 8,
   "metadata": {},
   "outputs": [
    {
     "data": {
      "text/plain": [
       "((7202, 1000, 12), (7202, 19))"
      ]
     },
     "execution_count": 8,
     "metadata": {},
     "output_type": "execute_result"
    }
   ],
   "source": [
    "X_train.shape, y_train.shape"
   ]
  },
  {
   "cell_type": "code",
   "execution_count": 9,
   "metadata": {},
   "outputs": [],
   "source": [
    "np.savez_compressed(f'./{tasks[task_idx]}Train.npz', X_train=X_train, y_train=y_train)\n",
    "np.savez_compressed(f'./{tasks[task_idx]}Val.npz', X_val=X_val, y_val=y_val)\n",
    "np.savez_compressed(f'./{tasks[task_idx]}Test.npz', X_test=X_test, y_test=y_test)"
   ]
  },
  {
   "cell_type": "code",
   "execution_count": null,
   "metadata": {},
   "outputs": [],
   "source": [
    "fig = plt.figure(figsize=(20, 10))\n",
    "plt.hist(y_train.ravel(), bins=100)\n",
    "plt.show()"
   ]
  },
  {
   "cell_type": "code",
   "execution_count": null,
   "metadata": {},
   "outputs": [],
   "source": []
  }
 ],
 "metadata": {
  "kernelspec": {
   "display_name": "Python 3",
   "language": "python",
   "name": "python3"
  },
  "language_info": {
   "codemirror_mode": {
    "name": "ipython",
    "version": 3
   },
   "file_extension": ".py",
   "mimetype": "text/x-python",
   "name": "python",
   "nbconvert_exporter": "python",
   "pygments_lexer": "ipython3",
   "version": "3.8.10"
  }
 },
 "nbformat": 4,
 "nbformat_minor": 2
}
