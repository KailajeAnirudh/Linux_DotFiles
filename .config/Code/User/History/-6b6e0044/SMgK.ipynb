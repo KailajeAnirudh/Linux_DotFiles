{
 "cells": [
  {
   "cell_type": "code",
   "execution_count": 1,
   "metadata": {},
   "outputs": [],
   "source": [
    "import os, numpy as np, matplotlib.pyplot as plt, pickle, pandas as pd\n",
    "import torch\n",
    "from utils import *"
   ]
  },
  {
   "cell_type": "markdown",
   "metadata": {},
   "source": [
    "## Visualizing Loss Curves for AWS training."
   ]
  },
  {
   "cell_type": "code",
   "execution_count": null,
   "metadata": {},
   "outputs": [],
   "source": [
    "path = '/home/anirudhkailaje/Documents/01_UPenn/01_ESE5460/03_Project/src/99_ModelLogs/12-12-2023-DiagModel-600SeqLen/'\n",
    "losses = []\n",
    "loss_names = []\n",
    "for file in os.listdir(path):\n",
    "    if 'loss' in file:\n",
    "        with open(path+file, 'rb') as f:\n",
    "            losses.append(pickle.load(f))\n",
    "        loss_names.append(file.split('.')[0])"
   ]
  },
  {
   "cell_type": "code",
   "execution_count": null,
   "metadata": {},
   "outputs": [],
   "source": [
    "for i in range(len(losses)):\n",
    "    fig, axes = plt.subplots(1, 3, figsize=(15, 5))\n",
    "    axes[0].plot(losses[i][0])\n",
    "    axes[0].set_title('Training Loss')\n",
    "    axes[1].plot(torch.tensor(losses[i][1]).cpu().numpy())\n",
    "    axes[1].set_title('Validation Loss')\n",
    "    axes[2].plot(losses[i][2])\n",
    "    axes[2].set_title('Learning Rate')\n",
    "    fig.suptitle(loss_names[i])\n",
    "    plt.show()"
   ]
  },
  {
   "cell_type": "markdown",
   "metadata": {},
   "source": [
    "## Data Loading from Utils"
   ]
  },
  {
   "cell_type": "code",
   "execution_count": 2,
   "metadata": {},
   "outputs": [],
   "source": [
    "data_folder = '/home/anirudhkailaje/Documents/01_UPenn/01_ESE5460/03_Project/ptb-xl-a-large-publicly-available-electrocardiography-dataset-1.0.1/'\n",
    "data, raw_labels = load_dataset(data_folder, 100)"
   ]
  },
  {
   "cell_type": "code",
   "execution_count": 3,
   "metadata": {},
   "outputs": [],
   "source": [
    "tasks = ['diagnostic', 'subdiagnostic', 'superdiagnostic', 'form', 'rhythm']\n",
    "task_labels = []\n",
    "for task in tasks:\n",
    "    task_labels.append(compute_label_aggregations(raw_labels, folder= data_folder, ctype=task))"
   ]
  },
  {
   "cell_type": "code",
   "execution_count": 4,
   "metadata": {},
   "outputs": [],
   "source": [
    "outputfolder = '/home/anirudhkailaje/Documents/01_UPenn/01_ESE5460/03_Project/src/data/01_12-12-2023/'\n",
    "experiment_name = 'Plain'\n",
    "if not os.path.exists(outputfolder+experiment_name):\n",
    "            os.makedirs(outputfolder+experiment_name)\n",
    "            if not os.path.exists(outputfolder+experiment_name+'/results/'):\n",
    "                os.makedirs(outputfolder+experiment_name+'/results/')\n",
    "            if not os.path.exists(outputfolder+experiment_name+'/models/'):\n",
    "                os.makedirs(outputfolder+experiment_name+'/models/')\n",
    "            if not os.path.exists(outputfolder+experiment_name+'/data/'):\n",
    "                os.makedirs(outputfolder+experiment_name+'/data/')"
   ]
  },
  {
   "cell_type": "code",
   "execution_count": 5,
   "metadata": {},
   "outputs": [],
   "source": [
    "task_idx = 3\n",
    "task_data, labels, Y, _ = select_data(data, task_labels[task_idx], tasks[task_idx], 0, outputfolder+experiment_name+'/data/')"
   ]
  },
  {
   "cell_type": "code",
   "execution_count": 6,
   "metadata": {},
   "outputs": [
    {
     "ename": "OSError",
     "evalue": "[Errno 36] File name too long: './        patient_id   age  sex  height  weight  nurse  site      device  \\\\\\necg_id                                                                   \\n1          15709.0  56.0    1     NaN    63.0    2.0   0.0   CS-12   E   \\n2          13243.0  19.0    0     NaN    70.0    2.0   0.0   CS-12   E   \\n3          20372.0  37.0    1     NaN    69.0    2.0   0.0   CS-12   E   \\n4          17014.0  24.0    0     NaN    82.0    2.0   0.0   CS-12   E   \\n5          17448.0  19.0    1     NaN    70.0    2.0   0.0   CS-12   E   \\n...            ...   ...  ...     ...     ...    ...   ...         ...   \\n21833      17180.0  67.0    1     NaN     NaN    1.0   2.0  AT-60    3   \\n21834      20703.0  93.0    0     NaN     NaN    1.0   2.0  AT-60    3   \\n21835      19311.0  59.0    1     NaN     NaN    1.0   2.0  AT-60    3   \\n21836       8873.0  64.0    1     NaN     NaN    1.0   2.0  AT-60    3   \\n21837      11744.0  68.0    0     NaN     NaN    1.0   2.0  AT-60    3   \\n\\n             recording_date  \\\\\\necg_id                        \\n1       1984-11-09 09:17:34   \\n2       1984-11-14 12:55:37   \\n3       1984-11-15 12:49:10   \\n4       1984-11-15 13:44:57   \\n5       1984-11-17 10:43:15   \\n...                     ...   \\n21833   2001-05-31 09:14:35   \\n21834   2001-06-05 11:33:39   \\n21835   2001-06-08 10:30:27   \\n21836   2001-06-09 18:21:49   \\n21837   2001-06-11 16:43:01   \\n\\n                                                   report  ... diagnostic  \\\\\\necg_id                                                     ...              \\n1                  sinusrhythmus periphere niederspannung  ...     [NORM]   \\n2                     sinusbradykardie sonst normales ekg  ...     [NORM]   \\n3                              sinusrhythmus normales ekg  ...     [NORM]   \\n4                              sinusrhythmus normales ekg  ...     [NORM]   \\n5                              sinusrhythmus normales ekg  ...     [NORM]   \\n...                                                   ...  ...        ...   \\n21833   ventrikulÄre extrasystole(n) sinustachykardie ...  ...      [NDT]   \\n21834   sinusrhythmus lagetyp normal qrs(t) abnorm    ...  ...     [NORM]   \\n21835   sinusrhythmus lagetyp normal t abnorm in anter...  ...    [ISCAS]   \\n21836   supraventrikulÄre extrasystole(n) sinusrhythmu...  ...     [NORM]   \\n21837   sinusrhythmus p-sinistrocardiale lagetyp norma...  ...     [NORM]   \\n\\n       diagnostic_len subdiagnostic subdiagnostic_len  superdiagnostic  \\\\\\necg_id                                                                   \\n1                   1        [NORM]                 1           [NORM]   \\n2                   1        [NORM]                 1           [NORM]   \\n3                   1        [NORM]                 1           [NORM]   \\n4                   1        [NORM]                 1           [NORM]   \\n5                   1        [NORM]                 1           [NORM]   \\n...               ...           ...               ...              ...   \\n21833               1        [STTC]                 1           [STTC]   \\n21834               1        [NORM]                 1           [NORM]   \\n21835               1        [ISCA]                 1           [STTC]   \\n21836               1        [NORM]                 1           [NORM]   \\n21837               1        [NORM]                 1           [NORM]   \\n\\n        superdiagnostic_len               form  form_len   rhythm rhythm_len  \\necg_id                                                                        \\n1                         1            [LVOLT]         1     [SR]          1  \\n2                         1                 []         0  [SBRAD]          1  \\n3                         1                 []         0     [SR]          1  \\n4                         1                 []         0     [SR]          1  \\n5                         1                 []         0     [SR]          1  \\n...                     ...                ...       ...      ...        ...  \\n21833                     1  [VCLVH, NDT, PVC]         3  [STACH]          1  \\n21834                     1            [ABQRS]         1     [SR]          1  \\n21835                     1                 []         0     [SR]          1  \\n21836                     1                 []         0     [SR]          1  \\n21837                     1                 []         0     [SR]          1  \\n\\n[21837 rows x 38 columns]Train.npz'",
     "output_type": "error",
     "traceback": [
      "\u001b[0;31m---------------------------------------------------------------------------\u001b[0m",
      "\u001b[0;31mOSError\u001b[0m                                   Traceback (most recent call last)",
      "\u001b[1;32m/home/anirudhkailaje/Documents/01_UPenn/01_ESE5460/03_Project/src/01_ScratchPad.ipynb Cell 10\u001b[0m line \u001b[0;36m1\n\u001b[1;32m      <a href='vscode-notebook-cell:/home/anirudhkailaje/Documents/01_UPenn/01_ESE5460/03_Project/src/01_ScratchPad.ipynb#X12sZmlsZQ%3D%3D?line=7'>8</a>\u001b[0m X_train \u001b[39m=\u001b[39m task_data[labels\u001b[39m.\u001b[39mstrat_fold \u001b[39m<\u001b[39m\u001b[39m=\u001b[39m train_fold]\n\u001b[1;32m      <a href='vscode-notebook-cell:/home/anirudhkailaje/Documents/01_UPenn/01_ESE5460/03_Project/src/01_ScratchPad.ipynb#X12sZmlsZQ%3D%3D?line=8'>9</a>\u001b[0m y_train \u001b[39m=\u001b[39m Y[labels\u001b[39m.\u001b[39mstrat_fold \u001b[39m<\u001b[39m\u001b[39m=\u001b[39m train_fold]\n\u001b[0;32m---> <a href='vscode-notebook-cell:/home/anirudhkailaje/Documents/01_UPenn/01_ESE5460/03_Project/src/01_ScratchPad.ipynb#X12sZmlsZQ%3D%3D?line=11'>12</a>\u001b[0m np\u001b[39m.\u001b[39;49msavez_compressed(\u001b[39mf\u001b[39;49m\u001b[39m'\u001b[39;49m\u001b[39m./\u001b[39;49m\u001b[39m{\u001b[39;49;00mtask_labels[task_idx]\u001b[39m}\u001b[39;49;00m\u001b[39mTrain.npz\u001b[39;49m\u001b[39m'\u001b[39;49m, X_train\u001b[39m=\u001b[39;49mX_train, y_train\u001b[39m=\u001b[39;49my_train)\n\u001b[1;32m     <a href='vscode-notebook-cell:/home/anirudhkailaje/Documents/01_UPenn/01_ESE5460/03_Project/src/01_ScratchPad.ipynb#X12sZmlsZQ%3D%3D?line=12'>13</a>\u001b[0m np\u001b[39m.\u001b[39msavez_compressed(\u001b[39mf\u001b[39m\u001b[39m'\u001b[39m\u001b[39m./\u001b[39m\u001b[39m{\u001b[39;00mtask_labels[task_idx]\u001b[39m}\u001b[39;00m\u001b[39mVal.npz\u001b[39m\u001b[39m'\u001b[39m, X_val\u001b[39m=\u001b[39mX_val, y_val\u001b[39m=\u001b[39my_val)\n\u001b[1;32m     <a href='vscode-notebook-cell:/home/anirudhkailaje/Documents/01_UPenn/01_ESE5460/03_Project/src/01_ScratchPad.ipynb#X12sZmlsZQ%3D%3D?line=13'>14</a>\u001b[0m np\u001b[39m.\u001b[39msavez_compressed(\u001b[39mf\u001b[39m\u001b[39m'\u001b[39m\u001b[39m./\u001b[39m\u001b[39m{\u001b[39;00mtask_labels[task_idx]\u001b[39m}\u001b[39;00m\u001b[39mTest.npz\u001b[39m\u001b[39m'\u001b[39m, X_test\u001b[39m=\u001b[39mX_test, y_test\u001b[39m=\u001b[39my_test)\n",
      "File \u001b[0;32m<__array_function__ internals>:200\u001b[0m, in \u001b[0;36msavez_compressed\u001b[0;34m(*args, **kwargs)\u001b[0m\n",
      "File \u001b[0;32m/usr/lib/python3/dist-packages/numpy/lib/npyio.py:686\u001b[0m, in \u001b[0;36msavez_compressed\u001b[0;34m(file, *args, **kwds)\u001b[0m\n\u001b[1;32m    623\u001b[0m \u001b[39m@array_function_dispatch\u001b[39m(_savez_compressed_dispatcher)\n\u001b[1;32m    624\u001b[0m \u001b[39mdef\u001b[39;00m \u001b[39msavez_compressed\u001b[39m(file, \u001b[39m*\u001b[39margs, \u001b[39m*\u001b[39m\u001b[39m*\u001b[39mkwds):\n\u001b[1;32m    625\u001b[0m \u001b[39m    \u001b[39m\u001b[39m\"\"\"\u001b[39;00m\n\u001b[1;32m    626\u001b[0m \u001b[39m    Save several arrays into a single file in compressed ``.npz`` format.\u001b[39;00m\n\u001b[1;32m    627\u001b[0m \n\u001b[0;32m   (...)\u001b[0m\n\u001b[1;32m    684\u001b[0m \n\u001b[1;32m    685\u001b[0m \u001b[39m    \"\"\"\u001b[39;00m\n\u001b[0;32m--> 686\u001b[0m     _savez(file, args, kwds, \u001b[39mTrue\u001b[39;49;00m)\n",
      "File \u001b[0;32m/usr/lib/python3/dist-packages/numpy/lib/npyio.py:712\u001b[0m, in \u001b[0;36m_savez\u001b[0;34m(file, args, kwds, compress, allow_pickle, pickle_kwargs)\u001b[0m\n\u001b[1;32m    709\u001b[0m \u001b[39melse\u001b[39;00m:\n\u001b[1;32m    710\u001b[0m     compression \u001b[39m=\u001b[39m zipfile\u001b[39m.\u001b[39mZIP_STORED\n\u001b[0;32m--> 712\u001b[0m zipf \u001b[39m=\u001b[39m zipfile_factory(file, mode\u001b[39m=\u001b[39;49m\u001b[39m\"\u001b[39;49m\u001b[39mw\u001b[39;49m\u001b[39m\"\u001b[39;49m, compression\u001b[39m=\u001b[39;49mcompression)\n\u001b[1;32m    714\u001b[0m \u001b[39mfor\u001b[39;00m key, val \u001b[39min\u001b[39;00m namedict\u001b[39m.\u001b[39mitems():\n\u001b[1;32m    715\u001b[0m     fname \u001b[39m=\u001b[39m key \u001b[39m+\u001b[39m \u001b[39m'\u001b[39m\u001b[39m.npy\u001b[39m\u001b[39m'\u001b[39m\n",
      "File \u001b[0;32m/usr/lib/python3/dist-packages/numpy/lib/npyio.py:103\u001b[0m, in \u001b[0;36mzipfile_factory\u001b[0;34m(file, *args, **kwargs)\u001b[0m\n\u001b[1;32m    101\u001b[0m \u001b[39mimport\u001b[39;00m \u001b[39mzipfile\u001b[39;00m\n\u001b[1;32m    102\u001b[0m kwargs[\u001b[39m'\u001b[39m\u001b[39mallowZip64\u001b[39m\u001b[39m'\u001b[39m] \u001b[39m=\u001b[39m \u001b[39mTrue\u001b[39;00m\n\u001b[0;32m--> 103\u001b[0m \u001b[39mreturn\u001b[39;00m zipfile\u001b[39m.\u001b[39;49mZipFile(file, \u001b[39m*\u001b[39;49margs, \u001b[39m*\u001b[39;49m\u001b[39m*\u001b[39;49mkwargs)\n",
      "File \u001b[0;32m/usr/lib/python3.11/zipfile.py:1281\u001b[0m, in \u001b[0;36mZipFile.__init__\u001b[0;34m(self, file, mode, compression, allowZip64, compresslevel, strict_timestamps, metadata_encoding)\u001b[0m\n\u001b[1;32m   1279\u001b[0m \u001b[39mwhile\u001b[39;00m \u001b[39mTrue\u001b[39;00m:\n\u001b[1;32m   1280\u001b[0m     \u001b[39mtry\u001b[39;00m:\n\u001b[0;32m-> 1281\u001b[0m         \u001b[39mself\u001b[39m\u001b[39m.\u001b[39mfp \u001b[39m=\u001b[39m io\u001b[39m.\u001b[39;49mopen(file, filemode)\n\u001b[1;32m   1282\u001b[0m     \u001b[39mexcept\u001b[39;00m \u001b[39mOSError\u001b[39;00m:\n\u001b[1;32m   1283\u001b[0m         \u001b[39mif\u001b[39;00m filemode \u001b[39min\u001b[39;00m modeDict:\n",
      "\u001b[0;31mOSError\u001b[0m: [Errno 36] File name too long: './        patient_id   age  sex  height  weight  nurse  site      device  \\\\\\necg_id                                                                   \\n1          15709.0  56.0    1     NaN    63.0    2.0   0.0   CS-12   E   \\n2          13243.0  19.0    0     NaN    70.0    2.0   0.0   CS-12   E   \\n3          20372.0  37.0    1     NaN    69.0    2.0   0.0   CS-12   E   \\n4          17014.0  24.0    0     NaN    82.0    2.0   0.0   CS-12   E   \\n5          17448.0  19.0    1     NaN    70.0    2.0   0.0   CS-12   E   \\n...            ...   ...  ...     ...     ...    ...   ...         ...   \\n21833      17180.0  67.0    1     NaN     NaN    1.0   2.0  AT-60    3   \\n21834      20703.0  93.0    0     NaN     NaN    1.0   2.0  AT-60    3   \\n21835      19311.0  59.0    1     NaN     NaN    1.0   2.0  AT-60    3   \\n21836       8873.0  64.0    1     NaN     NaN    1.0   2.0  AT-60    3   \\n21837      11744.0  68.0    0     NaN     NaN    1.0   2.0  AT-60    3   \\n\\n             recording_date  \\\\\\necg_id                        \\n1       1984-11-09 09:17:34   \\n2       1984-11-14 12:55:37   \\n3       1984-11-15 12:49:10   \\n4       1984-11-15 13:44:57   \\n5       1984-11-17 10:43:15   \\n...                     ...   \\n21833   2001-05-31 09:14:35   \\n21834   2001-06-05 11:33:39   \\n21835   2001-06-08 10:30:27   \\n21836   2001-06-09 18:21:49   \\n21837   2001-06-11 16:43:01   \\n\\n                                                   report  ... diagnostic  \\\\\\necg_id                                                     ...              \\n1                  sinusrhythmus periphere niederspannung  ...     [NORM]   \\n2                     sinusbradykardie sonst normales ekg  ...     [NORM]   \\n3                              sinusrhythmus normales ekg  ...     [NORM]   \\n4                              sinusrhythmus normales ekg  ...     [NORM]   \\n5                              sinusrhythmus normales ekg  ...     [NORM]   \\n...                                                   ...  ...        ...   \\n21833   ventrikulÄre extrasystole(n) sinustachykardie ...  ...      [NDT]   \\n21834   sinusrhythmus lagetyp normal qrs(t) abnorm    ...  ...     [NORM]   \\n21835   sinusrhythmus lagetyp normal t abnorm in anter...  ...    [ISCAS]   \\n21836   supraventrikulÄre extrasystole(n) sinusrhythmu...  ...     [NORM]   \\n21837   sinusrhythmus p-sinistrocardiale lagetyp norma...  ...     [NORM]   \\n\\n       diagnostic_len subdiagnostic subdiagnostic_len  superdiagnostic  \\\\\\necg_id                                                                   \\n1                   1        [NORM]                 1           [NORM]   \\n2                   1        [NORM]                 1           [NORM]   \\n3                   1        [NORM]                 1           [NORM]   \\n4                   1        [NORM]                 1           [NORM]   \\n5                   1        [NORM]                 1           [NORM]   \\n...               ...           ...               ...              ...   \\n21833               1        [STTC]                 1           [STTC]   \\n21834               1        [NORM]                 1           [NORM]   \\n21835               1        [ISCA]                 1           [STTC]   \\n21836               1        [NORM]                 1           [NORM]   \\n21837               1        [NORM]                 1           [NORM]   \\n\\n        superdiagnostic_len               form  form_len   rhythm rhythm_len  \\necg_id                                                                        \\n1                         1            [LVOLT]         1     [SR]          1  \\n2                         1                 []         0  [SBRAD]          1  \\n3                         1                 []         0     [SR]          1  \\n4                         1                 []         0     [SR]          1  \\n5                         1                 []         0     [SR]          1  \\n...                     ...                ...       ...      ...        ...  \\n21833                     1  [VCLVH, NDT, PVC]         3  [STACH]          1  \\n21834                     1            [ABQRS]         1     [SR]          1  \\n21835                     1                 []         0     [SR]          1  \\n21836                     1                 []         0     [SR]          1  \\n21837                     1                 []         0     [SR]          1  \\n\\n[21837 rows x 38 columns]Train.npz'"
     ]
    }
   ],
   "source": [
    "test_fold = 10; val_fold = 9; train_fold = 8\n",
    "X_test = task_data[labels.strat_fold == test_fold]\n",
    "y_test = Y[labels.strat_fold == test_fold]\n",
    "# 9th fold for validation (8th for now)\n",
    "X_val = task_data[labels.strat_fold == val_fold]\n",
    "y_val = Y[labels.strat_fold == val_fold]\n",
    "# rest for training\n",
    "X_train = task_data[labels.strat_fold <= train_fold]\n",
    "y_train = Y[labels.strat_fold <= train_fold]\n",
    "\n",
    "# Preprocess signal data\n",
    "# X_train, X_val, X_test = preprocess_signals(X_train, X_val, X_test, outputfolder+experiment_name+'/data/')\n",
    "# n_classes = y_train.shape[1]\n",
    "\n",
    "# save train and test labels\n",
    "# y_train.dump(outputfolder + experiment_name+ '/data/y_train.npy')\n",
    "# y_val.dump(outputfolder + experiment_name+ '/data/y_val.npy')\n",
    "# y_test.dump(outputfolder + experiment_name+ '/data/y_test.npy')\n"
   ]
  },
  {
   "cell_type": "code",
   "execution_count": null,
   "metadata": {},
   "outputs": [],
   "source": [
    "X_train.shape, y_train.shape"
   ]
  },
  {
   "cell_type": "code",
   "execution_count": null,
   "metadata": {},
   "outputs": [],
   "source": [
    "np.savez_compressed(f'./{task_labels[task_idx]}Train.npz', X_train=X_train, y_train=y_train)\n",
    "np.savez_compressed(f'./{task_labels[task_idx]}Val.npz', X_val=X_val, y_val=y_val)\n",
    "np.savez_compressed(f'./{task_labels[task_idx]}Test.npz', X_test=X_test, y_test=y_test)"
   ]
  },
  {
   "cell_type": "code",
   "execution_count": null,
   "metadata": {},
   "outputs": [],
   "source": [
    "fig = plt.figure(figsize=(20, 10))\n",
    "plt.hist(y_train.ravel(), bins=100)\n",
    "plt.show()"
   ]
  },
  {
   "cell_type": "code",
   "execution_count": null,
   "metadata": {},
   "outputs": [],
   "source": []
  }
 ],
 "metadata": {
  "kernelspec": {
   "display_name": "Python 3",
   "language": "python",
   "name": "python3"
  },
  "language_info": {
   "codemirror_mode": {
    "name": "ipython",
    "version": 3
   },
   "file_extension": ".py",
   "mimetype": "text/x-python",
   "name": "python",
   "nbconvert_exporter": "python",
   "pygments_lexer": "ipython3",
   "version": "3.8.10"
  }
 },
 "nbformat": 4,
 "nbformat_minor": 2
}
