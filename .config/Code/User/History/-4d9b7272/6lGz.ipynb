{
 "cells": [
  {
   "cell_type": "code",
   "execution_count": 1,
   "metadata": {},
   "outputs": [
    {
     "name": "stderr",
     "output_type": "stream",
     "text": [
      "2023-12-08 15:31:17.081277: I tensorflow/core/util/port.cc:113] oneDNN custom operations are on. You may see slightly different numerical results due to floating-point round-off errors from different computation orders. To turn them off, set the environment variable `TF_ENABLE_ONEDNN_OPTS=0`.\n",
      "2023-12-08 15:31:17.247721: E external/local_xla/xla/stream_executor/cuda/cuda_dnn.cc:9261] Unable to register cuDNN factory: Attempting to register factory for plugin cuDNN when one has already been registered\n",
      "2023-12-08 15:31:17.247817: E external/local_xla/xla/stream_executor/cuda/cuda_fft.cc:607] Unable to register cuFFT factory: Attempting to register factory for plugin cuFFT when one has already been registered\n",
      "2023-12-08 15:31:17.274004: E external/local_xla/xla/stream_executor/cuda/cuda_blas.cc:1515] Unable to register cuBLAS factory: Attempting to register factory for plugin cuBLAS when one has already been registered\n",
      "2023-12-08 15:31:17.327921: I tensorflow/core/platform/cpu_feature_guard.cc:182] This TensorFlow binary is optimized to use available CPU instructions in performance-critical operations.\n",
      "To enable the following instructions: AVX2 AVX_VNNI FMA, in other operations, rebuild TensorFlow with the appropriate compiler flags.\n",
      "2023-12-08 15:31:18.164298: W tensorflow/compiler/tf2tensorrt/utils/py_utils.cc:38] TF-TRT Warning: Could not find TensorRT\n"
     ]
    },
    {
     "name": "stdout",
     "output_type": "stream",
     "text": [
      "Device: cuda\n"
     ]
    }
   ],
   "source": [
    "# torch and torchvision imports\n",
    "\n",
    "import torch, torch.nn as nn, torch.optim as optim\n",
    "from torchmetrics.classification import MultilabelAUROC\n",
    "import numpy as np,  matplotlib.pyplot as plt, pandas as pd, pickle\n",
    "from torchinfo import summary\n",
    "from torch.utils.tensorboard import SummaryWriter\n",
    "from ResnetModel import *\n",
    "from transformer import *\n",
    "writer = SummaryWriter()\n",
    "# from google.colab import drive\n",
    "# drive.mount('/gdrive')\n",
    "torch.set_default_dtype(torch.float32)\n",
    "device = torch.device('cuda' if torch.cuda.is_available() else 'cpu')\n",
    "print(f\"Device: {device}\")\n"
   ]
  },
  {
   "cell_type": "markdown",
   "metadata": {},
   "source": [
    "### Loading and Preparing Data"
   ]
  },
  {
   "cell_type": "code",
   "execution_count": 2,
   "metadata": {},
   "outputs": [
    {
     "name": "stderr",
     "output_type": "stream",
     "text": [
      "/tmp/ipykernel_22606/265309155.py:3: DtypeWarning: Columns (23) have mixed types. Specify dtype option on import or set low_memory=False.\n",
      "  y_train = pd.read_csv('./data/Y_train.csv')[['Diag', 'Form', 'Rhythm']].to_numpy()\n"
     ]
    }
   ],
   "source": [
    "X_train = torch.from_numpy(np.transpose(np.load('./data/X_train.npz')['arr_0'], axes = (0,2,1))).float()\n",
    "X_test = torch.from_numpy(np.transpose(np.load('./data/X_val.npz')['arr_0'], axes = (0,2,1))).float()\n",
    "y_train = pd.read_csv('./data/Y_train.csv')[['Diag', 'Form', 'Rhythm']].to_numpy()\n",
    "y_test = pd.read_csv('./data/Y_val.csv')[['Diag', 'Form', 'Rhythm']].to_numpy()"
   ]
  },
  {
   "cell_type": "code",
   "execution_count": 3,
   "metadata": {},
   "outputs": [],
   "source": [
    "y_train = torch.from_numpy(y_train).int()\n",
    "y_test = torch.from_numpy(y_test).int()"
   ]
  },
  {
   "cell_type": "code",
   "execution_count": 4,
   "metadata": {},
   "outputs": [
    {
     "name": "stdout",
     "output_type": "stream",
     "text": [
      "torch.Size([1, 12, 1000])\n"
     ]
    }
   ],
   "source": [
    "train_dataset = torch.utils.data.TensorDataset(X_train, y_train)\n",
    "test_dataset = torch.utils.data.TensorDataset(X_test, y_test)\n",
    "x = X_train[0:1]\n",
    "print(x.shape)"
   ]
  },
  {
   "cell_type": "markdown",
   "metadata": {},
   "source": [
    "### Creating the Transformer Model"
   ]
  },
  {
   "cell_type": "code",
   "execution_count": null,
   "metadata": {},
   "outputs": [],
   "source": [
    "\"\"\"Transformer needs X input as (seq_len, batch_size, channels)\"\"\"\n",
    "model = Transformer(nhead=12, num_classes=3, hidden_size=128, depth=3, seq_length=200).to(device)\n",
    "# resnetModel = ResNet(Bottleneck, [3, 4, 23, 3], num_classes=6).to(device)\n",
    "\n",
    "# resnetModel(X_train[0:1].to(device))\n",
    "print(summary(model.to(device), (1,200,12)))"
   ]
  },
  {
   "cell_type": "code",
   "execution_count": null,
   "metadata": {},
   "outputs": [],
   "source": [
    "(4*1024-23.86)/37.66 #Max batch size"
   ]
  },
  {
   "cell_type": "code",
   "execution_count": 5,
   "metadata": {},
   "outputs": [],
   "source": [
    "train_loader = torch.utils.data.DataLoader(train_dataset, batch_size=64, shuffle = True)\n",
    "test_loader = torch.utils.data.DataLoader(test_dataset, batch_size = 64, shuffle=True)"
   ]
  },
  {
   "cell_type": "code",
   "execution_count": 6,
   "metadata": {},
   "outputs": [],
   "source": [
    "\"\"\"Test AUC metric\"\"\"\n",
    "ml_auroc = MultilabelAUROC(num_labels=3, average=\"macro\", thresholds=None)\n",
    "# ml_auroc(model(X_train[0:10].to(device)), train_label_mapping[0:10].to(device).int())"
   ]
  },
  {
   "cell_type": "markdown",
   "metadata": {},
   "source": [
    "### Finding Max Learning rate"
   ]
  },
  {
   "cell_type": "code",
   "execution_count": null,
   "metadata": {},
   "outputs": [],
   "source": [
    "criterion = nn.BCELoss()\n",
    "epochs = 10\n",
    "model = Transformer(nhead=12, num_classes=3, drop_p=0.25, hidden_size=128, depth=3, seq_length=200).to(device)\n",
    "lr = 1e-6\n",
    "optimizer = optim.Adam(model.parameters(), lr = lr, weight_decay=1e-4)"
   ]
  },
  {
   "cell_type": "code",
   "execution_count": null,
   "metadata": {},
   "outputs": [],
   "source": [
    "train_loss = []\n",
    "lrs = []\n",
    "\n",
    "for i, (signal, labels) in enumerate(train_loader):\n",
    "    idx = np.random.randint(0, 1000-200)\n",
    "    signal = (signal[:, :, idx:idx+200]).to(device).transpose(0,1).transpose(0,2)\n",
    "    labels = labels.to(device)\n",
    "    output = model(signal)\n",
    "    loss = criterion(output, labels.float())\n",
    "    optimizer.zero_grad()\n",
    "    loss.backward()\n",
    "    train_loss.append(loss.item())\n",
    "    lrs.append(lr)\n",
    "    lr *= 1.1\n",
    "\n",
    "    for g in optimizer.param_groups:\n",
    "        g['lr'] = lr \n",
    "\n",
    "    optimizer.step()\n",
    "\n",
    "    if i > 200 or lr > 1:\n",
    "        break\n",
    "\n",
    "lrs = np.array(lrs)\n",
    "train_loss = np.array(train_loss)\n",
    "\n",
    "lr_max = lrs[np.where(train_loss == train_loss.min())[0]]\n",
    "\n",
    "fig = plt.figure()\n",
    "plt.plot(lrs, train_loss)\n",
    "plt.plot(lr_max, train_loss[lrs == lr_max], '.r')\n",
    "plt.show()\n"
   ]
  },
  {
   "cell_type": "code",
   "execution_count": null,
   "metadata": {},
   "outputs": [],
   "source": [
    "%matplotlib widget\n",
    "fig = plt.figure()\n",
    "plt.plot(lrs, train_loss)\n",
    "plt.plot(lr_max, train_loss[lrs == lr_max], '.r')\n",
    "plt.show()"
   ]
  },
  {
   "cell_type": "code",
   "execution_count": null,
   "metadata": {},
   "outputs": [],
   "source": [
    "%matplotlib widget\n",
    "fig = plt.figure()\n",
    "plt.plot(lrs, train_loss)\n",
    "plt.plot(lr_max, train_loss[lrs == lr_max], '.r')\n",
    "plt.show()"
   ]
  },
  {
   "cell_type": "code",
   "execution_count": null,
   "metadata": {},
   "outputs": [],
   "source": [
    "lr_max"
   ]
  },
  {
   "cell_type": "code",
   "execution_count": 7,
   "metadata": {},
   "outputs": [
    {
     "name": "stderr",
     "output_type": "stream",
     "text": [
      "/home/anirudhkailaje/.local/lib/python3.11/site-packages/torch/nn/modules/transformer.py:282: UserWarning: enable_nested_tensor is True, but self.use_nested_tensor is False because encoder_layer.self_attn.batch_first was not True(use batch_first for better inference performance)\n",
      "  warnings.warn(f\"enable_nested_tensor is True, but self.use_nested_tensor is False because {why_not_sparsity_fast_path}\")\n"
     ]
    }
   ],
   "source": [
    "lr_max = 0.0025/10\n",
    "lr = lr_max\n",
    "epochs = 10\n",
    "criterion = nn.BCELoss()\n",
    "model = Transformer(nhead=12, num_classes=3, drop_p=0.25, hidden_size=128, depth=3, seq_length=200).to(device)\n",
    "optimizer = optim.Adam(model.parameters(), lr = lr, weight_decay=1e-4)\n",
    "\n",
    "for g in optimizer.param_groups:\n",
    "    g['lr'] = lr"
   ]
  },
  {
   "cell_type": "code",
   "execution_count": 8,
   "metadata": {},
   "outputs": [
    {
     "data": {
      "image/png": "[encoded data removed]",
      "text/plain": [
       "<Figure size 640x480 with 1 Axes>"
      ]
     },
     "metadata": {},
     "output_type": "display_data"
    }
   ],
   "source": [
    "lrs = []\n",
    "t = 0\n",
    "steps_per_epoch = len(train_loader)\n",
    "T_max = steps_per_epoch*epochs\n",
    "T_0 = T_max/5 \n",
    "for t in range(T_max):\n",
    "    if t <= T_0:\n",
    "        lr = 10**(-5) + (t/T_0)*lr_max  \n",
    "    else: \n",
    "        lr = lr_max*np.cos((np.pi/2)*((t-T_0)/(T_max-T_0))) + 10**(-6)\n",
    "    lrs.append(lr)\n",
    "\n",
    "fig = plt.figure()\n",
    "plt.plot(lrs)\n",
    "plt.show()\n"
   ]
  },
  {
   "cell_type": "code",
   "execution_count": 9,
   "metadata": {},
   "outputs": [],
   "source": [
    "lr =lr_max"
   ]
  },
  {
   "cell_type": "code",
   "execution_count": 10,
   "metadata": {},
   "outputs": [
    {
     "data": {
      "text/plain": [
       "40"
      ]
     },
     "execution_count": 10,
     "metadata": {},
     "output_type": "execute_result"
    }
   ],
   "source": [
    "len(range(0,800,20))"
   ]
  },
  {
   "cell_type": "code",
   "execution_count": 11,
   "metadata": {},
   "outputs": [
    {
     "name": "stderr",
     "output_type": "stream",
     "text": [
      "/home/anirudhkailaje/.local/lib/python3.11/site-packages/torchmetrics/utilities/prints.py:43: UserWarning: No positive samples in targets, true positive value should be meaningless. Returning zero tensor in true positive score\n",
      "  warnings.warn(*args, **kwargs)  # noqa: B028\n"
     ]
    },
    {
     "name": "stdout",
     "output_type": "stream",
     "text": [
      "Step: 1/273  |  Train loss: 0.6619  |  Train AUC: 0.3900\n",
      "Step: 28/273  |  Train loss: 0.4562  |  Train AUC: 0.6656\n"
     ]
    },
    {
     "name": "stderr",
     "output_type": "stream",
     "text": [
      "/home/anirudhkailaje/.local/lib/python3.11/site-packages/torchmetrics/utilities/prints.py:43: UserWarning: No negative samples in targets, false positive value should be meaningless. Returning zero tensor in false positive score\n",
      "  warnings.warn(*args, **kwargs)  # noqa: B028\n"
     ]
    },
    {
     "name": "stdout",
     "output_type": "stream",
     "text": [
      "Step: 55/273  |  Train loss: 0.4315  |  Train AUC: 0.2737\n",
      "Step: 82/273  |  Train loss: 0.4125  |  Train AUC: 0.5056\n",
      "Step: 109/273  |  Train loss: 0.3745  |  Train AUC: 0.6225\n",
      "Step: 136/273  |  Train loss: 0.3124  |  Train AUC: 0.3757\n",
      "Step: 163/273  |  Train loss: 0.3263  |  Train AUC: 0.7457\n",
      "Step: 190/273  |  Train loss: 0.2879  |  Train AUC: 0.5465\n",
      "Step: 217/273  |  Train loss: 0.2625  |  Train AUC: 0.3738\n",
      "Step: 244/273  |  Train loss: 0.3064  |  Train AUC: 0.3020\n",
      "Step: 271/273  |  Train loss: 0.3559  |  Train AUC: 0.4699\n",
      "Step: 1/273  |  Train loss: 0.3925  |  Train AUC: 0.5451\n",
      "Step: 28/273  |  Train loss: 0.4144  |  Train AUC: 0.5869\n",
      "Step: 55/273  |  Train loss: 0.3276  |  Train AUC: 0.6804\n",
      "Step: 82/273  |  Train loss: 0.3959  |  Train AUC: 0.6248\n",
      "Step: 109/273  |  Train loss: 0.3037  |  Train AUC: 0.5414\n",
      "Step: 136/273  |  Train loss: 0.4741  |  Train AUC: 0.6231\n",
      "Step: 163/273  |  Train loss: 0.2924  |  Train AUC: 0.3818\n",
      "Step: 190/273  |  Train loss: 0.3249  |  Train AUC: 0.5992\n",
      "Step: 217/273  |  Train loss: 0.3714  |  Train AUC: 0.5609\n",
      "Step: 244/273  |  Train loss: 0.3362  |  Train AUC: 0.4950\n",
      "Step: 271/273  |  Train loss: 0.4466  |  Train AUC: 0.4743\n",
      "Step: 1/273  |  Train loss: 0.4633  |  Train AUC: 0.4732\n",
      "Step: 28/273  |  Train loss: 0.3897  |  Train AUC: 0.4385\n",
      "Step: 55/273  |  Train loss: 0.3291  |  Train AUC: 0.6971\n",
      "Step: 82/273  |  Train loss: 0.4517  |  Train AUC: 0.5031\n",
      "Step: 109/273  |  Train loss: 0.3422  |  Train AUC: 0.4753\n",
      "Step: 136/273  |  Train loss: 0.3261  |  Train AUC: 0.4560\n",
      "Step: 163/273  |  Train loss: 0.3488  |  Train AUC: 0.7045\n",
      "Step: 190/273  |  Train loss: 0.4880  |  Train AUC: 0.5359\n",
      "Step: 217/273  |  Train loss: 0.2935  |  Train AUC: 0.7174\n",
      "Step: 244/273  |  Train loss: 0.3464  |  Train AUC: 0.7037\n",
      "Step: 271/273  |  Train loss: 0.2500  |  Train AUC: 0.8144\n",
      "Step: 1/273  |  Train loss: 0.4106  |  Train AUC: 0.6149\n",
      "Step: 28/273  |  Train loss: 0.3405  |  Train AUC: 0.4448\n",
      "Step: 55/273  |  Train loss: 0.3543  |  Train AUC: 0.6180\n",
      "Step: 82/273  |  Train loss: 0.3076  |  Train AUC: 0.6099\n",
      "Step: 109/273  |  Train loss: 0.2316  |  Train AUC: 0.5318\n",
      "Step: 136/273  |  Train loss: 0.4092  |  Train AUC: 0.5802\n",
      "Step: 163/273  |  Train loss: 0.2786  |  Train AUC: 0.7927\n",
      "Step: 190/273  |  Train loss: 0.3986  |  Train AUC: 0.6377\n",
      "Step: 217/273  |  Train loss: 0.3631  |  Train AUC: 0.3972\n",
      "Step: 244/273  |  Train loss: 0.3102  |  Train AUC: 0.4141\n",
      "Step: 271/273  |  Train loss: 0.3150  |  Train AUC: 0.8618\n",
      "Step: 1/273  |  Train loss: 0.3158  |  Train AUC: 0.6129\n",
      "Step: 28/273  |  Train loss: 0.2836  |  Train AUC: 0.7603\n",
      "Step: 55/273  |  Train loss: 0.3278  |  Train AUC: 0.6419\n",
      "Step: 82/273  |  Train loss: 0.3155  |  Train AUC: 0.7529\n",
      "Step: 109/273  |  Train loss: 0.2916  |  Train AUC: 0.7357\n",
      "Step: 136/273  |  Train loss: 0.3250  |  Train AUC: 0.7148\n",
      "Step: 163/273  |  Train loss: 0.3022  |  Train AUC: 0.7287\n",
      "Step: 190/273  |  Train loss: 0.2810  |  Train AUC: 0.8333\n",
      "Step: 217/273  |  Train loss: 0.3137  |  Train AUC: 0.5960\n",
      "Step: 244/273  |  Train loss: 0.3097  |  Train AUC: 0.3896\n",
      "Step: 271/273  |  Train loss: 0.2571  |  Train AUC: 0.7561\n",
      "Step: 1/273  |  Train loss: 0.2783  |  Train AUC: 0.7342\n",
      "Step: 28/273  |  Train loss: 0.2582  |  Train AUC: 0.7790\n",
      "Step: 55/273  |  Train loss: 0.2852  |  Train AUC: 0.7037\n",
      "Step: 82/273  |  Train loss: 0.3720  |  Train AUC: 0.3219\n",
      "Step: 109/273  |  Train loss: 0.2971  |  Train AUC: 0.7182\n",
      "Step: 136/273  |  Train loss: 0.4178  |  Train AUC: 0.5739\n",
      "Step: 163/273  |  Train loss: 0.2902  |  Train AUC: 0.7007\n",
      "Step: 190/273  |  Train loss: 0.3327  |  Train AUC: 0.7318\n",
      "Step: 217/273  |  Train loss: 0.3328  |  Train AUC: 0.5496\n",
      "Step: 244/273  |  Train loss: 0.2785  |  Train AUC: 0.8825\n",
      "Step: 271/273  |  Train loss: 0.3137  |  Train AUC: 0.5235\n",
      "Step: 1/273  |  Train loss: 0.3239  |  Train AUC: 0.6304\n",
      "Step: 28/273  |  Train loss: 0.2536  |  Train AUC: 0.4856\n",
      "Step: 55/273  |  Train loss: 0.2527  |  Train AUC: 0.7770\n",
      "Step: 82/273  |  Train loss: 0.3336  |  Train AUC: 0.6463\n",
      "Step: 109/273  |  Train loss: 0.2753  |  Train AUC: 0.8700\n",
      "Step: 136/273  |  Train loss: 0.3630  |  Train AUC: 0.6155\n",
      "Step: 163/273  |  Train loss: 0.3322  |  Train AUC: 0.6039\n",
      "Step: 190/273  |  Train loss: 0.3131  |  Train AUC: 0.7007\n",
      "Step: 217/273  |  Train loss: 0.2561  |  Train AUC: 0.7995\n",
      "Step: 244/273  |  Train loss: 0.2588  |  Train AUC: 0.8326\n",
      "Step: 271/273  |  Train loss: 0.3145  |  Train AUC: 0.4768\n",
      "Step: 1/273  |  Train loss: 0.3431  |  Train AUC: 0.6702\n",
      "Step: 28/273  |  Train loss: 0.2966  |  Train AUC: 0.6786\n",
      "Step: 55/273  |  Train loss: 0.3082  |  Train AUC: 0.2485\n",
      "Step: 82/273  |  Train loss: 0.2513  |  Train AUC: 0.7602\n",
      "Step: 109/273  |  Train loss: 0.2411  |  Train AUC: 0.4720\n",
      "Step: 136/273  |  Train loss: 0.2882  |  Train AUC: 0.6509\n",
      "Step: 163/273  |  Train loss: 0.2496  |  Train AUC: 0.7551\n",
      "Step: 190/273  |  Train loss: 0.3667  |  Train AUC: 0.6272\n",
      "Step: 217/273  |  Train loss: 0.2743  |  Train AUC: 0.3782\n",
      "Step: 244/273  |  Train loss: 0.2292  |  Train AUC: 0.8233\n",
      "Step: 271/273  |  Train loss: 0.2504  |  Train AUC: 0.5022\n",
      "Step: 1/273  |  Train loss: 0.2083  |  Train AUC: 0.8712\n",
      "Step: 28/273  |  Train loss: 0.2759  |  Train AUC: 0.7286\n",
      "Step: 55/273  |  Train loss: 0.2940  |  Train AUC: 0.5200\n",
      "Step: 82/273  |  Train loss: 0.2873  |  Train AUC: 0.4735\n",
      "Step: 109/273  |  Train loss: 0.2544  |  Train AUC: 0.6910\n",
      "Step: 136/273  |  Train loss: 0.2733  |  Train AUC: 0.7911\n",
      "Step: 163/273  |  Train loss: 0.2993  |  Train AUC: 0.7913\n",
      "Step: 190/273  |  Train loss: 0.3593  |  Train AUC: 0.7232\n",
      "Step: 217/273  |  Train loss: 0.2365  |  Train AUC: 0.4253\n",
      "Step: 244/273  |  Train loss: 0.3020  |  Train AUC: 0.6683\n",
      "Step: 271/273  |  Train loss: 0.3229  |  Train AUC: 0.4841\n",
      "Step: 1/273  |  Train loss: 0.3872  |  Train AUC: 0.5888\n",
      "Step: 28/273  |  Train loss: 0.4516  |  Train AUC: 0.5876\n",
      "Step: 55/273  |  Train loss: 0.2916  |  Train AUC: 0.3873\n",
      "Step: 82/273  |  Train loss: 0.2769  |  Train AUC: 0.6981\n",
      "Step: 109/273  |  Train loss: 0.3429  |  Train AUC: 0.3948\n",
      "Step: 136/273  |  Train loss: 0.2841  |  Train AUC: 0.6368\n",
      "Step: 163/273  |  Train loss: 0.4152  |  Train AUC: 0.4733\n",
      "Step: 190/273  |  Train loss: 0.4081  |  Train AUC: 0.4894\n",
      "Step: 217/273  |  Train loss: 0.3094  |  Train AUC: 0.4476\n",
      "Step: 244/273  |  Train loss: 0.2526  |  Train AUC: 0.2430\n",
      "Step: 271/273  |  Train loss: 0.3050  |  Train AUC: 0.4763\n"
     ]
    }
   ],
   "source": [
    "t = 0\n",
    "steps_per_epoch = len(train_loader)\n",
    "T_max = steps_per_epoch*epochs\n",
    "T_0 = T_max/5 \n",
    "learning_rates = []\n",
    "train_losses = []\n",
    "\n",
    "for epoch in range(epochs):\n",
    "    for i, (signal, labels) in enumerate(train_loader):\n",
    "        idx = np.random.randint(0, 1000-200)\n",
    "        signal_sample = (signal[:, :, idx:idx+200]).to(device).transpose(0,1).transpose(0,2)\n",
    "        labels = labels.to(device)\n",
    "        optimizer.zero_grad()\n",
    "        outputs = model(signal_sample)\n",
    "        loss = criterion(outputs, labels.float())\n",
    "        loss.backward()\n",
    "        nn.utils.clip_grad_norm_(model.parameters(), 5)\n",
    "        if t <= T_0:\n",
    "            lr = 10**(-4) + (t/T_0)*lr_max  \n",
    "        else: \n",
    "            lr = lr_max*np.cos((np.pi/2)*((t-T_0)/(T_max-T_0))) + 10**(-6) \n",
    "\n",
    "        for g in optimizer.param_groups:\n",
    "            g['lr'] = lr \n",
    "        learning_rates.append(lr)\n",
    "        train_losses.append(loss.item())\n",
    "        optimizer.step()\n",
    "        t+=1\n",
    "        \n",
    "        train_AUC = ml_auroc(outputs, labels.int())\n",
    "        writer.add_scalar(\"Train_Loss\", loss, t)\n",
    "        writer.add_scalar(\"Learning rate\", lr, t)\n",
    "        writer.add_scalar(\"Batch Train AUC\", train_AUC, t)\n",
    "\n",
    "        if i%(len(train_loader)//10) == 0:\n",
    "            print(f\"Step: {i+1}/{len(train_loader)}  |  Train loss: {loss.item():.4f}  |  Train AUC: {train_AUC:.4f}\")\n",
    "           \n",
    "\n",
    "    # model.eval()\n",
    "    test_auc = 0\n",
    "    with torch.no_grad():\n",
    "        for i, (signal, labels) in enumerate(test_loader):\n",
    "            idx = np.random.randint(0, 1000-200)\n",
    "            signal = (signal[:, :, idx:idx+200]).to(device).transpose(0,1).transpose(0,2)\n",
    "            labels = labels.to(device)\n",
    "            outputs = model(signal)\n",
    "            test_auc += ml_auroc(outputs, labels.int())\n",
    "        test_auc /= len(test_loader)\n",
    "    writer.add_scalar(\"Test AUC\", test_auc, epoch)"
   ]
  },
  {
   "cell_type": "code",
   "execution_count": 12,
   "metadata": {},
   "outputs": [
    {
     "data": {
      "text/plain": [
       "3"
      ]
     },
     "execution_count": 12,
     "metadata": {},
     "output_type": "execute_result"
    }
   ],
   "source": [
    "epoch"
   ]
  },
  {
   "cell_type": "code",
   "execution_count": 13,
   "metadata": {},
   "outputs": [
    {
     "data": {
      "text/plain": [
       "34492"
      ]
     },
     "execution_count": 13,
     "metadata": {},
     "output_type": "execute_result"
    }
   ],
   "source": [
    "t"
   ]
  },
  {
   "cell_type": "code",
   "execution_count": 14,
   "metadata": {},
   "outputs": [],
   "source": [
    "with open('superclassmodel.pickle', 'wb') as f:\n",
    "    pickle.dump(model, f)"
   ]
  },
  {
   "cell_type": "code",
   "execution_count": null,
   "metadata": {},
   "outputs": [],
   "source": []
  }
 ],
 "metadata": {
  "kernelspec": {
   "display_name": "Python 3",
   "language": "python",
   "name": "python3"
  },
  "language_info": {
   "codemirror_mode": {
    "name": "ipython",
    "version": 3
   },
   "file_extension": ".py",
   "mimetype": "text/x-python",
   "name": "python",
   "nbconvert_exporter": "python",
   "pygments_lexer": "ipython3",
   "version": "3.11.2"
  }
 },
 "nbformat": 4,
 "nbformat_minor": 2
}
