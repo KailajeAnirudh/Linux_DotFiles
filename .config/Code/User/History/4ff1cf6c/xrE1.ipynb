{
 "cells": [
  {
   "cell_type": "code",
   "execution_count": 1,
   "metadata": {},
   "outputs": [],
   "source": [
    "import numpy as np\n",
    "import matplotlib.pyplot as plt\n",
    "import pandas as pd\n",
    "from scipy.optimize import fsolve\n",
    "from matplotlib.widgets import Button, Slider\n",
    "from matplotlib.widgets import Slider\n",
    "from super_cub import *"
   ]
  },
  {
   "cell_type": "code",
   "execution_count": 3,
   "metadata": {},
   "outputs": [],
   "source": [
    "\n",
    "\n",
    "params = AircraftParams(\n",
    "    bw=2.28,\n",
    "    cw=0.25,\n",
    "    a2dw=0.1,\n",
    "    alpha_0w=-4,\n",
    "    ew=0.9,\n",
    "    cd0w=0.007,\n",
    "    rw=0.002,\n",
    "    Cmw=-0.1,\n",
    "    bt=0.5,\n",
    "    ct=0.1,\n",
    "    cef=0.4*0.1,\n",
    "    lt=2.5,\n",
    "    tt=0.00635,\n",
    "    ih=0.,\n",
    "    et=0.99,\n",
    "    a2dt=0.1,\n",
    "    alpha_0t=-4,\n",
    "    epsilon0=0,\n",
    "    tau_e=0.7,\n",
    "    cd0t=0.007,\n",
    "    rt=0.002,\n",
    "    df=0.2,\n",
    "    lf=2,\n",
    "    htv=0.2,\n",
    "    ltv=0.8\n",
    ")\n",
    "\n"
   ]
  },
  {
   "cell_type": "code",
   "execution_count": 5,
   "metadata": {},
   "outputs": [
    {
     "ename": "AttributeError",
     "evalue": "'super_cub' object has no attribute 'et'",
     "output_type": "error",
     "traceback": [
      "\u001b[0;31m---------------------------------------------------------------------------\u001b[0m",
      "\u001b[0;31mAttributeError\u001b[0m                            Traceback (most recent call last)",
      "Cell \u001b[0;32mIn [5], line 1\u001b[0m\n\u001b[0;32m----> 1\u001b[0m airplane \u001b[38;5;241m=\u001b[39m \u001b[43msuper_cub\u001b[49m\u001b[43m(\u001b[49m\u001b[43mparams\u001b[49m\u001b[43m)\u001b[49m\n",
      "File \u001b[0;32m~/Documents/01_UPenn/05_MEAM5430/06_Homework6/super_cub.py:69\u001b[0m, in \u001b[0;36msuper_cub.__init__\u001b[0;34m(self, params)\u001b[0m\n\u001b[1;32m     67\u001b[0m \u001b[38;5;28mself\u001b[39m\u001b[38;5;241m.\u001b[39mSt \u001b[38;5;241m=\u001b[39m \u001b[38;5;28mself\u001b[39m\u001b[38;5;241m.\u001b[39mbt\u001b[38;5;241m*\u001b[39m\u001b[38;5;28mself\u001b[39m\u001b[38;5;241m.\u001b[39mct\n\u001b[1;32m     68\u001b[0m \u001b[38;5;28mself\u001b[39m\u001b[38;5;241m.\u001b[39mARt \u001b[38;5;241m=\u001b[39m \u001b[38;5;28mself\u001b[39m\u001b[38;5;241m.\u001b[39mbt\u001b[38;5;241m*\u001b[39m\u001b[38;5;241m*\u001b[39m\u001b[38;5;241m2\u001b[39m\u001b[38;5;241m/\u001b[39m\u001b[38;5;28mself\u001b[39m\u001b[38;5;241m.\u001b[39mSt\n\u001b[0;32m---> 69\u001b[0m \u001b[38;5;28mself\u001b[39m\u001b[38;5;241m.\u001b[39ma3dt \u001b[38;5;241m=\u001b[39m \u001b[38;5;28mself\u001b[39m\u001b[38;5;241m.\u001b[39ma2dt\u001b[38;5;241m/\u001b[39m(\u001b[38;5;241m1\u001b[39m\u001b[38;5;241m+\u001b[39m(\u001b[38;5;28mself\u001b[39m\u001b[38;5;241m.\u001b[39ma2dt)\u001b[38;5;241m/\u001b[39m(np\u001b[38;5;241m.\u001b[39mpi\u001b[38;5;241m*\u001b[39m\u001b[38;5;28;43mself\u001b[39;49m\u001b[38;5;241;43m.\u001b[39;49m\u001b[43met\u001b[49m\u001b[38;5;241m*\u001b[39m\u001b[38;5;28mself\u001b[39m\u001b[38;5;241m.\u001b[39mARt))\n\u001b[1;32m     71\u001b[0m \u001b[38;5;66;03m#Fuselage Parameters\u001b[39;00m\n\u001b[1;32m     72\u001b[0m \u001b[38;5;28mself\u001b[39m\u001b[38;5;241m.\u001b[39mdf \u001b[38;5;241m=\u001b[39m params\u001b[38;5;241m.\u001b[39mdf\n",
      "\u001b[0;31mAttributeError\u001b[0m: 'super_cub' object has no attribute 'et'"
     ]
    }
   ],
   "source": [
    "airplane = super_cub(params)"
   ]
  },
  {
   "cell_type": "code",
   "execution_count": null,
   "metadata": {},
   "outputs": [],
   "source": [
    "def generate_data():\n",
    "    alphas = np.linspace(-6.27, 15, 100)\n",
    "    del_e = np.linspace(-10, 10, 5)\n",
    "    Re_c = 500000\n",
    "    airplane = super_cub()\n",
    "    h = 0.4\n",
    "    Cms = np.zeros((len(del_e), len(alphas)))\n",
    "    Cls = np.zeros((len(del_e), len(alphas)))\n",
    "    Cds = np.zeros((len(del_e), len(alphas)))\n",
    "\n",
    "    for i in range(len(del_e)):\n",
    "        for j in range(len(alphas)):\n",
    "            Cms[i,j] = airplane.get_coefficients(alphas[j], del_e[i], Re_c, h)[0]\n",
    "            Cls[i,j] = airplane.get_coefficients(alphas[j], del_e[i], Re_c, h)[1]\n",
    "            Cds[i,j] = airplane.get_coefficients(alphas[j], del_e[i], Re_c, h)[2]\n",
    "        \n",
    "\n",
    "\n",
    "    # Define the del_e values\n",
    "    del_e_values = np.linspace(-10, 10, 5)\n",
    "    alpha_trim = np.linspace(-18,18, 100)\n",
    "    trim_cl = []\n",
    "    trim_cd = []\n",
    "\n",
    "    for alpha in alpha_trim:\n",
    "        f_CM = lambda x: airplane.get_coefficients(5, x, Re_c, h)[0]\n",
    "        del_e = fsolve(f_CM, 0)[0]\n",
    "        trim_cl.append(airplane.get_coefficients(alpha, del_e, Re_c, h)[1])\n",
    "        trim_cd.append(airplane.get_coefficients(alpha, del_e, Re_c, h)[2])\n",
    "\n",
    "    from scipy.optimize import curve_fit\n",
    "\n",
    "    def parabolic_function(x, cd0, K):\n",
    "        return cd0 + K*x**2\n",
    "\n",
    "    popt, _ = curve_fit(parabolic_function, trim_cl, trim_cd)\n",
    "    coefficients = np.polyfit(trim_cl, trim_cd, 2)\n",
    "\n",
    "    # Extract the coefficients\n",
    "    cd0 = popt[0]\n",
    "    K = popt[1]\n",
    "\n",
    " \n",
    "\n",
    "    return Cls, Cds, Cms, trim_cd, trim_cl, cd0, K"
   ]
  }
 ],
 "metadata": {
  "kernelspec": {
   "display_name": "Python 3",
   "language": "python",
   "name": "python3"
  },
  "language_info": {
   "codemirror_mode": {
    "name": "ipython",
    "version": 3
   },
   "file_extension": ".py",
   "mimetype": "text/x-python",
   "name": "python",
   "nbconvert_exporter": "python",
   "pygments_lexer": "ipython3",
   "version": "3.11.2"
  }
 },
 "nbformat": 4,
 "nbformat_minor": 2
}
