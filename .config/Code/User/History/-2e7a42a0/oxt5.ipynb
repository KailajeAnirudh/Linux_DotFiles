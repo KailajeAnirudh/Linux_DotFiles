{
 "cells": [
  {
   "cell_type": "code",
   "execution_count": null,
   "metadata": {},
   "outputs": [],
   "source": [
    "import os, numpy as np, matplotlib.pyplot as plt, matplotlib.pyplot as plt\n",
    "from PIL import Image\n",
    "\n",
    "def extract_frames(input_gif_path, output_folder):\n",
    "    with Image.open(input_gif_path) as img:\n",
    "        try:\n",
    "            img.save(output_folder, save_all=True, append_images=img, duration=1, loop=0)\n",
    "            print(f\"Frames extracted and saved to {output_folder}\")\n",
    "        except Exception as e:\n",
    "            print(f\"An error occurred: {e}\")\n"
   ]
  },
  {
   "cell_type": "code",
   "execution_count": null,
   "metadata": {},
   "outputs": [],
   "source": []
  }
 ],
 "metadata": {
  "kernelspec": {
   "display_name": "Python 3",
   "language": "python",
   "name": "python3"
  },
  "language_info": {
   "name": "python",
   "version": "3.11.2"
  }
 },
 "nbformat": 4,
 "nbformat_minor": 2
}
