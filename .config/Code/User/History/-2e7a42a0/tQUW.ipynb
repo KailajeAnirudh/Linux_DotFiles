{
 "cells": [
  {
   "cell_type": "code",
   "execution_count": 1,
   "metadata": {},
   "outputs": [],
   "source": [
    "import os, numpy as np, matplotlib.pyplot as plt, matplotlib.pyplot as plt\n",
    "from PIL import Image\n",
    "\n",
    "def extract_frames(input_gif_path, output_folder):\n",
    "    with Image.open(input_gif_path) as img:\n",
    "        try:\n",
    "            img.save(output_folder, save_all=True, append_images=img, duration=1, loop=0)\n",
    "            print(f\"Frames extracted and saved to {output_folder}\")\n",
    "        except Exception as e:\n",
    "            print(f\"An error occurred: {e}\")\n"
   ]
  },
  {
   "cell_type": "code",
   "execution_count": null,
   "metadata": {},
   "outputs": [],
   "source": [
    "input_gif_path = \"path/to/your/input.gif\"\n",
    "output_folder = \"path/to/your/output_folder/\"\n",
    "\n",
    "extract_frames(input_gif_path, output_folder)"
   ]
  }
 ],
 "metadata": {
  "kernelspec": {
   "display_name": "Python 3",
   "language": "python",
   "name": "python3"
  },
  "language_info": {
   "codemirror_mode": {
    "name": "ipython",
    "version": 3
   },
   "file_extension": ".py",
   "mimetype": "text/x-python",
   "name": "python",
   "nbconvert_exporter": "python",
   "pygments_lexer": "ipython3",
   "version": "3.11.2"
  }
 },
 "nbformat": 4,
 "nbformat_minor": 2
}
