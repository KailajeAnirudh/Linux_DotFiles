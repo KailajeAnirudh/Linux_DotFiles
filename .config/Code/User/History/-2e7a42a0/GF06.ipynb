{
 "cells": [
  {
   "cell_type": "code",
   "execution_count": null,
   "metadata": {},
   "outputs": [],
   "source": [
    "import os, numpy as np, matplotlib.pyplot as plt, matplotlib.pyplot as plt, matplotlib.ticker as ticker, matplotlib.colors as colors, matplotlib.cm as cm, matplotlib.patches as patches, matplotlib.gridspec as gridspec, matplotlib.patheffects as path_effects, matplotlib.patches as mpatches, matplotlib.lines as mlines, matplotlib.patches as mpatches, matplotlib.ticker as ticker, matplotlib.colors as colors, matplotlib.cm as cm, matplotlib.patches as patches, matplotlib.gridspec as gridspec, matplotlib.patheffects as path_effects, matplotlib."
   ]
  }
 ],
 "metadata": {
  "language_info": {
   "name": "python"
  }
 },
 "nbformat": 4,
 "nbformat_minor": 2
}
