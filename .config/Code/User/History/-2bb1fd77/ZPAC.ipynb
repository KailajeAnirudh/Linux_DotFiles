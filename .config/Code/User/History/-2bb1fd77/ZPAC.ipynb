{
 "cells": [
  {
   "cell_type": "code",
   "execution_count": 1,
   "metadata": {},
   "outputs": [
    {
     "name": "stderr",
     "output_type": "stream",
     "text": [
      "2023-12-11 12:24:40.310966: I tensorflow/core/util/port.cc:113] oneDNN custom operations are on. You may see slightly different numerical results due to floating-point round-off errors from different computation orders. To turn them off, set the environment variable `TF_ENABLE_ONEDNN_OPTS=0`.\n",
      "2023-12-11 12:24:40.559244: E external/local_xla/xla/stream_executor/cuda/cuda_dnn.cc:9261] Unable to register cuDNN factory: Attempting to register factory for plugin cuDNN when one has already been registered\n",
      "2023-12-11 12:24:40.559375: E external/local_xla/xla/stream_executor/cuda/cuda_fft.cc:607] Unable to register cuFFT factory: Attempting to register factory for plugin cuFFT when one has already been registered\n",
      "2023-12-11 12:24:40.586437: E external/local_xla/xla/stream_executor/cuda/cuda_blas.cc:1515] Unable to register cuBLAS factory: Attempting to register factory for plugin cuBLAS when one has already been registered\n",
      "2023-12-11 12:24:40.648336: I tensorflow/core/platform/cpu_feature_guard.cc:182] This TensorFlow binary is optimized to use available CPU instructions in performance-critical operations.\n",
      "To enable the following instructions: AVX2 AVX_VNNI FMA, in other operations, rebuild TensorFlow with the appropriate compiler flags.\n",
      "2023-12-11 12:24:41.984197: W tensorflow/compiler/tf2tensorrt/utils/py_utils.cc:38] TF-TRT Warning: Could not find TensorRT\n"
     ]
    },
    {
     "name": "stdout",
     "output_type": "stream",
     "text": [
      "Device: cuda\n"
     ]
    }
   ],
   "source": [
    "# torch and torchvision imports\n",
    "\n",
    "import torch, torch.nn as nn, torch.optim as optim\n",
    "from torchmetrics.classification import MultilabelAUROC\n",
    "import numpy as np,  matplotlib.pyplot as plt, pandas as pd, pickle\n",
    "from torchinfo import summary\n",
    "from torch.utils.tensorboard import SummaryWriter\n",
    "from ResnetModel import *\n",
    "writer = SummaryWriter()\n",
    "# from google.colab import drive\n",
    "# drive.mount('/gdrive')\n",
    "\n",
    "device = torch.device('cuda' if torch.cuda.is_available() else 'cpu')\n",
    "print(f\"Device: {device}\")\n"
   ]
  },
  {
   "cell_type": "markdown",
   "metadata": {},
   "source": [
    "### Loading and Preparing Data"
   ]
  },
  {
   "cell_type": "code",
   "execution_count": 2,
   "metadata": {},
   "outputs": [],
   "source": [
    "X_train = np.load('/home/anirudhkailaje/Documents/01_UPenn/01_ESE5460/03_Project/ptb-xl-a-large-publicly-available-electrocardiography-dataset-1.0.1/Datasets/FormTrain.npz')['x']\n",
    "X_train = torch.from_numpy(np.transpose(X_train, (0, 2, 1))).float()\n",
    "y_train = np.load('/home/anirudhkailaje/Documents/01_UPenn/01_ESE5460/03_Project/ptb-xl-a-large-publicly-available-electrocardiography-dataset-1.0.1/Datasets/FormTrain.npz')['y']\n",
    "X_test = np.load('/home/anirudhkailaje/Documents/01_UPenn/01_ESE5460/03_Project/ptb-xl-a-large-publicly-available-electrocardiography-dataset-1.0.1/Datasets/FormVal.npz')['x']\n",
    "X_test = torch.from_numpy(np.transpose(X_test, (0, 2, 1))).float()\n",
    "y_test = np.load('/home/anirudhkailaje/Documents/01_UPenn/01_ESE5460/03_Project/ptb-xl-a-large-publicly-available-electrocardiography-dataset-1.0.1/Datasets/FormVal.npz')['y']\n",
    "y_train = torch.from_numpy(y_train).float()\n",
    "y_test = torch.from_numpy(y_test).float()"
   ]
  },
  {
   "cell_type": "code",
   "execution_count": 6,
   "metadata": {},
   "outputs": [
    {
     "data": {
      "image/png": "[encoded data removed]",
      "text/plain": [
       "<Figure size 1000x1000 with 1 Axes>"
      ]
     },
     "metadata": {},
     "output_type": "display_data"
    }
   ],
   "source": [
    "y_train.ravel()\n",
    "\n",
    "fig = plt.figure(figsize=(10, 10))\n",
    "plt.hist(y_train.ravel(), bins=40)\n",
    "plt.title('Histogram of Labels')\n",
    "plt.xlabel('Label')\n",
    "plt.ylabel('Frequency')\n",
    "plt.show()"
   ]
  },
  {
   "cell_type": "code",
   "execution_count": 3,
   "metadata": {},
   "outputs": [
    {
     "name": "stdout",
     "output_type": "stream",
     "text": [
      "torch.Size([1, 12, 1000])\n"
     ]
    }
   ],
   "source": [
    "# X_train = torch.from_numpy(np.transpose(np.load('X_train.npy'), axes = (0,2,1))).float()\n",
    "# X_test = torch.from_numpy(np.transpose(np.load('X_test.npy'), axes = (0,2,1))).float()\n",
    "# y_train = pd.read_pickle('y_train.pickle').to_numpy()\n",
    "# y_test = pd.read_pickle('y_test.pickle').to_numpy()\n",
    "\n",
    "# class_list = []\n",
    "# for classes in y_train:\n",
    "#     class_list += classes \n",
    "# class_list = set(class_list)\n",
    "# class_list\n",
    "# diagSupclassDict = {val:i for i, val in enumerate(class_list)}\n",
    "# diagSupclassDict['Nodiag'] = 5\n",
    "# print(diagSupclassDict)\n",
    "\n",
    "# train_label_mapping = torch.zeros((X_train.shape[0], len(diagSupclassDict)))\n",
    "# print(f\"-\"*(1+30+5+35))\n",
    "# for i, classes in enumerate(y_train):\n",
    "#     for diagclass in classes:\n",
    "#         train_label_mapping[i, diagSupclassDict[diagclass]] = 1\n",
    "#     if len(classes) == 0:\n",
    "#         train_label_mapping[i, diagSupclassDict['Nodiag']] = 1\n",
    "    \n",
    "#     print(f\"|  {str(y_train[i]):>30}  |  {str(train_label_mapping[i]):<30}   |\")\n",
    "\n",
    "# test_label_mapping = torch.zeros((X_test.shape[0], len(diagSupclassDict)))\n",
    "# print(f\"-\"*(1+30+5+35))\n",
    "# for i, classes in enumerate(y_test):\n",
    "#     for diagclass in classes:\n",
    "#         test_label_mapping[i, diagSupclassDict[diagclass]] = 1\n",
    "#     if len(classes) == 0:\n",
    "#         test_label_mapping[i, diagSupclassDict['Nodiag']] = 1\n",
    "    \n",
    "#     print(f\"|  {str(y_train[i]):>30}  |  {str(test_label_mapping[i]):<30}   |\")\n",
    "\n",
    "train_dataset = torch.utils.data.TensorDataset(X_train, y_train)\n",
    "test_dataset = torch.utils.data.TensorDataset(X_test, y_test)\n",
    "x = X_train[0:1]\n",
    "print(x.shape)"
   ]
  },
  {
   "cell_type": "markdown",
   "metadata": {},
   "source": [
    "### Creating the Resnet Model"
   ]
  },
  {
   "cell_type": "code",
   "execution_count": null,
   "metadata": {},
   "outputs": [],
   "source": [
    "y_train.shape"
   ]
  },
  {
   "cell_type": "code",
   "execution_count": null,
   "metadata": {},
   "outputs": [],
   "source": [
    "model = ResNet(Bottleneck, [3, 4, 23, 3], num_classes=19).float()\n",
    "print(summary(model.to(device), (1,12,1000)))"
   ]
  },
  {
   "cell_type": "code",
   "execution_count": null,
   "metadata": {},
   "outputs": [],
   "source": [
    "(4*1024-107.88)/107.88 #Max batch size"
   ]
  },
  {
   "cell_type": "code",
   "execution_count": 4,
   "metadata": {},
   "outputs": [],
   "source": [
    "train_loader = torch.utils.data.DataLoader(train_dataset, batch_size=64, shuffle = True)\n",
    "test_loader = torch.utils.data.DataLoader(test_dataset, batch_size = 64, shuffle=True)"
   ]
  },
  {
   "cell_type": "code",
   "execution_count": 5,
   "metadata": {},
   "outputs": [],
   "source": [
    "\"\"\"Test AUC metric\"\"\"\n",
    "ml_auroc = MultilabelAUROC(num_labels=y_train.shape[1], average=\"macro\", thresholds=None)\n",
    "# ml_auroc(model(X_train[0:10].to(device)), train_label_mapping[0:10].to(device).int())"
   ]
  },
  {
   "cell_type": "markdown",
   "metadata": {},
   "source": [
    "### Finding Max Learning rate"
   ]
  },
  {
   "cell_type": "code",
   "execution_count": 6,
   "metadata": {},
   "outputs": [],
   "source": [
    "criterion = nn.BCELoss()\n",
    "epochs = 10\n",
    "model = model = ResNet(Bottleneck, [3, 4, 23, 3], num_classes=19).float()\n",
    "model = model.to(device)\n",
    "lr = 1e-6\n",
    "optimizer = optim.Adam(model.parameters(), lr = lr, weight_decay=1e-4)"
   ]
  },
  {
   "cell_type": "code",
   "execution_count": 7,
   "metadata": {},
   "outputs": [
    {
     "data": {
      "image/png": "[encoded data removed]",
      "text/plain": [
       "<Figure size 640x480 with 1 Axes>"
      ]
     },
     "metadata": {},
     "output_type": "display_data"
    }
   ],
   "source": [
    "train_loss = []\n",
    "lrs = []\n",
    "\n",
    "while lr < 1:\n",
    "    for i, (signal, labels) in enumerate(train_loader):\n",
    "        signal = signal.to(device)\n",
    "        labels = labels.to(device)\n",
    "        output = model(signal)\n",
    "        loss = criterion(output, labels)\n",
    "        optimizer.zero_grad()\n",
    "        loss.backward()\n",
    "        train_loss.append(loss.item())\n",
    "        lrs.append(lr)\n",
    "        lr *= 1.1\n",
    "\n",
    "        for g in optimizer.param_groups:\n",
    "            g['lr'] = lr \n",
    "\n",
    "        optimizer.step()\n",
    "\n",
    "        if i > 200 or lr > 1:\n",
    "            break\n",
    "\n",
    "lrs = np.array(lrs)\n",
    "train_loss = np.array(train_loss)\n",
    "\n",
    "lr_max = lrs[np.where(train_loss == train_loss.min())[0]]\n",
    "\n",
    "fig = plt.figure()\n",
    "plt.plot(lrs, train_loss)\n",
    "plt.plot(lr_max, train_loss[lrs == lr_max], '.r')\n",
    "plt.show()\n"
   ]
  },
  {
   "cell_type": "code",
   "execution_count": null,
   "metadata": {},
   "outputs": [],
   "source": [
    "lrs[-1]"
   ]
  },
  {
   "cell_type": "code",
   "execution_count": 8,
   "metadata": {},
   "outputs": [
    {
     "data": {
      "application/vnd.jupyter.widget-view+json": {
       "model_id": "a5f645261d3a45998b2c35145eefa800",
       "version_major": 2,
       "version_minor": 0
      },
      "image/png": "[encoded data removed]",
      "text/html": [
       "\n",
       "            <div style=\"display: inline-block;\">\n",
       "                <div class=\"jupyter-widgets widget-label\" style=\"text-align: center;\">\n",
       "                    Figure\n",
       "                </div>\n",
       "                <img src='data:image/png;base64,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' width=640.0/>\n",
       "            </div>\n",
       "        "
      ],
      "text/plain": [
       "Canvas(toolbar=Toolbar(toolitems=[('Home', 'Reset original view', 'home', 'home'), ('Back', 'Back to previous …"
      ]
     },
     "metadata": {},
     "output_type": "display_data"
    }
   ],
   "source": [
    "%matplotlib widget\n",
    "fig = plt.figure()\n",
    "plt.plot(lrs, train_loss)\n",
    "plt.plot(lr_max, train_loss[lrs == lr_max], '.r')\n",
    "plt.show()"
   ]
  },
  {
   "cell_type": "code",
   "execution_count": 9,
   "metadata": {},
   "outputs": [
    {
     "data": {
      "text/plain": [
       "array([0.02017619])"
      ]
     },
     "execution_count": 9,
     "metadata": {},
     "output_type": "execute_result"
    }
   ],
   "source": [
    "lr_max"
   ]
  },
  {
   "cell_type": "code",
   "execution_count": 10,
   "metadata": {},
   "outputs": [],
   "source": [
    "lr_max = 0.135/10\n",
    "lr = lr_max\n",
    "epochs = 10\n",
    "criterion = nn.BCELoss()\n",
    "epochs = 10\n",
    "model = model = ResNet(Bottleneck, [3, 4, 23, 3], num_classes=19).float()\n",
    "model = model.to(device)\n",
    "optimizer = optim.Adam(model.parameters(), lr = lr, weight_decay=1e-4)\n",
    "\n",
    "for g in optimizer.param_groups:\n",
    "    g['lr'] = lr"
   ]
  },
  {
   "cell_type": "code",
   "execution_count": null,
   "metadata": {},
   "outputs": [],
   "source": [
    "lrs = []\n",
    "t = 0\n",
    "steps_per_epoch = len(train_loader)\n",
    "T_max = steps_per_epoch*epochs\n",
    "T_0 = T_max/5 \n",
    "for t in range(T_max):\n",
    "    if t <= T_0:\n",
    "        lr = 10**(-4) + (t/T_0)*lr_max  \n",
    "    else: \n",
    "        lr = lr_max*np.cos((np.pi/2)*((t-T_0)/(T_max-T_0))) + 10**(-6)\n",
    "    lrs.append(lr)\n",
    "\n",
    "fig = plt.figure()\n",
    "plt.plot(lrs)\n",
    "plt.show()\n"
   ]
  },
  {
   "cell_type": "code",
   "execution_count": null,
   "metadata": {},
   "outputs": [],
   "source": [
    "lr =lr_max"
   ]
  },
  {
   "cell_type": "code",
   "execution_count": 18,
   "metadata": {},
   "outputs": [
    {
     "name": "stderr",
     "output_type": "stream",
     "text": [
      "/home/anirudhkailaje/.local/lib/python3.11/site-packages/torchmetrics/utilities/prints.py:43: UserWarning: No positive samples in targets, true positive value should be meaningless. Returning zero tensor in true positive score\n",
      "  warnings.warn(*args, **kwargs)  # noqa: B028\n"
     ]
    },
    {
     "name": "stdout",
     "output_type": "stream",
     "text": [
      "Step: 1/44  |  Train loss: 0.0868  |  Train AUC: 0.1968\n",
      "Step: 1/44  |  Train loss: 0.0803  |  Train AUC: 0.2416\n",
      "Step: 1/44  |  Train loss: 0.0780  |  Train AUC: 0.1727\n",
      "Step: 1/44  |  Train loss: 0.0825  |  Train AUC: 0.2535\n",
      "Step: 1/44  |  Train loss: 0.0909  |  Train AUC: 0.2607\n",
      "Step: 1/44  |  Train loss: 0.0641  |  Train AUC: 0.2772\n",
      "Step: 1/44  |  Train loss: 0.0652  |  Train AUC: 0.2280\n",
      "Step: 1/44  |  Train loss: 0.0759  |  Train AUC: 0.2114\n",
      "Step: 1/44  |  Train loss: 0.0816  |  Train AUC: 0.1911\n",
      "Step: 1/44  |  Train loss: 0.0653  |  Train AUC: 0.2211\n"
     ]
    }
   ],
   "source": [
    "t = 0\n",
    "steps_per_epoch = len(train_loader)\n",
    "T_max = steps_per_epoch*epochs\n",
    "T_0 = T_max/5 \n",
    "learning_rates = []\n",
    "train_losses = []\n",
    "\n",
    "for epoch in range(epochs):\n",
    "    for i, (signal, labels) in enumerate(train_loader):\n",
    "        signal = signal.to(device); labels = labels.to(device)\n",
    "        optimizer.zero_grad()\n",
    "        outputs = model(signal)\n",
    "        loss = criterion(outputs, labels)\n",
    "        loss.backward()\n",
    "        nn.utils.clip_grad_norm_(model.parameters(), 5)\n",
    "        if t <= T_0:\n",
    "            lr = 10**(-4) + (t/T_0)*lr_max  \n",
    "        else: \n",
    "            lr = lr_max*np.cos((np.pi/2)*((t-T_0)/(T_max-T_0))) + 10**(-6) \n",
    "\n",
    "        for g in optimizer.param_groups:\n",
    "            g['lr'] = lr \n",
    "        learning_rates.append(lr)\n",
    "        train_losses.append(loss.item())\n",
    "        optimizer.step()\n",
    "        t+=1\n",
    "        \n",
    "        train_AUC = ml_auroc(outputs, (labels>0).int())\n",
    "        writer.add_scalar(\"Train_Loss\", loss, t)\n",
    "        writer.add_scalar(\"Learning rate\", lr, t)\n",
    "        writer.add_scalar(\"Batch Train AUC\", train_AUC, t)\n",
    "\n",
    "        if i%100 == 0:\n",
    "            print(f\"Step: {i+1}/{len(train_loader)}  |  Train loss: {loss.item():.4f}  |  Train AUC: {train_AUC:.4f}\")\n",
    "           \n",
    "\n",
    "    # model.eval()\n",
    "    test_auc = 0\n",
    "    with torch.no_grad():\n",
    "        for i, (signal, labels) in enumerate(test_loader):\n",
    "            signal = signal.to(device); labels = labels.to(device)\n",
    "            outputs = model(signal)\n",
    "            test_auc += ml_auroc(outputs, (labels>0).int())\n",
    "        test_auc /= len(test_loader)\n",
    "    writer.add_scalar(\"Test AUC\", test_auc, epoch)"
   ]
  },
  {
   "cell_type": "code",
   "execution_count": 17,
   "metadata": {},
   "outputs": [
    {
     "data": {
      "text/plain": [
       "tensor([0, 0, 0, 0, 0, 0, 0, 0, 0, 0, 0, 0, 0, 0, 0, 0, 0, 0, 0, 0, 0, 0, 0, 0,\n",
       "        0, 0, 0, 0, 0, 0, 0, 0, 0, 0, 0, 0, 0, 0, 0, 0, 0, 0, 0, 0, 0, 0, 0, 0,\n",
       "        0, 0, 0, 0, 0, 0, 0, 0, 0, 0, 0, 0, 0, 0, 0, 0, 0, 0, 0, 0, 0, 0, 0, 0,\n",
       "        0, 0, 0, 0, 0, 0, 0, 0, 0, 0, 0, 0], dtype=torch.int32)"
      ]
     },
     "execution_count": 17,
     "metadata": {},
     "output_type": "execute_result"
    }
   ],
   "source": [
    "y_train[(y_train>0) & (y_train!=1)].int()"
   ]
  },
  {
   "cell_type": "code",
   "execution_count": null,
   "metadata": {},
   "outputs": [],
   "source": [
    "model.eval()\n",
    "test_Auc = 0\n",
    "with torch.no_grad():\n",
    "    for i, (signal, labels) in enumerate(test_loader):\n",
    "        signal = signal.to(device); labels = labels.to(device)\n",
    "        outputs = model(signal)\n",
    "        test_Auc += ml_auroc(outputs, labels.int())\n",
    "\n",
    "test_Auc /= len(test_loader)\n",
    "test_Auc\n",
    "        "
   ]
  },
  {
   "cell_type": "code",
   "execution_count": null,
   "metadata": {},
   "outputs": [],
   "source": [
    "import pickle"
   ]
  },
  {
   "cell_type": "code",
   "execution_count": null,
   "metadata": {},
   "outputs": [],
   "source": [
    "with open('resnet101_model.pickle', 'wb') as f:\n",
    "    pickle.dump(model, f)"
   ]
  },
  {
   "cell_type": "code",
   "execution_count": null,
   "metadata": {},
   "outputs": [],
   "source": [
    "class PositionalEncoding(nn.Module):\n",
    "    def __init__(self, max_len=1000, emb_size=12):\n",
    "        super(PositionalEncoding, self).__init__()\n",
    "\n",
    "        pe = torch.zeros(max_len, emb_size)\n",
    "        position = torch.arange(0, max_len, dtype=torch.float).unsqueeze(1)\n",
    "        div_term = torch.exp(torch.arange(0, emb_size, 2).float() * (-np.log(10000.0) / emb_size))\n",
    "        pe[:, 0::2] = torch.sin(position * div_term)\n",
    "        pe[:, 1::2] = torch.cos(position * div_term)\n",
    "        pe = pe.unsqueeze(0).transpose(0, 1)\n",
    "        self.register_buffer(\"pe\", pe)\n",
    "\n",
    "    def forward(self, x):\n",
    "        return x + self.pe[:x.size(0), :]\n",
    "\n",
    "class Transformer(nn.Transformer):\n",
    "    def __init__(self, emb_size=12, nhead=6, depth=6, hidden_size=128, seq_length=1000, num_classes=5):\n",
    "        super(Transformer, self).__init__(d_model=emb_size, nhead=nhead, num_encoder_layers=depth, num_decoder_layers=depth, dim_feedforward=hidden_size)\n",
    "    \n",
    "        self.pos_encoder = PositionalEncoding(seq_length, emb_size)\n",
    "        self.decoder = nn.Linear(emb_size, 256)\n",
    "        self.linear1 = nn.Linear(256, 512)\n",
    "        self.linear2 = nn.Linear(512, 1024)\n",
    "        self.linear3 = nn.Linear(1024, num_classes)\n",
    "        \n",
    "    def __forward_impl(self, x):\n",
    "        #x = self.pos_encoder(x)\n",
    "        x = self.encoder(x)\n",
    "        x = x.mean(dim=1)\n",
    "        x = self.decoder(x)\n",
    "        x = torch.relu(x)\n",
    "        x = self.linear1(x)\n",
    "        x = torch.relu(x)\n",
    "        x = self.linear2(x)\n",
    "        x = torch.relu(x)\n",
    "        x = self.linear3(x)\n",
    "        x = torch.sigmoid(x)\n",
    "        return x\n",
    "    \n",
    "    def forward(self, x):\n",
    "        return self.__forward_impl(x)\n",
    "    \n",
    "model = Transformer(nhead=6, hidden_size=512, depth=3).to(device)\n",
    "\n",
    "model(X_train[0].T.unsqueeze(0))"
   ]
  },
  {
   "cell_type": "code",
   "execution_count": null,
   "metadata": {},
   "outputs": [],
   "source": [
    "X_train[0].T.shape"
   ]
  },
  {
   "cell_type": "code",
   "execution_count": null,
   "metadata": {},
   "outputs": [],
   "source": [
    "model = Transformer(nhead=6, hidden_size=512, depth=3).to(device)\n",
    "print(summary(model, [1000, 12]))"
   ]
  },
  {
   "cell_type": "code",
   "execution_count": null,
   "metadata": {},
   "outputs": [],
   "source": [
    "summary(model.to(device), (1,1000, 12))"
   ]
  },
  {
   "cell_type": "code",
   "execution_count": null,
   "metadata": {},
   "outputs": [],
   "source": [
    "512*1024+512"
   ]
  },
  {
   "cell_type": "code",
   "execution_count": null,
   "metadata": {},
   "outputs": [],
   "source": [
    "\"\"\"Transformer needs X input as (seq_len, batch_size, channels)\"\"\"\n",
    "model = Transformer(nhead=6, hidden_size=512, depth=3).to(device)\n",
    "# resnetModel = ResNet(Bottleneck, [3, 4, 23, 3], num_classes=6).to(device)\n",
    "\n",
    "# resnetModel(X_train[0:1].to(device))\n",
    "print(\"Forward pass\")\n",
    "X_train = X_train.transpose(0,1).transpose(0,2)\n",
    "model(X_train[:, :17, :].to(device))"
   ]
  }
 ],
 "metadata": {
  "kernelspec": {
   "display_name": "Python 3",
   "language": "python",
   "name": "python3"
  },
  "language_info": {
   "codemirror_mode": {
    "name": "ipython",
    "version": 3
   },
   "file_extension": ".py",
   "mimetype": "text/x-python",
   "name": "python",
   "nbconvert_exporter": "python",
   "pygments_lexer": "ipython3",
   "version": "3.11.2"
  }
 },
 "nbformat": 4,
 "nbformat_minor": 2
}
