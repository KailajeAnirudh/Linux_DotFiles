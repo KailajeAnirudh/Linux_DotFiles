{
 "cells": [
  {
   "cell_type": "code",
   "execution_count": 1,
   "metadata": {},
   "outputs": [
    {
     "ename": "ModuleNotFoundError",
     "evalue": "No module named 'preflight'",
     "output_type": "error",
     "traceback": [
      "\u001b[0;31m---------------------------------------------------------------------------\u001b[0m",
      "\u001b[0;31mModuleNotFoundError\u001b[0m                       Traceback (most recent call last)",
      "\u001b[1;32mUntitled-1.ipynb Cell 1\u001b[0m line \u001b[0;36m9\n\u001b[1;32m      <a href='vscode-notebook-cell:Untitled-1.ipynb?jupyter-notebook#W0sdW50aXRsZWQ%3D?line=2'>3</a>\u001b[0m \u001b[39mfrom\u001b[39;00m \u001b[39mIPython\u001b[39;00m\u001b[39m.\u001b[39;00m\u001b[39mdisplay\u001b[39;00m \u001b[39mimport\u001b[39;00m SVG, display\n\u001b[1;32m      <a href='vscode-notebook-cell:Untitled-1.ipynb?jupyter-notebook#W0sdW50aXRsZWQ%3D?line=4'>5</a>\u001b[0m \u001b[39mfrom\u001b[39;00m \u001b[39mpydrake\u001b[39;00m\u001b[39m.\u001b[39;00m\u001b[39mall\u001b[39;00m \u001b[39mimport\u001b[39;00m Simulator, DiagramBuilder, AddMultibodyPlantSceneGraph,\\\n\u001b[1;32m      <a href='vscode-notebook-cell:Untitled-1.ipynb?jupyter-notebook#W0sdW50aXRsZWQ%3D?line=5'>6</a>\u001b[0m                         Parser, RigidTransform, MeshcatVisualizer, MeshcatVisualizerParams, \\\n\u001b[1;32m      <a href='vscode-notebook-cell:Untitled-1.ipynb?jupyter-notebook#W0sdW50aXRsZWQ%3D?line=6'>7</a>\u001b[0m                         ConstantVectorSource, ConstantValueSource, PiecewisePolynomial,\\\n\u001b[1;32m      <a href='vscode-notebook-cell:Untitled-1.ipynb?jupyter-notebook#W0sdW50aXRsZWQ%3D?line=7'>8</a>\u001b[0m                         AbstractValue, HalfSpace, CoulombFriction\n\u001b[0;32m----> <a href='vscode-notebook-cell:Untitled-1.ipynb?jupyter-notebook#W0sdW50aXRsZWQ%3D?line=8'>9</a>\u001b[0m \u001b[39mfrom\u001b[39;00m \u001b[39mpreflight\u001b[39;00m \u001b[39mimport\u001b[39;00m dircol\n\u001b[1;32m     <a href='vscode-notebook-cell:Untitled-1.ipynb?jupyter-notebook#W0sdW50aXRsZWQ%3D?line=9'>10</a>\u001b[0m \u001b[39mfrom\u001b[39;00m \u001b[39mflight\u001b[39;00m \u001b[39mimport\u001b[39;00m flight\n\u001b[1;32m     <a href='vscode-notebook-cell:Untitled-1.ipynb?jupyter-notebook#W0sdW50aXRsZWQ%3D?line=10'>11</a>\u001b[0m \u001b[39mfrom\u001b[39;00m \u001b[39mlanding\u001b[39;00m \u001b[39mimport\u001b[39;00m landing\n",
      "\u001b[0;31mModuleNotFoundError\u001b[0m: No module named 'preflight'"
     ]
    }
   ],
   "source": [
    "import pydot\n",
    "import numpy as np\n",
    "from IPython.display import SVG, display\n",
    "\n",
    "from pydrake.all import Simulator, DiagramBuilder, AddMultibodyPlantSceneGraph,\\\n",
    "                        Parser, RigidTransform, MeshcatVisualizer, MeshcatVisualizerParams, \\\n",
    "                        ConstantVectorSource, ConstantValueSource, PiecewisePolynomial,\\\n",
    "                        AbstractValue, HalfSpace, CoulombFriction\n",
    "from preflight import dircol\n",
    "from flight import flight\n",
    "from landing import landing\n",
    "from phase_switch import PhaseSwitch\n",
    "\n",
    "from osc_modified import OperationalSpaceWalkingController\n",
    "\n",
    "from pydrake.all import StartMeshcat, BasicVector, LogVectorOutput\n",
    "import matplotlib.pyplot as plt"
   ]
  },
  {
   "cell_type": "code",
   "execution_count": null,
   "metadata": {},
   "outputs": [],
   "source": []
  }
 ],
 "metadata": {
  "kernelspec": {
   "display_name": "Python 3",
   "language": "python",
   "name": "python3"
  },
  "language_info": {
   "codemirror_mode": {
    "name": "ipython",
    "version": 3
   },
   "file_extension": ".py",
   "mimetype": "text/x-python",
   "name": "python",
   "nbconvert_exporter": "python",
   "pygments_lexer": "ipython3",
   "version": "3.11.2"
  }
 },
 "nbformat": 4,
 "nbformat_minor": 2
}
