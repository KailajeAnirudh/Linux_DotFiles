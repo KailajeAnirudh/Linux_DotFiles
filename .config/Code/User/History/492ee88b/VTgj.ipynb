{
  "cells": [
    {
      "cell_type": "code",
      "execution_count": 1,
      "metadata": {
        "id": "a9LJFb4k6bEt"
      },
      "outputs": [
        {
          "name": "stderr",
          "output_type": "stream",
          "text": [
            "2023-11-22 21:55:28.482644: I tensorflow/core/util/port.cc:113] oneDNN custom operations are on. You may see slightly different numerical results due to floating-point round-off errors from different computation orders. To turn them off, set the environment variable `TF_ENABLE_ONEDNN_OPTS=0`.\n",
            "2023-11-22 21:55:28.515744: E external/local_xla/xla/stream_executor/cuda/cuda_dnn.cc:9261] Unable to register cuDNN factory: Attempting to register factory for plugin cuDNN when one has already been registered\n",
            "2023-11-22 21:55:28.515779: E external/local_xla/xla/stream_executor/cuda/cuda_fft.cc:607] Unable to register cuFFT factory: Attempting to register factory for plugin cuFFT when one has already been registered\n",
            "2023-11-22 21:55:28.516607: E external/local_xla/xla/stream_executor/cuda/cuda_blas.cc:1515] Unable to register cuBLAS factory: Attempting to register factory for plugin cuBLAS when one has already been registered\n",
            "2023-11-22 21:55:28.521434: I tensorflow/core/platform/cpu_feature_guard.cc:182] This TensorFlow binary is optimized to use available CPU instructions in performance-critical operations.\n",
            "To enable the following instructions: AVX2 AVX_VNNI FMA, in other operations, rebuild TensorFlow with the appropriate compiler flags.\n",
            "2023-11-22 21:55:29.093997: W tensorflow/compiler/tf2tensorrt/utils/py_utils.cc:38] TF-TRT Warning: Could not find TensorRT\n"
          ]
        }
      ],
      "source": [
        "import numpy as np \n",
        "import tensorflow \n",
        "from tensorflow.keras.datasets import mnist\n",
        "import matplotlib.pyplot as plt\n",
        "import cv2\n",
        "import matplotlib.pyplot as plot"
      ]
    },
    {
      "cell_type": "markdown",
      "metadata": {
        "id": "kPkwW2yfFGh7"
      },
      "source": [
        "(a) We will use the MNIST dataset for tranining and testing here. "
      ]
    },
    {
      "cell_type": "code",
      "execution_count": 2,
      "metadata": {
        "colab": {
          "base_uri": "https://localhost:8080/"
        },
        "id": "rAvtHoCT8VhG",
        "outputId": "9542aa67-3394-4c6f-c577-4f27765c84c6"
      },
      "outputs": [
        {
          "name": "stderr",
          "output_type": "stream",
          "text": [
            "/tmp/ipykernel_3547179/321430160.py:52: RuntimeWarning: invalid value encountered in divide\n",
            "  x_tr = np.nan_to_num(np.array(x_tr)/np.sum(x_tr,axis=0))\n",
            "/tmp/ipykernel_3547179/321430160.py:53: RuntimeWarning: invalid value encountered in divide\n",
            "  x_te = np.nan_to_num(np.array(x_te)/np.sum(x_tr,axis=0))\n"
          ]
        }
      ],
      "source": [
        "(X_train, Y_train), (X_test, Y_test) = mnist.load_data() \n",
        "train_idx_0 = np.argwhere(Y_train==0)\n",
        "train_idx_1 = np.argwhere(Y_train==1)\n",
        "test_idx_0 = np.argwhere(Y_test==0)\n",
        "test_idx_1 = np.argwhere(Y_test==1)\n",
        "x_train = [] \n",
        "y_train = [] \n",
        "x_test = [] \n",
        "y_test = [] \n",
        "for i in range(len(train_idx_0)):\n",
        "  idx = train_idx_0[i][0]\n",
        "  temp = cv2.resize(X_train[idx], (14,14))\n",
        "  x_train.append(temp.flatten())\n",
        "  y_train.append(Y_train[idx])\n",
        "\n",
        "for i in range(len(train_idx_1)):\n",
        "  idx = train_idx_1[i][0]\n",
        "  temp = cv2.resize(X_train[idx], (14,14))\n",
        "  x_train.append(temp.flatten())\n",
        "  y_train.append(Y_train[idx])\n",
        "\n",
        "for i in range(len(test_idx_0)):\n",
        "  idx = test_idx_0[i][0]\n",
        "  temp = cv2.resize(X_test[idx], (14,14))\n",
        "  x_test.append(temp.flatten())\n",
        "  y_test.append(Y_test[idx])\n",
        "\n",
        "for i in range(len(test_idx_1)):\n",
        "  idx = test_idx_1[i][0]\n",
        "  temp = cv2.resize(X_test[idx], (14,14))\n",
        "  x_test.append(temp.flatten())\n",
        "  y_test.append(Y_test[idx])\n",
        "\n",
        "x_train = np.array(x_train)\n",
        "y_train = np.array(y_train)\n",
        "x_test = np.array(x_test)\n",
        "y_test = np.array(y_test)\n",
        "idx_train=np.array(range(len(y_train)))\n",
        "idx_test=np.array(range(len(y_test)))\n",
        "np.random.shuffle(idx_train)\n",
        "np.random.shuffle(idx_test)\n",
        "x_tr = []\n",
        "x_te = []\n",
        "y_tr = []\n",
        "y_te = []\n",
        "for i in range(len(idx_train)):\n",
        "  x_tr.append(x_train[idx_train[i]].flatten())\n",
        "  y_tr.append(y_train[idx_train[i]])\n",
        "for i in range(len(idx_test)):\n",
        "  x_te.append(x_test[idx_test[i]].flatten())\n",
        "  y_te.append(y_test[idx_test[i]])\n",
        "x_tr = np.nan_to_num(np.array(x_tr)/np.sum(x_tr,axis=0)) \n",
        "x_te = np.nan_to_num(np.array(x_te)/np.sum(x_tr,axis=0)) \n",
        "y_tr = np.array(y_tr)\n",
        "y_te = np.array(y_te)\n",
        "y_train = [] \n",
        "y_test = [] \n",
        "for i in range(len(y_tr)): \n",
        "  if y_tr[i] == 1:\n",
        "    y_train.append(-1)\n",
        "  else:\n",
        "     y_train.append(1)\n",
        "\n",
        "for i in range(len(y_te)): \n",
        "  if y_te[i] == 1:\n",
        "    y_test.append(-1)\n",
        "  else:\n",
        "     y_test.append(1)\n",
        "y_tr = np.array(y_train)\n",
        "y_te = np.array(y_test)"
      ]
    },
    {
      "cell_type": "markdown",
      "metadata": {
        "id": "o9juecrvjvwo"
      },
      "source": [
        "(b) "
      ]
    },
    {
      "cell_type": "markdown",
      "metadata": {
        "id": "4nSpufeIx04Q"
      },
      "source": [
        "Funtion grad_h implements the gradient for logistic regression. Function train_gd trains the model with a gradient descent algorithm. Function loss computes the logistic loss. "
      ]
    },
    {
      "cell_type": "code",
      "execution_count": 3,
      "metadata": {
        "id": "fgHCDBTYjw81"
      },
      "outputs": [],
      "source": [
        "def grad_h(w,x,y,lam,w0): \n",
        "  ##Paramaters: \n",
        "  # w: weight matrix (cxd array)\n",
        "  # x: data matrix (nxd array)\n",
        "  # y: true label array (nx1 array)\n",
        "  # lam: regularization constant (constant)\n",
        "  # w0: bias matrix (cxn array)\n",
        "  #Output: grad (cxd array)\n",
        "  n = np.shape(x)[0]\n",
        "  grad = -(1/n)*np.matmul(x.T,((y*(np.exp(-y*(np.matmul(w,x.T)+w0)))).T) /(np.exp(-y*(np.matmul(w,x.T)+w0))+1).T)+lam*w.T\n",
        "  return grad.T\n",
        "\n",
        "def get_grad(w, lambda_i, X, Y, w0 = 0):\n",
        "    print(w.shape, X.shape, Y.shape, w0)\n",
        "    sigmoid_arg = np.exp(-Y*(X@w + w0))\n",
        "    sigmoid = sigmoid_arg/(1+sigmoid_arg)\n",
        "    grad = -(1/X.shape[0])* sigmoid@(Y[:, np.newaxis]*X)+ lambda_i*w\n",
        "    gradw0 = -Y*sigmoid*(1/X.shape[0]) + lambda_i*w0\n",
        "    return grad, gradw0\n",
        "\n",
        "def get_loss(w, lambda_i, X, Y, w0 = 0):\n",
        "    print(w.shape, lambda_i, X.shape, Y.shape, w0)\n",
        "    loss = (1/X.shape[0])*(np.log(1+np.exp(-Y*(X@w + w0)))).sum(axis = 0) + (lambda_i/2)*(np.linalg.norm(w)**2 + w0**2)\n",
        "    return loss \n",
        "\n",
        "def train_gd(x_tr, y_tr, lam, lr, n_iter, w0=0,w_0 = None):\n",
        "  ##Paramaters: \n",
        "  # x_tr: data matrix (nxd array)\n",
        "  # y_tr: true label array (nx1 array)\n",
        "  # lam: regularization constant (constant)\n",
        "  # lr: learning rate \n",
        "  # n_iter: number of iteration steps \n",
        "  # w0: bias matrix (cxn array)\n",
        "  #Output: grad (cxd array)\n",
        "  c = 2   \n",
        "  d = np.shape(x_tr)[1]\n",
        "  w = w_0 or np.random.rand(c,d)\n",
        "  w_all = []\n",
        "  t = 0 \n",
        "  while t <= n_iter: \n",
        "    # print(w.shape)\n",
        "    # if (np.all(np.abs(grad_h(w, x_tr, y_tr, lam, w0)[0] - get_grad(w[0], lam, x_tr, y_tr, 0)) < 1e-3)) == False:\n",
        "    #    print(\"False\")\n",
        "    \n",
        "    w = w - lr*grad_h(w,x_tr,y_tr,lam,w0)\n",
        "    w_all.append(w)\n",
        "    t += 1 \n",
        "  return np.array(w_all) \n",
        "\n",
        "def train_gd2(x_tr, y_tr, lam, lr, n_iter, w0=0,w_0 = None):\n",
        "  ##Paramaters: \n",
        "  # x_tr: data matrix (nxd array)\n",
        "  # y_tr: true label array (nx1 array)\n",
        "  # lam: regularization constant (constant)\n",
        "  # lr: learning rate \n",
        "  # n_iter: number of iteration steps \n",
        "  # w0: bias matrix (cxn array)\n",
        "  #Output: grad (cxd array)\n",
        "  c = 2   \n",
        "  d = np.shape(x_tr)[1]\n",
        "  wt = np.random.standard_normal((14*14))\n",
        "  w0 = 0\n",
        "  w_all = []\n",
        "  w0_all = []\n",
        "  t = 0 \n",
        "  while t <= n_iter: \n",
        "    gradw, gradw0 = get_grad(w=wt, X= x_tr, Y= y_tr, lambda_i=lam, w0 = w0)\n",
        "    wt = wt - lr*gradw\n",
        "    w0 = w0 - lr*gradw0\n",
        "    w_all.append(wt)\n",
        "    w0_all.append(w0)\n",
        "    t += 1 \n",
        "  return np.array(w_all), np.array(w0_all) \n",
        "\n",
        "def loss(w, x, y, lam, w0=0):\n",
        "  ##Paramaters: \n",
        "  # x_tr: data matrix (nxd array)\n",
        "  # y_tr: true label array (nx1 array)\n",
        "  # lam: regularization constant (constant)\n",
        "  # lr: learning rate \n",
        "  # n_iter: number of iteration steps \n",
        "  # w0: bias matrix (cxn array)\n",
        "  #Output: grad (cxd array)\n",
        "  l1 = np.sum(np.log(1 + np.exp(-y*(np.matmul(w,x.T)+w0))+1),axis=1)/np.shape(y_tr)[0] \n",
        "  l2 = (lam/2)*((np.linalg.norm(w)*np.linalg.norm(w)) + (np.linalg.norm(w0)*np.linalg.norm(w0)))\n",
        "  return l1 + l2\n",
        "\n",
        "def logit(w, x, w0=0):\n",
        "  ##Paramaters: \n",
        "  # x_tr: data matrix (nxd array)\n",
        "  # y_tr: true label array (nx1 array)\n",
        "  # lam: regularization constant (constant)\n",
        "  # lr: learning rate \n",
        "  # n_iter: number of iteration steps \n",
        "  # w0: bias matrix (cxn array)\n",
        "  #Output: grad (cxd array)\n",
        "  y_0 = 1 \n",
        "  y_1 = -1 \n",
        "  p = lambda x, y, w, w0: (np.exp(-y*(np.matmul(w,x.T)+w0))+1)**(-1)\n",
        "  prob = np.array([p(x,y_0,w,w0),p(x,y_1,w,w0)]) \n",
        "  idx = np.argmax(prob)\n",
        "  return idx \n",
        "\n",
        "def get_grad(w, lambda_i, X, Y, w0 = 0):\n",
        "    sigmoid_arg = np.exp(-Y*(X@w + w0))\n",
        "    sigmoid = sigmoid_arg/(1+sigmoid_arg)\n",
        "    grad = -(1/X.shape[0])* sigmoid@(Y[:, np.newaxis]*X)+ lambda_i*w\n",
        "    gradw0 = -(Y*sigmoid*(1/X.shape[0])).sum() + lambda_i*w0\n",
        "    return grad, gradw0\n",
        "\n",
        "def get_loss(w, lambda_i, X, Y, w0 = 0):\n",
        "    loss = (1/X.shape[0])*(np.log(1+np.exp(-Y*(X@w + w0)))).sum(axis = 0) + (lambda_i/2)*(np.linalg.norm(w)**2 + w0**2)\n",
        "    return loss\n"
      ]
    },
    {
      "cell_type": "markdown",
      "metadata": {
        "id": "GVWrLbt2yM9b"
      },
      "source": [
        "Trained weights now produced. Regularization constant varied, learning rate set to 0.01, trained over 50 time-steps."
      ]
    },
    {
      "cell_type": "code",
      "execution_count": 4,
      "metadata": {
        "id": "kHFuO5rqSggy"
      },
      "outputs": [],
      "source": [
        "lambdas = [0.01, 0.1,1,10,20,30,40,50,70] ##regularization parameter \n",
        "w_d = 0.01 ##learning rate \n",
        "T_max = 50  #max iterations \n",
        "w_all_1= train_gd(x_tr, y_tr, lambdas[0], w_d, T_max)\n",
        "w_all_2= train_gd(x_tr, y_tr, lambdas[1], w_d, T_max)\n",
        "w_all_3= train_gd(x_tr, y_tr, lambdas[2], w_d, T_max)\n",
        "w_all_4= train_gd(x_tr, y_tr, lambdas[3], w_d, T_max)\n",
        "w_all_5= train_gd(x_tr, y_tr, lambdas[4], w_d, T_max)\n",
        "w_all_6= train_gd(x_tr, y_tr, lambdas[5], w_d, T_max)\n",
        "w_all_7= train_gd(x_tr, y_tr, lambdas[6], w_d, T_max)\n",
        "loss_tr_1 = [loss(w,x_tr, y_tr, lambdas[0])[0] for w in w_all_1]\n",
        "loss_tr_2 = [loss(w,x_tr, y_tr, lambdas[1])[0] for w in w_all_2]\n",
        "loss_tr_3 = [loss(w,x_tr, y_tr, lambdas[2])[0] for w in w_all_3]\n",
        "loss_tr_4 = [loss(w,x_tr, y_tr, lambdas[3])[0] for w in w_all_4]\n",
        "loss_tr_5 = [loss(w,x_tr, y_tr, lambdas[4])[0] for w in w_all_5]\n",
        "loss_tr_6 = [loss(w,x_tr, y_tr, lambdas[5])[0] for w in w_all_6]\n",
        "loss_tr_7 = [loss(w,x_tr, y_tr, lambdas[6])[0] for w in w_all_7]"
      ]
    },
    {
      "cell_type": "code",
      "execution_count": 5,
      "metadata": {},
      "outputs": [],
      "source": [
        "w_all_1_a, w0_all_1 = train_gd2(x_tr, y_tr, lambdas[0], w_d, T_max)\n",
        "w_all_2_a, w0_all_2 = train_gd2(x_tr, y_tr, lambdas[1], w_d, T_max)\n",
        "w_all_3_a, w0_all_3 = train_gd2(x_tr, y_tr, lambdas[2], w_d, T_max)\n",
        "w_all_4_a, w0_all_4 = train_gd2(x_tr, y_tr, lambdas[3], w_d, T_max)\n",
        "w_all_5_a, w0_all_5 = train_gd2(x_tr, y_tr, lambdas[4], w_d, T_max)\n",
        "w_all_6_a, w0_all_6 = train_gd2(x_tr, y_tr, lambdas[5], w_d, T_max)\n",
        "w_all_7_a, w0_all_7 = train_gd2(x_tr, y_tr, lambdas[6], w_d, T_max)"
      ]
    },
    {
      "cell_type": "code",
      "execution_count": 6,
      "metadata": {},
      "outputs": [],
      "source": [
        "loss_tr_1_a = [get_loss(w=w,X=x_tr, Y=y_tr, lambda_i=lambdas[0], w0=w0) for w, w0 in zip(w_all_1_a, w0_all_1)]\n",
        "loss_tr_2_a = [get_loss(w=w,X=x_tr, Y=y_tr, lambda_i=lambdas[1], w0=w0) for w, w0 in zip(w_all_2_a, w0_all_2)]\n",
        "loss_tr_3_a = [get_loss(w=w,X=x_tr, Y=y_tr, lambda_i=lambdas[2], w0=w0) for w, w0 in zip(w_all_3_a, w0_all_3)]\n",
        "loss_tr_4_a = [get_loss(w=w,X=x_tr, Y=y_tr, lambda_i=lambdas[3], w0=w0) for w, w0 in zip(w_all_4_a, w0_all_4)]\n",
        "loss_tr_5_a = [get_loss(w=w,X=x_tr, Y=y_tr, lambda_i=lambdas[4], w0=w0) for w, w0 in zip(w_all_5_a, w0_all_5)]\n",
        "loss_tr_6_a = [get_loss(w=w,X=x_tr, Y=y_tr, lambda_i=lambdas[5], w0=w0) for w, w0 in zip(w_all_6_a, w0_all_6)]\n",
        "loss_tr_7_a = [get_loss(w=w,X=x_tr, Y=y_tr, lambda_i=lambdas[6], w0=w0) for w, w0 in zip(w_all_7_a, w0_all_7)]"
      ]
    },
    {
      "cell_type": "markdown",
      "metadata": {
        "id": "3Ko3FoRhya9h"
      },
      "source": [
        "Gradient descent training loss plotted over iteration number in semi-log scale. Shows initial linear drop, prior to convergence. "
      ]
    },
    {
      "cell_type": "code",
      "execution_count": 7,
      "metadata": {
        "colab": {
          "base_uri": "https://localhost:8080/",
          "height": 279
        },
        "id": "jBdQQlzAdYS4",
        "outputId": "22f43b8b-96da-4dfa-d2c3-f49f3f52c0a4"
      },
      "outputs": [
        {
          "data": {
            "image/png": "[encoded data removed]",
            "text/plain": [
              "<Figure size 640x480 with 1 Axes>"
            ]
          },
          "metadata": {},
          "output_type": "display_data"
        }
      ],
      "source": [
        "t_rng = np.array(range(len(w_all_1))) \n",
        "legend_labels = [f'$\\lambda = {lam}$' for lam in lambdas]\n",
        "plot.semilogy(t_rng, loss_tr_1)\n",
        "plot.semilogy(t_rng, loss_tr_2)\n",
        "plot.semilogy(t_rng, loss_tr_3)\n",
        "plot.semilogy(t_rng, loss_tr_4)\n",
        "plot.semilogy(t_rng, loss_tr_5)\n",
        "plot.semilogy(t_rng, loss_tr_6)\n",
        "plot.semilogy(t_rng, loss_tr_7)\n",
        "plot.legend(legend_labels)\n",
        "plot.ylabel('Training loss [log-scale]')\n",
        "plot.xlabel('Iteration number')\n",
        "plot.show()"
      ]
    },
    {
      "cell_type": "code",
      "execution_count": 8,
      "metadata": {},
      "outputs": [
        {
          "data": {
            "application/vnd.jupyter.widget-view+json": {
              "model_id": "e7bdfbede5c04ca9a42801b9d708e259",
              "version_major": 2,
              "version_minor": 0
            },
            "image/png": "[encoded data removed]",
            "text/html": [
              "\n",
              "            <div style=\"display: inline-block;\">\n",
              "                <div class=\"jupyter-widgets widget-label\" style=\"text-align: center;\">\n",
              "                    Figure\n",
              "                </div>\n",
              "                <img src='data:image/png;base64,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' width=640.0/>\n",
              "            </div>\n",
              "        "
            ],
            "text/plain": [
              "Canvas(toolbar=Toolbar(toolitems=[('Home', 'Reset original view', 'home', 'home'), ('Back', 'Back to previous …"
            ]
          },
          "metadata": {},
          "output_type": "display_data"
        }
      ],
      "source": [
        "%matplotlib widget\n",
        "t_rng = np.array(range(len(w_all_1_a))) \n",
        "legend_labels = [f'$\\lambda = {lam}$' for lam in lambdas]\n",
        "plot.plot(t_rng, np.log(loss_tr_1_a))\n",
        "plot.plot(t_rng, np.log(loss_tr_2_a))\n",
        "plot.plot(t_rng, np.log(loss_tr_3_a))\n",
        "plot.plot(t_rng, np.log(loss_tr_4_a))\n",
        "plot.plot(t_rng, np.log(loss_tr_5_a))\n",
        "plot.plot(t_rng, np.log(loss_tr_6_a))\n",
        "plot.plot(t_rng, np.log(loss_tr_7_a))\n",
        "plot.legend(legend_labels)\n",
        "plot.ylabel('Training loss [log-scale]')\n",
        "plot.xlabel('Iteration number')\n",
        "plot.show()"
      ]
    },
    {
      "cell_type": "markdown",
      "metadata": {
        "id": "IY2AXklxgTkN"
      },
      "source": [
        "From this, we can extract the slope for each loss function as done below (in log-scale).  \n",
        "\n",
        "---\n",
        "\n"
      ]
    },
    {
      "cell_type": "code",
      "execution_count": null,
      "metadata": {
        "id": "0734DLM9gpEN"
      },
      "outputs": [],
      "source": [
        "fit_1 = z = np.polyfit(t_rng[0:20], np.log(loss_tr_1[0:20]), 1)\n",
        "fit_2 = z = np.polyfit(t_rng[0:20], np.log(loss_tr_2[0:20]), 1)\n",
        "fit_3 = z = np.polyfit(t_rng[0:20], np.log(loss_tr_3[0:20]), 1)\n",
        "fit_4 = z = np.polyfit(t_rng[0:20], np.log(loss_tr_4[0:20]), 1)\n",
        "fit_5 = z = np.polyfit(t_rng[0:20], np.log(loss_tr_5[0:20]), 1)\n",
        "fit_6 = z = np.polyfit(t_rng[0:20], np.log(loss_tr_6[0:20]), 1)\n",
        "fit_7 = z = np.polyfit(t_rng[0:20], np.log(loss_tr_7[0:20]), 1)\n",
        "print(\"Lambda = 1:\"+\" \"+ str(fit_1[0]))\n",
        "print(\"Lambda = 10:\"+\" \"+ str(fit_2[0]))\n",
        "print(\"Lambda = 20:\"+\" \"+ str(fit_3[0]))\n",
        "print(\"Lambda = 30:\"+\" \"+ str(fit_4[0]))\n",
        "print(\"Lambda = 40:\"+\" \"+ str(fit_5[0]))\n",
        "print(\"Lambda = 50:\"+\" \"+ str(fit_6[0]))\n",
        "print(\"Lambda = 70:\"+\" \"+ str(fit_7[0]))"
      ]
    },
    {
      "cell_type": "code",
      "execution_count": null,
      "metadata": {
        "colab": {
          "base_uri": "https://localhost:8080/"
        },
        "id": "v-4Pqq-baS0h",
        "outputId": "28d8d0f2-fd44-4f6e-bb0f-34663a77df3d"
      },
      "outputs": [],
      "source": [
        "fit_1 = z = np.polyfit(t_rng[0:20], np.log(loss_tr_1_a[0:20]), 1)\n",
        "fit_2 = z = np.polyfit(t_rng[0:20], np.log(loss_tr_2_a[0:20]), 1)\n",
        "fit_3 = z = np.polyfit(t_rng[0:20], np.log(loss_tr_3_a[0:20]), 1)\n",
        "fit_4 = z = np.polyfit(t_rng[0:20], np.log(loss_tr_4_a[0:20]), 1)\n",
        "fit_5 = z = np.polyfit(t_rng[0:20], np.log(loss_tr_5_a[0:20]), 1)\n",
        "fit_6 = z = np.polyfit(t_rng[0:20], np.log(loss_tr_6_a[0:20]), 1)\n",
        "fit_7 = z = np.polyfit(t_rng[0:20], np.log(loss_tr_7_a[0:20]), 1)\n",
        "print(\"Lambda = 1:\"+\" \"+ str(fit_1[0]))\n",
        "print(\"Lambda = 10:\"+\" \"+ str(fit_2[0]))\n",
        "print(\"Lambda = 20:\"+\" \"+ str(fit_3[0]))\n",
        "print(\"Lambda = 30:\"+\" \"+ str(fit_4[0]))\n",
        "print(\"Lambda = 40:\"+\" \"+ str(fit_5[0]))\n",
        "print(\"Lambda = 50:\"+\" \"+ str(fit_6[0]))\n",
        "print(\"Lambda = 70:\"+\" \"+ str(fit_7[0]))"
      ]
    },
    {
      "cell_type": "code",
      "execution_count": null,
      "metadata": {},
      "outputs": [],
      "source": [
        "loss_tr_1_a = np.log(loss_tr_1_a)\n",
        "loss_tr_2_a = np.log(loss_tr_2_a)\n",
        "loss_tr_3_a = np.log(loss_tr_3_a)\n",
        "loss_tr_4_a = np.log(loss_tr_4_a)\n",
        "loss_tr_5_a = np.log(loss_tr_5_a)\n",
        "loss_tr_6_a = np.log(loss_tr_6_a)\n",
        "loss_tr_7_a = np.log(loss_tr_7_a)\n",
        "loss_tr_1_a = loss_tr_1_a[loss_tr_1_a>1.5]\n",
        "loss_tr_2_a = loss_tr_2_a[loss_tr_2_a>1.5]\n",
        "loss_tr_3_a = loss_tr_3_a[loss_tr_3_a>1.5]\n",
        "loss_tr_4_a = loss_tr_4_a[loss_tr_4_a>1.5]\n",
        "loss_tr_5_a = loss_tr_5_a[loss_tr_5_a>1.5]\n",
        "loss_tr_6_a = loss_tr_6_a[loss_tr_6_a>1.5]\n",
        "loss_tr_7_a = loss_tr_7_a[loss_tr_7_a>1.5]\n",
        "t_rng_tr_1_a = np.arange(len(loss_tr_1_a))\n",
        "t_rng_tr_2_a = np.arange(len(loss_tr_2_a))\n",
        "t_rng_tr_3_a = np.arange(len(loss_tr_3_a))\n",
        "t_rng_tr_4_a = np.arange(len(loss_tr_4_a))\n",
        "t_rng_tr_5_a = np.arange(len(loss_tr_5_a))\n",
        "t_rng_tr_6_a = np.arange(len(loss_tr_6_a))\n",
        "t_rng_tr_7_a = np.arange(len(loss_tr_7_a))\n",
        "\n",
        "\n",
        "\n",
        "fit_1 = z = np.polyfit(t_rng_tr_1_a, np.log(loss_tr_1_a), 1)\n",
        "fit_2 = z = np.polyfit(t_rng_tr_2_a, np.log(loss_tr_2_a), 1)\n",
        "fit_3 = z = np.polyfit(t_rng_tr_3_a, np.log(loss_tr_3_a), 1)\n",
        "fit_4 = z = np.polyfit(t_rng_tr_4_a, np.log(loss_tr_4_a), 1)\n",
        "fit_5 = z = np.polyfit(t_rng_tr_5_a, np.log(loss_tr_5_a), 1)\n",
        "fit_6 = z = np.polyfit(t_rng_tr_6_a, np.log(loss_tr_6_a), 1)\n",
        "fit_7 = z = np.polyfit(t_rng_tr_7_a, np.log(loss_tr_7_a), 1)\n",
        "print(f\"Lambda =  1:    Slope: {fit_1[0]:.4f} | $\\kappa$: {-(fit_1[0])**(-1)}\")\n",
        "print(f\"Lambda = 10:    Slope: {fit_2[0]:.4f} | $\\kappa$: {-(fit_2[0])**(-1)}\")\n",
        "print(f\"Lambda = 20:    Slope: {fit_3[0]:.4f} | $\\kappa$: {-(fit_3[0])**(-1)}\")\n",
        "print(f\"Lambda = 30:    Slope: {fit_4[0]:.4f} | $\\kappa$: {-(fit_4[0])**(-1)}\")\n",
        "print(f\"Lambda = 40:    Slope: {fit_5[0]:.4f} | $\\kappa$: {-(fit_5[0])**(-1)}\")\n",
        "print(f\"Lambda = 50:    Slope: {fit_6[0]:.4f} | $\\kappa$: {-(fit_6[0])**(-1)}\")\n",
        "print(f\"Lambda = 70:    Slope: {fit_7[0]:.4f} | $\\kappa$: {-(fit_7[0])**(-1)}\")"
      ]
    },
    {
      "cell_type": "code",
      "execution_count": null,
      "metadata": {},
      "outputs": [],
      "source": [
        "fig = plt.figure()\n",
        "plt.plot(t_rng_tr_1_a, loss_tr_1_a)\n",
        "plt.plot(t_rng_tr_2_a, loss_tr_2_a)\n",
        "plt.plot(t_rng_tr_3_a, loss_tr_3_a)\n",
        "plt.plot(t_rng_tr_4_a, loss_tr_4_a)\n",
        "plt.plot(t_rng_tr_5_a, loss_tr_5_a)\n",
        "plt.plot(t_rng_tr_6_a, loss_tr_6_a)\n",
        "plt.plot(t_rng_tr_7_a, loss_tr_7_a)\n",
        "plt.show()"
      ]
    },
    {
      "cell_type": "markdown",
      "metadata": {
        "id": "tgqI1u61yrNT"
      },
      "source": [
        "We find that that the optimal $\\lambda$ is $\\lambda = 10$. The loss function for larger $\\lambda$ begins to saturate. After $\\lambda = 50$, bias dominates due to regularization.  Hence, we will take $\\lambda = 10$ with a slope of -0.32, corresponding to a condition nubmer $\\kappa = 3.12$.   "
      ]
    },
    {
      "cell_type": "markdown",
      "metadata": {
        "id": "076pM_xHy7fo"
      },
      "source": [
        "(d) "
      ]
    },
    {
      "cell_type": "markdown",
      "metadata": {
        "id": "RXswSJxMka9a"
      },
      "source": [
        "The model is now trained using Nesterov's momentum. "
      ]
    },
    {
      "cell_type": "code",
      "execution_count": null,
      "metadata": {
        "id": "ccmuC7CBy7RB"
      },
      "outputs": [],
      "source": [
        "def train_nest(x_tr, y_tr, rho, lam, lr, n_iter, w0=0,w_0 = None):  \n",
        "  ##Paramaters: \n",
        "  # x_tr: data matrix (nxd array)\n",
        "  # y_tr: true label array (nx1 array)\n",
        "  # rho: momentum parameter \n",
        "  # lam: regularization constant (constant)\n",
        "  # lr: learning rate \n",
        "  # n_iter: number of iteration steps \n",
        "  # w0: bias matrix (cxn array)\n",
        "  #Output: grad (cxd array)\n",
        "  \n",
        "  w_all = []\n",
        "  t = 0 \n",
        "  c = 2  \n",
        "  d = np.shape(x_tr)[1]\n",
        "  u =  w_0 or np.random.rand(c,d)\n",
        "  w =  w_0 or np.random.rand(c,d)\n",
        "  while t <= n_iter: \n",
        "    u_next = w - lr * grad_h(w,x_tr,y_tr,lam,w0)\n",
        "    w = (1 + rho) * u_next - rho * u\n",
        "    u = u_next\n",
        "    w_all.append(w)\n",
        "    t += 1 \n",
        "  return np.array(w_all)\n",
        "\n",
        "def train_nest2(x_tr, y_tr, rho, lam, lr, n_iter, w0=0,w_0 = None):  \n",
        "  ##Paramaters: \n",
        "  # x_tr: data matrix (nxd array)\n",
        "  # y_tr: true label array (nx1 array)\n",
        "  # rho: momentum parameter \n",
        "  # lam: regularization constant (constant)\n",
        "  # lr: learning rate \n",
        "  # n_iter: number of iteration steps \n",
        "  # w0: bias matrix (cxn array)\n",
        "  #Output: grad (cxd array)\n",
        "  \n",
        "  w_all = []\n",
        "  w0_all = []\n",
        "  t = 0 \n",
        "  c = 2  \n",
        "  d = np.shape(x_tr)[1]\n",
        "  u =  w_0 or np.random.rand(c,d)\n",
        "  # w =  w_0 or np.random.rand(c,d)\n",
        "  w = np.random.standard_normal((14*14))\n",
        "  u = w\n",
        "  u0 = w0\n",
        "  # w0 = 0\n",
        "  while t <= n_iter: \n",
        "    # get_grad(w, lambda_i, X, Y, w0 = 0)\n",
        "    # print(w.shape, lam, x_tr.shape, y_tr.shape, w0, get_grad(w,lam, x_tr,y_tr,w0))\n",
        "    wgrad, w0grad = get_grad(w,lam, x_tr,y_tr,w0)\n",
        "    u_next = w - lr * wgrad\n",
        "    u0_next = w0 -lr * w0grad\n",
        "    w = (1 + rho) * u_next - rho * u\n",
        "    w0 = (1+rho) *u0_next - rho * u0\n",
        "    u = u_next\n",
        "    u0 = u0_next\n",
        "    w_all.append(w)\n",
        "    w0_all.append(w0)\n",
        "    t += 1 \n",
        "  return np.array(w_all), np.array(w0_all)"
      ]
    },
    {
      "cell_type": "code",
      "execution_count": null,
      "metadata": {},
      "outputs": [],
      "source": []
    },
    {
      "cell_type": "markdown",
      "metadata": {
        "id": "tVPPldwjmWk2"
      },
      "source": [
        "We can now look at the trend in training loss for different momentum values (fixed at $\\lambda = 10$). Each value of $\\rho$ will correspond to a $\\kappa$. We will use $\\rho = 0.75, 0.8, 0.85, 0.9, 0.95$. "
      ]
    },
    {
      "cell_type": "code",
      "execution_count": null,
      "metadata": {
        "id": "kaSiCBJe0n0f"
      },
      "outputs": [],
      "source": [
        "rho = [0.75, 0.8, 0.85, 0.9, 0.95] \n",
        "lam = 10 \n",
        "lr = 0.01\n",
        "T_max = 100\n",
        "w_all_1 = train_nest(x_tr, y_tr,rho[0],lam, lr, T_max)\n",
        "w_all_2 = train_nest(x_tr, y_tr,rho[1],lam, lr, T_max)\n",
        "w_all_3 = train_nest(x_tr, y_tr,rho[2],lam, lr, T_max)\n",
        "w_all_4 = train_nest(x_tr, y_tr,rho[3],lam, lr, T_max)\n",
        "w_all_5 = train_nest(x_tr, y_tr,rho[4],lam, lr, T_max)\n",
        "loss_tr_1 = [loss(w,x_tr, y_tr, lam)[0] for w in w_all_1]\n",
        "loss_tr_2 = [loss(w,x_tr, y_tr, lam)[0] for w in w_all_2]\n",
        "loss_tr_3 = [loss(w,x_tr, y_tr, lam)[0] for w in w_all_3]\n",
        "loss_tr_4 = [loss(w,x_tr, y_tr, lam)[0] for w in w_all_4]\n",
        "loss_tr_5 = [loss(w,x_tr, y_tr, lam)[0] for w in w_all_5]\n",
        "\n",
        "w_all_1_a, w0_all_1_a = train_nest2(x_tr, y_tr,rho[0],lam, lr, T_max)\n",
        "w_all_2_a, w0_all_2_a = train_nest2(x_tr, y_tr,rho[1],lam, lr, T_max)\n",
        "w_all_3_a, w0_all_3_a = train_nest2(x_tr, y_tr,rho[2],lam, lr, T_max)\n",
        "w_all_4_a, w0_all_4_a = train_nest2(x_tr, y_tr,rho[3],lam, lr, T_max)\n",
        "w_all_5_a, w0_all_5_a = train_nest2(x_tr, y_tr,rho[4],lam, lr, T_max)\n",
        "\n",
        "loss_tr_1_a = [get_loss(w,lam, x_tr, y_tr, w0 = w0) for w, w0 in zip(w_all_1_a, w0_all_1_a)]\n",
        "loss_tr_2_a = [get_loss(w,lam, x_tr, y_tr, w0 = w0) for w, w0 in zip(w_all_2_a, w0_all_2_a)]\n",
        "loss_tr_3_a = [get_loss(w,lam, x_tr, y_tr, w0 = w0) for w, w0 in zip(w_all_3_a, w0_all_3_a)]\n",
        "loss_tr_4_a = [get_loss(w,lam, x_tr, y_tr, w0 = w0) for w, w0 in zip(w_all_4_a, w0_all_4_a)]\n",
        "loss_tr_5_a = [get_loss(w,lam, x_tr, y_tr, w0 = w0) for w, w0 in zip(w_all_5_a, w0_all_5_a)]"
      ]
    },
    {
      "cell_type": "code",
      "execution_count": null,
      "metadata": {},
      "outputs": [],
      "source": [
        "\n",
        "kappas = []"
      ]
    },
    {
      "cell_type": "code",
      "execution_count": null,
      "metadata": {
        "colab": {
          "base_uri": "https://localhost:8080/",
          "height": 279
        },
        "id": "Avtknftd2RJr",
        "outputId": "d2dd6b4a-579c-436f-c01c-22b61c72bd2e"
      },
      "outputs": [],
      "source": [
        "t_rng = np.array(range(len( loss_tr_1))) \n",
        "plot.semilogy(t_rng, loss_tr_1)\n",
        "plot.semilogy(t_rng, loss_tr_2)\n",
        "plot.semilogy(t_rng, loss_tr_3)\n",
        "plot.semilogy(t_rng, loss_tr_4)\n",
        "plot.semilogy(t_rng, loss_tr_5)\n",
        "plot.legend(('$p = 0.75$','$p = 0.80$','$p = 0.85$','$p = 0.90$','$p = 0.95$') )\n",
        "plot.ylabel('Training loss [log-scale]')\n",
        "plot.xlabel('Iteration number')\n",
        "plot.show()"
      ]
    },
    {
      "cell_type": "code",
      "execution_count": null,
      "metadata": {},
      "outputs": [],
      "source": [
        "t_rng = np.array(range(len( loss_tr_1_a))) \n",
        "plot.semilogy(t_rng, loss_tr_1_a)\n",
        "plot.semilogy(t_rng, loss_tr_2_a)\n",
        "plot.semilogy(t_rng, loss_tr_3_a)\n",
        "plot.semilogy(t_rng, loss_tr_4_a)\n",
        "plot.semilogy(t_rng, loss_tr_5_a)\n",
        "plot.legend(('$p = 0.75$','$p = 0.80$','$p = 0.85$','$p = 0.90$','$p = 0.95$') )\n",
        "plot.ylabel('Training loss [log-scale]')\n",
        "plot.xlabel('Iteration number')\n",
        "plot.show()"
      ]
    },
    {
      "cell_type": "code",
      "execution_count": null,
      "metadata": {
        "colab": {
          "base_uri": "https://localhost:8080/"
        },
        "id": "j0xwhfRYCCoe",
        "outputId": "87bc3f2d-0d1a-4ac5-8aed-7470859cb81e"
      },
      "outputs": [],
      "source": [
        "fit_1 = z = np.polyfit(t_rng[0:20], np.log(loss_tr_1[0:20]), 1)\n",
        "fit_2 = z = np.polyfit(t_rng[0:20], np.log(loss_tr_2[0:20]), 1)\n",
        "fit_3 = z = np.polyfit(t_rng[0:20], np.log(loss_tr_3[0:20]), 1)\n",
        "fit_4 = z = np.polyfit(t_rng[0:20], np.log(loss_tr_4[0:20]), 1)\n",
        "fit_5 = z = np.polyfit(t_rng[0:20], np.log(loss_tr_5[0:20]), 1)\n",
        "print(\"Rho = 0.75:\"+\" \"+ str(fit_1[0]))\n",
        "print(\"Rho =  0.80:\"+\" \"+ str(fit_2[0]))\n",
        "print(\"Rho =  0.85:\"+\" \"+ str(fit_3[0]))\n",
        "print(\"Rho =  0.90:\"+\" \"+ str(fit_4[0]))\n",
        "print(\"Rho =  0.95:\"+\" \"+ str(fit_5[0]))"
      ]
    },
    {
      "cell_type": "code",
      "execution_count": null,
      "metadata": {},
      "outputs": [],
      "source": [
        "fit_1 = z = np.polyfit(t_rng[0:20], np.log(loss_tr_1_a[0:20]), 1)\n",
        "fit_2 = z = np.polyfit(t_rng[0:20], np.log(loss_tr_2_a[0:20]), 1)\n",
        "fit_3 = z = np.polyfit(t_rng[0:20], np.log(loss_tr_3_a[0:20]), 1)\n",
        "fit_4 = z = np.polyfit(t_rng[0:20], np.log(loss_tr_4_a[0:20]), 1)\n",
        "fit_5 = z = np.polyfit(t_rng[0:20], np.log(loss_tr_5_a[0:20]), 1)\n",
        "print(\"Rho = 0.75:\"+\" \"+ str(fit_1[0]))\n",
        "print(\"Rho =  0.80:\"+\" \"+ str(fit_2[0]))\n",
        "print(\"Rho =  0.85:\"+\" \"+ str(fit_3[0]))\n",
        "print(\"Rho =  0.90:\"+\" \"+ str(fit_4[0]))\n",
        "print(\"Rho =  0.95:\"+\" \"+ str(fit_5[0]))"
      ]
    },
    {
      "cell_type": "markdown",
      "metadata": {
        "id": "N64x9cYG42f8"
      },
      "source": [
        "(e) "
      ]
    },
    {
      "cell_type": "code",
      "execution_count": null,
      "metadata": {
        "id": "Ai1AXnao4ivS"
      },
      "outputs": [],
      "source": [
        "def train_sgd_minibatch(x_tr, y_tr, B, lam, lr, n_iter, w0=0,w_0 =None):\n",
        "  ##Paramaters: \n",
        "  # x_tr: data matrix (nxd array)\n",
        "  # y_tr: true label array (nx1 array)\n",
        "  # lam: regularization constant (constant)\n",
        "  # lr: learning rate \n",
        "  # n_iter: number of iteration steps \n",
        "  # w0: bias matrix (cxn array)\n",
        "  #Output: grad (cxd array)\n",
        "  c = 2   \n",
        "  n = np.shape(x_tr)[0]\n",
        "  d = np.shape(x_tr)[1]\n",
        "  w = w_0 or np.random.rand(c,d)\n",
        "  w_all = []\n",
        "  w_all.append(w)\n",
        "  t = 0 \n",
        "  while t <= n_iter:  \n",
        "    ii = np.random.randint(n, size=B)\n",
        "    x = x_tr[ii]\n",
        "    y = y_tr[ii]\n",
        "    w = w - lr*grad_h(w,x,y,lam,w0)\n",
        "    w_all.append(w)\n",
        "    t += 1 \n",
        "  return np.array(w_all)  \n",
        "\n",
        "def train_sgd_minibatch2(x_tr, y_tr, B, lam, lr, n_iter, w0=0,w_0 =None):\n",
        "  ##Paramaters: \n",
        "  # x_tr: data matrix (nxd array)\n",
        "  # y_tr: true label array (nx1 array)\n",
        "  # lam: regularization constant (constant)\n",
        "  # lr: learning rate \n",
        "  # n_iter: number of iteration steps \n",
        "  # w0: bias matrix (cxn array)\n",
        "  #Output: grad (cxd array)\n",
        "  c = 2   \n",
        "  n = np.shape(x_tr)[0]\n",
        "  d = np.shape(x_tr)[1]\n",
        "  w = np.random.standard_normal((14*14))\n",
        "  w0 = 0\n",
        "  w_all = []\n",
        "  w0_all = []\n",
        "  t = 0  \n",
        "  while t <= n_iter:  \n",
        "    ii = np.random.randint(n, size=B)\n",
        "    x = x_tr[ii]\n",
        "    y = y_tr[ii]\n",
        "    gradw, gradw0 = get_grad(w=w, X= x, Y= y, lambda_i=lam, w0 = w0)\n",
        "    w = w - lr*gradw\n",
        "    w0 = w0 - lr*gradw0\n",
        "    w_all.append(w)\n",
        "    w0_all.append(w0)\n",
        "    t += 1 \n",
        "  return np.array(w_all), np.array(w0_all)  "
      ]
    },
    {
      "cell_type": "code",
      "execution_count": null,
      "metadata": {
        "id": "dVa5vOJU6_EO"
      },
      "outputs": [],
      "source": [
        "lam = 10 \n",
        "B = 128 \n",
        "lr = 0.01 \n",
        "T = 100\n",
        "w_all = train_sgd_minibatch(x_tr, y_tr,B,lam, lr, T)\n",
        "loss_tr = [loss(w,x_tr, y_tr, lam)[0] for w in w_all]"
      ]
    },
    {
      "cell_type": "code",
      "execution_count": null,
      "metadata": {},
      "outputs": [],
      "source": [
        "lam = 10 \n",
        "B = 128 \n",
        "lr = 0.01 \n",
        "T = 100\n",
        "w_all_a, w0_all_a = train_sgd_minibatch2(x_tr, y_tr,B,lam, lr, T)\n",
        "loss_tr_a = [get_loss(w,lam, x_tr, y_tr, w0 = w0) for w, w0 in zip(w_all_a, w0_all_a)]"
      ]
    },
    {
      "cell_type": "code",
      "execution_count": null,
      "metadata": {
        "colab": {
          "base_uri": "https://localhost:8080/",
          "height": 279
        },
        "id": "2e5zm2U7_n7B",
        "outputId": "71c120f1-2d38-4918-9f4e-f132f19c76a6"
      },
      "outputs": [],
      "source": [
        "t_rng = np.array(range(len(w_all))) \n",
        "plot.semilogy(t_rng, loss_tr)\n",
        "plot.ylabel('Training loss [log-scale]')\n",
        "plot.xlabel('Iteration number')\n",
        "plot.show()"
      ]
    },
    {
      "cell_type": "code",
      "execution_count": null,
      "metadata": {},
      "outputs": [],
      "source": [
        "t_rng = np.array(range(len(w_all_a))) \n",
        "plot.semilogy(t_rng, loss_tr_a)\n",
        "plot.ylabel('Training loss [log-scale]')\n",
        "plot.xlabel('Iteration number')\n",
        "plot.show()"
      ]
    },
    {
      "cell_type": "code",
      "execution_count": null,
      "metadata": {
        "id": "u2HH26XI_8CC"
      },
      "outputs": [],
      "source": [
        "def train_sgd_minibatch_nest(x_tr, y_tr, B, rho, lam, lr, n_iter, w0=0,w_0 =None):\n",
        "  ##Paramaters: \n",
        "  # x_tr: data matrix (nxd array)\n",
        "  # y_tr: true label array (nx1 array)\n",
        "  # lam: regularization constant (constant)\n",
        "  # lr: learning rate \n",
        "  # n_iter: number of iteration steps \n",
        "  # w0: bias matrix (cxn array)\n",
        "  #Output: grad (cxd array)\n",
        "  c = 2   \n",
        "  n = np.shape(x_tr)[0]\n",
        "  d = np.shape(x_tr)[1]\n",
        "  u =  w_0 or np.random.rand(c,d)\n",
        "  w =  w_0 or np.random.rand(c,d)\n",
        "  w_all = []\n",
        "  w_all.append(w)\n",
        "  t = 0 \n",
        "  while t <= n_iter:  \n",
        "    ii = np.random.randint(n, size=B)\n",
        "    x = x_tr[ii]\n",
        "    y = y_tr[ii]\n",
        "    u_next = w - lr * grad_h(w,x,y,lam,w0)\n",
        "    w = (1 + rho) * u_next - rho * u\n",
        "    u = u_next\n",
        "    w_all.append(w)\n",
        "    t += 1 \n",
        "  return np.array(w_all)\n",
        "\n",
        "def train_sgd_minibatch_nest2(x_tr, y_tr, B, rho, lam, lr, n_iter, w0=0,w_0 =None):\n",
        "  ##Paramaters: \n",
        "  # x_tr: data matrix (nxd array)\n",
        "  # y_tr: true label array (nx1 array)\n",
        "  # lam: regularization constant (constant)\n",
        "  # lr: learning rate \n",
        "  # n_iter: number of iteration steps \n",
        "  # w0: bias matrix (cxn array)\n",
        "  #Output: grad (cxd array)\n",
        "  c = 2   \n",
        "  n = np.shape(x_tr)[0]\n",
        "  d = np.shape(x_tr)[1]\n",
        "  w = np.random.standard_normal((14*14))\n",
        "  w0 = 0\n",
        "  u = w\n",
        "  w0 = 0\n",
        "  u0 = 0\n",
        "  w_all = []\n",
        "  w0_all = []\n",
        "  t = 0  \n",
        "  while t <= n_iter:  \n",
        "    ii = np.random.randint(n, size=B)\n",
        "    x = x_tr[ii]\n",
        "    y = y_tr[ii]\n",
        "    wgrad, w0grad = get_grad(w,lam, x,y,w0)\n",
        "    u_next = w - lr * wgrad\n",
        "    u0_next = w0 -lr * w0grad\n",
        "    w = (1 + rho) * u_next - rho * u\n",
        "    w0 = (1+rho) *u0_next - rho * u0\n",
        "    u = u_next\n",
        "    u0 = u0_next\n",
        "    w_all.append(w)\n",
        "    w0_all.append(w0)\n",
        "    t += 1 \n",
        "  return np.array(w_all), np.array(w0_all)"
      ]
    },
    {
      "cell_type": "markdown",
      "metadata": {
        "id": "HDcSe9o4ucOj"
      },
      "source": [
        "Plot of loss for 4 algorithms, with $\\rho = 0.9$. \n",
        "\n",
        "```\n",
        "# This is formatted as code\n",
        "```\n",
        "\n"
      ]
    },
    {
      "cell_type": "code",
      "execution_count": null,
      "metadata": {
        "id": "yoh-BZlXBHBh"
      },
      "outputs": [],
      "source": [
        "lam = 10 \n",
        "B = 128 \n",
        "lr = 0.01 \n",
        "T = 100 \n",
        "rho = 0.75 \n",
        "w_gd  = train_gd(x_tr, y_tr, lam, lr, T)\n",
        "w_nest_gd  = train_nest(x_tr, y_tr,rho,lam, lr, T)\n",
        "w_sgd = train_sgd_minibatch(x_tr, y_tr,B,lam, lr, T)\n",
        "w_nest_sgd = train_sgd_minibatch_nest(x_tr, y_tr,B, rho, lam, lr, T)\n",
        "\n",
        "loss_gd = [loss(w,x_tr, y_tr, lam)[0] for w in w_gd]\n",
        "loss_nest_gd = [loss(w,x_tr, y_tr, lam)[0] for w in w_nest_gd]\n",
        "loss_sgd = [loss(w,x_tr, y_tr, lam)[0] for w in w_sgd]\n",
        "loss_nest_sgd = [loss(w,x_tr, y_tr, lam)[0] for w in w_nest_sgd]\n",
        "\n",
        "w_gd_a, w0_gd_a  = train_gd2(x_tr, y_tr, lam, lr, T)\n",
        "w_nest_gd_a, w0_nest_gd_a  = train_nest2(x_tr, y_tr,rho,lam, lr, T)\n",
        "w_sgd_a, w0_sgd_a = train_sgd_minibatch2(x_tr, y_tr,B,lam, lr, T)\n",
        "w_nest_sgd_a, w0_nest_sgd_a = train_sgd_minibatch_nest2(x_tr, y_tr,B, rho, lam, lr, T)\n",
        "\n",
        "# get_loss(w,lam, x_tr, y_tr, w0 = w0) for w, w0 in zip(w_all_a, w0_all_a)]\n",
        "loss_gd_a = [get_loss(w,lam, x_tr, y_tr, w0= w0) for w, w0 in zip(w_gd_a, w0_gd_a)]\n",
        "loss_nest_gd_a = [get_loss(w,lam, x_tr, y_tr, w0= w0) for w, w0 in zip(w_nest_gd_a, w0_nest_gd_a)]\n",
        "loss_sgd_a = [get_loss(w,lam, x_tr, y_tr, w0= w0) for w, w0 in zip(w_sgd_a, w0_sgd_a)]\n",
        "loss_nest_sgd_a = [get_loss(w,lam, x_tr, y_tr, w0= w0) for w, w0 in zip(w_nest_sgd_a, w0_nest_sgd_a)]"
      ]
    },
    {
      "cell_type": "code",
      "execution_count": null,
      "metadata": {
        "colab": {
          "base_uri": "https://localhost:8080/",
          "height": 279
        },
        "id": "XnW3x6X3BWD0",
        "outputId": "5e5d889c-e821-465f-b2ee-6445948800cd"
      },
      "outputs": [],
      "source": [
        "t_rng = np.array(range(len(w_gd))) \n",
        "t_rng2 = np.array(range(len(loss_sgd))) \n",
        "plot.semilogy(t_rng, loss_gd)\n",
        "plot.semilogy(t_rng, loss_nest_gd)\n",
        "plot.semilogy(t_rng2, loss_sgd)\n",
        "plot.semilogy(t_rng2, loss_nest_sgd)\n",
        "plot.legend(('GD','GD with Nest.','SGD','SGD with Nest') )\n",
        "plot.ylabel('Training loss [log-scale]')\n",
        "plot.xlabel('Iteration number')\n",
        "plot.show()"
      ]
    },
    {
      "cell_type": "code",
      "execution_count": null,
      "metadata": {
        "id": "NPgnlNMDGKcz"
      },
      "outputs": [],
      "source": [
        "t_rng = np.array(range(len(w_gd_a))) \n",
        "t_rng2 = np.array(range(len(loss_sgd_a))) \n",
        "plot.semilogy(t_rng, loss_gd_a)\n",
        "plot.semilogy(t_rng, loss_nest_gd_a)\n",
        "plot.semilogy(t_rng2, loss_sgd_a)\n",
        "plot.semilogy(t_rng2, loss_nest_sgd_a)\n",
        "plot.legend(('GD','GD with Nest.','SGD','SGD with Nest') )\n",
        "plot.ylabel('Training loss [log-scale]')\n",
        "plot.xlabel('Iteration number')\n",
        "plot.show()"
      ]
    },
    {
      "cell_type": "code",
      "execution_count": null,
      "metadata": {},
      "outputs": [],
      "source": []
    }
  ],
  "metadata": {
    "colab": {
      "collapsed_sections": [],
      "name": "leclerc_nima_hw4_prob1.ipynb",
      "provenance": []
    },
    "kernelspec": {
      "display_name": "Python 3",
      "name": "python3"
    },
    "language_info": {
      "codemirror_mode": {
        "name": "ipython",
        "version": 3
      },
      "file_extension": ".py",
      "mimetype": "text/x-python",
      "name": "python",
      "nbconvert_exporter": "python",
      "pygments_lexer": "ipython3",
      "version": "3.11.2"
    }
  },
  "nbformat": 4,
  "nbformat_minor": 0
}
