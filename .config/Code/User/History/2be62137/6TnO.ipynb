{
 "cells": [
  {
   "cell_type": "code",
   "execution_count": 1,
   "metadata": {},
   "outputs": [],
   "source": [
    "from pydrake.all import StartMeshcat, MeshcatVisualizer, AddMultibodyPlantSceneGraph, HalfSpace, CoulombFriction, MeshcatVisualizerParams, ConstantValueSource, LogVectorOutput\n",
    "import matplotlib.pyplot as plt, numpy as np, datetime, pydot, os, logging, pickle\n",
    "from pydrake.math import RigidTransform\n",
    "from pydrake.all import DiagramBuilder, Simulator, Parser\n",
    "from direct_col_dev import dir_col\n",
    "from phase_switch import *\n",
    "from osc import *\n",
    "from pydrake.systems.planar_scenegraph_visualizer import (ConnectPlanarSceneGraphVisualizer)\n",
    "from pydrake.geometry import Box\n",
    "\n",
    "runstart = datetime.datetime.now().strftime('%Y-%m-%d_%H-%M-%S')\n",
    "file_name = None\n",
    "\n",
    "if not 'src' in os.getcwd():\n",
    "    for (root, dir, files) in os.walk(os.getcwd()):\n",
    "        if 'src' in dir:\n",
    "            os.chdir(os.path.join(root, 'src'))\n",
    "            break\n",
    "\n",
    "folders = ['./logs', './report', f'./logs/{runstart}']\n",
    "for folder in folders:\n",
    "    if not os.path.exists(folder):\n",
    "        os.mkdir(folder)\n",
    "\n",
    "logging.basicConfig(filename=f'./logs/{runstart}/Messages.log', level=logging.DEBUG, format='%(asctime)s -  %(name)s - %(levelname)s - %(message)s')\n",
    "logging.getLogger(\"matplotlib\").setLevel(logging.CRITICAL)\n",
    "logging.getLogger(\"DIRCOL\").setLevel(logging.DEBUG)\n",
    "\n",
    "for root, dirs, files in os.walk('../'):\n",
    "      for file in files:\n",
    "          if \"planar_walker.urdf\" in file:\n",
    "              file_name = os.path.join(root, file)\n",
    "\n",
    "# DIRCOL Parameters #\n",
    "N = 5\n",
    "jump_height = 0.5\n",
    "tf = 1/2\n",
    "\n",
    "# Robot Parameters #\n",
    "initial_state = np.zeros(14)\n",
    "q = np.zeros((7,))\n",
    "q[0] = 0; q[1] = 0.95\n",
    "theta = -np.arccos(q[1])\n",
    "q[3] = theta; q[4] = -2 * theta\n",
    "q[5] = theta;   q[6] = -2 * theta\n",
    "initial_state[:7] = q\n",
    "\n",
    "logging.debug(f\"Initial state at {q.round(3)}\")\n",
    "logging.debug(f\"Jump Height: {jump_height}, tf: {tf}, {N} knot points\")\n",
    "\n",
    "### Designing the Simulator environment ###\n",
    "meshcat = StartMeshcat()\n",
    "builder = DiagramBuilder()\n",
    "plant, scene_graph = AddMultibodyPlantSceneGraph(builder, 0.0005)\n",
    "X_WG = HalfSpace.MakePose(np.array([0.1,0, 1]), np.zeros(3,))\n",
    "plant.RegisterCollisionGeometry(plant.world_body(), X_WG, HalfSpace(), \"collision\", CoulombFriction(1.0, 1.0))\n",
    "#Make a Geometry of Box shape (Doesnt work with half Space)\n",
    "plant.RegisterVisualGeometry(plant.world_body(),X_WG,Box(100, 2, 0.001),\"ground_visual\",np.array([1.0,0.1,0.1,0.1]))\n",
    "\n",
    "\n",
    "parser = Parser(plant)\n",
    "sim_file = \"/home/anirudhkailaje/Documents/01_UPenn/02_MEAM5170/03_FinalProject/models/planar_walker.urdf\"\n",
    "logging.debug(f\"Using Sim urdf: {sim_file}\")\n",
    "parser.AddModels(sim_file)\n",
    "plant.WeldFrames(plant.world_frame(),\n",
    "    plant.GetBodyByName(\"base\").body_frame(),\n",
    "    RigidTransform.Identity())\n",
    "plant.Finalize()\n",
    "\n",
    "### Direct Collocation ###\n",
    "n_q = plant.num_positions()\n",
    "n_v = plant.num_velocities()\n",
    "n_u = plant.num_actuators()\n",
    "x_traj, u_traj, prog,  x_sol, u_sol = dir_col(N, initial_state, jump_height, tf=tf, jumpheight_tol=5e-2)\n",
    "np.save(os.path.join(folders[-1], \"x_sol.npy\"),x_sol)\n",
    "np.save(os.path.join(folders[-1], \"u_sol.npy\"),u_sol)\n",
    "\n",
    "logging.debug(\"Direct Collocation Completed\")"
   ]
  },
  {
   "cell_type": "code",
   "execution_count": null,
   "metadata": {},
   "outputs": [
    {
     "data": {
      "image/png": "[encoded data removed]",
      "text/plain": [
       "<Figure size 640x640 with 1 Axes>"
      ]
     },
     "metadata": {},
     "output_type": "display_data"
    }
   ],
   "source": [
    "OSC_Accesor = OSC(file_name, u_traj)\n",
    "logging.getLogger(\"OSC\").setLevel(logging.DEBUG)\n",
    "PhaseSwitcher = builder.AddSystem(PhaseSwitch(jump_height, tf, x_traj, 0.7, file_name))\n",
    "OScontroller = builder.AddSystem(OSC_Accesor)\n",
    "logger = LogVectorOutput(OScontroller.GetOutputPort(\"logs\"),builder)\n",
    "builder.Connect(PhaseSwitcher.get_preflight_port_index(),OScontroller.get_preflightinput_port_index())\n",
    "builder.Connect(PhaseSwitcher.get_aerial_trajectory_port_index(),OScontroller.get_flightinput_port_index())\n",
    "builder.Connect(PhaseSwitcher.get_landing_trajectory_port_index(),OScontroller.get_landinginput_port_index())\n",
    "builder.Connect(PhaseSwitcher.get_phase_switch_output_port_index(),OScontroller.get_phase_port_index())\n",
    "builder.Connect(OScontroller.torque_output_port, plant.get_actuation_input_port())\n",
    "builder.Connect(plant.get_state_output_port(), OScontroller.get_state_input_port()) \n",
    "builder.Connect(plant.get_state_output_port(), PhaseSwitcher.get_state_input_port()) \n",
    "\n",
    "# GIF Generators\n",
    "T_VW = np.array([[1., 0., 0., 0.],\n",
    "                    [0., 0., 1., 0.],\n",
    "                    [0., 0., 0., 1.]])\n",
    "visualizer = ConnectPlanarSceneGraphVisualizer(builder, scene_graph, T_VW=T_VW, xlim=[-2.2, 2.2],ylim=[-1.2, 3.2])\n",
    "\n",
    "\n",
    "\n",
    "#Builld\n",
    "vis_params = MeshcatVisualizerParams(publish_period=0.01)\n",
    "MeshcatVisualizer.AddToBuilder(builder, scene_graph, meshcat, params=vis_params)\n",
    "diagram = builder.Build()"
   ]
  },
  {
   "cell_type": "code",
   "execution_count": null,
   "metadata": {},
   "outputs": [
    {
     "name": "stderr",
     "output_type": "stream",
     "text": [
      "/home/anirudhkailaje/.local/lib/python3.11/site-packages/pydrake/systems/pyplot_visualizer.py:86: UserWarning: Matplotlib is currently using module://matplotlib_inline.backend_inline, which is a non-GUI backend, so cannot show the figure.\n",
      "  self.fig.show()\n"
     ]
    },
    {
     "name": "stdout",
     "output_type": "stream",
     "text": [
      "(1000, 3)\n"
     ]
    },
    {
     "data": {
      "text/plain": [
       "[<matplotlib.lines.Line2D at 0x7f4327c74b90>]"
      ]
     },
     "execution_count": 3,
     "metadata": {},
     "output_type": "execute_result"
    },
    {
     "data": {
      "image/png": "[encoded data removed]",
      "text/plain": [
       "<Figure size 640x480 with 1 Axes>"
      ]
     },
     "metadata": {},
     "output_type": "display_data"
    }
   ],
   "source": [
    "### Real Time Simulation ###\n",
    "sim_time = tf+3\n",
    "simulator = Simulator(diagram)\n",
    "simulator.Initialize(); \n",
    "plant_context = diagram.GetMutableSubsystemContext(plant, simulator.get_mutable_context())\n",
    "graph = (pydot.graph_from_dot_data(diagram.GetGraphvizString(max_depth=2))[0].create_svg())\n",
    "with open('graph.svg', 'wb') as f:\n",
    "    f.write(graph)\n",
    "\n",
    "timesteps = np.linspace(0, tf, 1000)\n",
    "com_pos_list = []\n",
    "vel_list = []\n",
    "for t in timesteps:\n",
    "  x = x_traj.vector_values([t])\n",
    "  u = u_traj.vector_values([t])\n",
    "  plant.SetPositionsAndVelocities(plant_context, x)\n",
    "  com_pos = plant.CalcCenterOfMassPositionInWorld(plant_context).ravel()\n",
    "  com_pos_list.append(com_pos)\n",
    "\n",
    "np.save('com.npy', np.array(com_pos_list))\n",
    "print(np.array(com_pos_list).shape)\n",
    "traj = np.array(com_pos_list)\n",
    "# plt.plot(traj[:,0])\n",
    "# plt.plot(traj[:,1])\n",
    "plt.plot(traj[:,2])\n",
    "# plt.plot(traj[:,3])"
   ]
  },
  {
   "cell_type": "code",
   "execution_count": null,
   "metadata": {},
   "outputs": [
    {
     "name": "stderr",
     "output_type": "stream",
     "text": [
      "/home/anirudhkailaje/.local/lib/python3.11/site-packages/pydrake/systems/pyplot_visualizer.py:86: UserWarning: Matplotlib is currently using module://matplotlib_inline.backend_inline, which is a non-GUI backend, so cannot show the figure.\n",
      "  self.fig.show()\n"
     ]
    },
    {
     "ename": "KeyboardInterrupt",
     "evalue": "",
     "output_type": "error",
     "traceback": [
      "\u001b[0;31m---------------------------------------------------------------------------\u001b[0m",
      "\u001b[0;31mKeyboardInterrupt\u001b[0m                         Traceback (most recent call last)",
      "\u001b[1;32m/home/anirudhkailaje/Documents/01_UPenn/02_MEAM5170/03_FinalProject/src/pleaseJump.ipynb Cell 4\u001b[0m line \u001b[0;36m8\n\u001b[1;32m      <a href='vscode-notebook-cell:/home/anirudhkailaje/Documents/01_UPenn/02_MEAM5170/03_FinalProject/src/pleaseJump.ipynb#W3sZmlsZQ%3D%3D?line=5'>6</a>\u001b[0m plant\u001b[39m.\u001b[39mSetPositionsAndVelocities(plant_context, initial_state)\n\u001b[1;32m      <a href='vscode-notebook-cell:/home/anirudhkailaje/Documents/01_UPenn/02_MEAM5170/03_FinalProject/src/pleaseJump.ipynb#W3sZmlsZQ%3D%3D?line=6'>7</a>\u001b[0m visualizer\u001b[39m.\u001b[39mstart_recording()\n\u001b[0;32m----> <a href='vscode-notebook-cell:/home/anirudhkailaje/Documents/01_UPenn/02_MEAM5170/03_FinalProject/src/pleaseJump.ipynb#W3sZmlsZQ%3D%3D?line=7'>8</a>\u001b[0m simulator\u001b[39m.\u001b[39;49mAdvanceTo(sim_time)\n\u001b[1;32m      <a href='vscode-notebook-cell:/home/anirudhkailaje/Documents/01_UPenn/02_MEAM5170/03_FinalProject/src/pleaseJump.ipynb#W3sZmlsZQ%3D%3D?line=8'>9</a>\u001b[0m visualizer\u001b[39m.\u001b[39mstop_recording()\n\u001b[1;32m     <a href='vscode-notebook-cell:/home/anirudhkailaje/Documents/01_UPenn/02_MEAM5170/03_FinalProject/src/pleaseJump.ipynb#W3sZmlsZQ%3D%3D?line=9'>10</a>\u001b[0m ani \u001b[39m=\u001b[39m visualizer\u001b[39m.\u001b[39mget_recording_as_animation()\n",
      "File \u001b[0;32m~/Documents/01_UPenn/02_MEAM5170/03_FinalProject/src/osc.py:316\u001b[0m, in \u001b[0;36mOSC.CalcTorques\u001b[0;34m(self, context, output)\u001b[0m\n\u001b[1;32m    315\u001b[0m \u001b[39mdef\u001b[39;00m \u001b[39mCalcTorques\u001b[39m(\u001b[39mself\u001b[39m, context: Context, output: BasicVector) \u001b[39m-\u001b[39m\u001b[39m>\u001b[39m \u001b[39mNone\u001b[39;00m:\n\u001b[0;32m--> 316\u001b[0m     usol \u001b[39m=\u001b[39m \u001b[39mself\u001b[39;49m\u001b[39m.\u001b[39;49msolveQP(context)\n\u001b[1;32m    317\u001b[0m     \u001b[39mself\u001b[39m\u001b[39m.\u001b[39musol \u001b[39m=\u001b[39m usol\n\u001b[1;32m    318\u001b[0m     output\u001b[39m.\u001b[39mSetFromVector(usol)\n",
      "File \u001b[0;32m~/Documents/01_UPenn/02_MEAM5170/03_FinalProject/src/osc.py:254\u001b[0m, in \u001b[0;36mOSC.solveQP\u001b[0;34m(self, context)\u001b[0m\n\u001b[1;32m    252\u001b[0m         yddot_cmd_i, J_i, JdotV_i \u001b[39m=\u001b[39m \u001b[39mself\u001b[39m\u001b[39m.\u001b[39mtracking_objective_land\u001b[39m.\u001b[39mUpdate(t, traj, track, finiteState\u001b[39m=\u001b[39m\u001b[39mself\u001b[39m\u001b[39m.\u001b[39mfsm)    \n\u001b[1;32m    253\u001b[0m         yii \u001b[39m=\u001b[39m JdotV_i \u001b[39m+\u001b[39m J_i\u001b[39m@vdot\u001b[39m\n\u001b[0;32m--> 254\u001b[0m         qp\u001b[39m.\u001b[39;49mAddQuadraticCost( (yddot_cmd_i \u001b[39m-\u001b[39;49m yii)\u001b[39m.\u001b[39;49mT\u001b[39m@cost\u001b[39;49m\u001b[39m@\u001b[39;49m(yddot_cmd_i \u001b[39m-\u001b[39;49m yii) )\n\u001b[1;32m    256\u001b[0m \u001b[39m# qp.AddQuadraticCost(1e-3*(self.usol-u).T@(self.usol-u) ) #(np.random.random(self.plant.CalcMassMatrix(self.plant_context).shape) - 0.5)\u001b[39;00m\n\u001b[1;32m    257\u001b[0m \u001b[39m# Calculate terms in the manipulator equation\u001b[39;00m\n\u001b[1;32m    258\u001b[0m M \u001b[39m=\u001b[39m \u001b[39mself\u001b[39m\u001b[39m.\u001b[39mplant\u001b[39m.\u001b[39mCalcMassMatrix(\u001b[39mself\u001b[39m\u001b[39m.\u001b[39mplant_context)\n",
      "\u001b[0;31mKeyboardInterrupt\u001b[0m: "
     ]
    }
   ],
   "source": [
    "### Go ###\n",
    "sim_time = tf+3\n",
    "simulator = Simulator(diagram)\n",
    "simulator.Initialize(); simulator.set_target_realtime_rate(1.0)\n",
    "plant_context = diagram.GetMutableSubsystemContext(plant, simulator.get_mutable_context())\n",
    "plant.SetPositionsAndVelocities(plant_context, initial_state)\n",
    "visualizer.start_recording()\n",
    "simulator.AdvanceTo(sim_time)\n",
    "visualizer.stop_recording()\n",
    "ani = visualizer.get_recording_as_animation()\n",
    "ani.save(f\"./logs/{runstart}/result.gif\", fps=30)"
   ]
  },
  {
   "cell_type": "code",
   "execution_count": null,
   "metadata": {},
   "outputs": [],
   "source": [
    "%matplotlib widget\n",
    "log = logger.FindLog(simulator.get_mutable_context()) \n",
    "t = log.sample_times()[1:]\n",
    "x = log.data()[:,1:]\n",
    "COM_POS, COM_VEL, T_POS, T_VEL, left, right, COM_POS_DESIRED, COM_VEL_DESIRED, Torso_POS_DESIRED, Torso_VEL_DESIRED, LFt_POS_DESIRED, RFt_POS_DESIRED, FSM, Torque, Costs,LeftContactForces, RightContactForces  =  OSC_Accesor.logParse(x)\n",
    "\n",
    "\n",
    "with open(f\"./logs/{runstart}/data.pickle\", 'wb') as f:\n",
    "    data = [COM_POS, COM_VEL, T_POS, T_VEL, left, right, COM_POS_DESIRED, COM_VEL_DESIRED, Torso_POS_DESIRED, Torso_VEL_DESIRED, LFt_POS_DESIRED, RFt_POS_DESIRED, FSM, Torque, Costs, t, LeftContactForces, RightContactForces]\n",
    "    for i, datum in enumerate(data):\n",
    "        data[i] = np.float32(datum.round(3))\n",
    "    pickle.dump(tuple(data), f)\n",
    "\n",
    "logging.debug(f\"Saved data at: {f'./logs/{runstart}/data.pickle'}\")\n",
    "FSM = np.int32(FSM)\n",
    "colors = ['skyblue', 'lightcoral', 'lightgreen']\n",
    "# Find boundaries where the finite state changes\n",
    "boundaries = np.where(np.diff(FSM[0, :]) != 0)[0]\n",
    "boundaries = np.concatenate([[0], boundaries, [len(t)-1]])\n",
    "\n",
    "\n",
    "# Function to create subplots for 3D data\n",
    "def plot_3d_data(ax, t, data, label, linestyle='-', alpha=0.1):\n",
    "    ax.plot(t, data[0, :], label=f'{label} - X', linestyle=linestyle, color='C0')\n",
    "    ax.plot(t, data[1, :], label=f'{label} - Y', linestyle=linestyle, color='C1')\n",
    "    ax.plot(t, data[2, :], label=f'{label} - Z', linestyle=linestyle, color='C2')\n",
    "\n",
    "    ## Color Coding ##\n",
    "    for i in range(0, len(boundaries)-1):\n",
    "        start_idx, end_idx = boundaries[i]+1, boundaries[i+1]\n",
    "        ax.axvspan(t[start_idx], t[end_idx], color=colors[FSM[0, start_idx]], alpha=alpha, lw=0)\n",
    "\n",
    "# Create subplots\n",
    "fig, axs = plt.subplots(10, 1, figsize=(7, 20))\n",
    "\n",
    "# Plotting each pair of actual and desired values\n",
    "plot_3d_data(axs[0], t, COM_POS, 'COM_POS', alpha=0.1)\n",
    "plot_3d_data(axs[0], t, COM_POS_DESIRED, 'COM_POS_DESIRED', '--', alpha=0.1)\n",
    "axs[0].set_title('Center of Mass Position')\n",
    "axs[0].legend(loc='upper right')\n",
    "\n",
    "plot_3d_data(axs[1], t, COM_VEL, 'COM_POS', alpha=0.1)\n",
    "plot_3d_data(axs[1], t, COM_VEL_DESIRED, 'COM_POS_DESIRED', '--', alpha=0.1)\n",
    "axs[1].set_title('Center of Mass Velocity')\n",
    "axs[1].legend(loc='upper right')\n",
    "\n",
    "axs[2].plot(t, T_POS[0], label = 'T_POS', color='C0')\n",
    "axs[2].plot(t, Torso_POS_DESIRED[0], label='Torso_POS_DESIRED', linestyle='--', color='C1')\n",
    "for i in range(0, len(boundaries)-1):\n",
    "    start_idx, end_idx = boundaries[i]+1, boundaries[i+1]\n",
    "    axs[2].axvspan(t[start_idx], t[end_idx], color=colors[FSM[0, start_idx]], alpha=0.1, lw=0)\n",
    "axs[2].set_title('Torso Position')\n",
    "axs[2].legend(loc='upper right')\n",
    "\n",
    "axs[3].plot(t, T_VEL[0], label='T_VEL', color='C0')\n",
    "axs[3].plot(t, Torso_VEL_DESIRED[0], label='Torso_VEL_DESIRED', linestyle='--', color='C1')\n",
    "for i in range(0, len(boundaries)-1):\n",
    "    start_idx, end_idx = boundaries[i]+1, boundaries[i+1]\n",
    "    axs[3].axvspan(t[start_idx], t[end_idx], color=colors[FSM[0, start_idx]], alpha=0.1, lw=0)\n",
    "axs[3].set_title('Torso Velocity')\n",
    "axs[3].legend(loc='upper right')\n",
    "\n",
    "plot_3d_data(axs[4], t, left, 'Left', alpha=0.1)\n",
    "plot_3d_data(axs[4], t, LFt_POS_DESIRED, 'Ft_POS_DESIRED', '--', alpha=0.1)\n",
    "axs[4].set_title('Left and Desired Foot Position')\n",
    "axs[4].legend(loc='upper right')\n",
    "\n",
    "plot_3d_data(axs[5], t, right, 'Right', alpha=0.1)\n",
    "plot_3d_data(axs[5], t, RFt_POS_DESIRED, 'Ft_POS_DESIRED', '--', alpha=0.1)\n",
    "axs[5].set_title('Right and Desired Foot Position')\n",
    "axs[5].legend(loc='upper right')\n",
    "\n",
    "\n",
    "axs[6].semilogy(t, Costs[0], label='Cost', color='C0')\n",
    "for i in range(0, len(boundaries)-1):\n",
    "    start_idx, end_idx = boundaries[i]+1, boundaries[i+1]\n",
    "    axs[6].axvspan(t[start_idx], t[end_idx], color=colors[FSM[0, start_idx]], alpha=0.1, lw=0)\n",
    "axs[6].set_title('Optimal Costs')\n",
    "axs[6].legend(loc='upper right')\n",
    "\n",
    "\n",
    "axs[7].plot(t, Torque[0,:], label='T1', color='C0')\n",
    "axs[7].plot(t, Torque[1,:], label='T2', color='C1')\n",
    "axs[7].plot(t, Torque[2,:], label='T3', color='C2')\n",
    "axs[7].plot(t, Torque[3,:], label='T4', color='C3')\n",
    "for i in range(0, len(boundaries)-1):\n",
    "    start_idx, end_idx = boundaries[i]+1, boundaries[i+1]\n",
    "    axs[7].axvspan(t[start_idx], t[end_idx], color=colors[FSM[0, start_idx]], alpha=0.1, lw=0)\n",
    "axs[7].set_title('Torques')\n",
    "axs[7].legend(loc='upper right')\n",
    "\n",
    "plot_3d_data(axs[8], t, LeftContactForces, 'Left Contact Forces', alpha=1)\n",
    "axs[8].set_title('Left Contact Forces')\n",
    "plot_3d_data(axs[9], t, RightContactForces, 'Right Contact Forces', alpha=1)\n",
    "axs[9].set_title('Right Contact Forces')\n",
    "\n",
    "\n",
    "# Set common labels and title\n",
    "fig.text(0.5, 0.04, 'Time', ha='center', va='center')\n",
    "fig.text(0.06, 0.5, 'Position', ha='center', va='center', rotation='vertical')\n",
    "fig.suptitle('Performance', fontsize=16)\n",
    "\n",
    "plt.tight_layout()\n",
    "plt.show()\n"
   ]
  },
  {
   "cell_type": "code",
   "execution_count": null,
   "metadata": {},
   "outputs": [],
   "source": [
    "COM_POS.max()"
   ]
  },
  {
   "cell_type": "code",
   "execution_count": null,
   "metadata": {},
   "outputs": [],
   "source": []
  },
  {
   "cell_type": "code",
   "execution_count": null,
   "metadata": {},
   "outputs": [],
   "source": []
  },
  {
   "cell_type": "code",
   "execution_count": null,
   "metadata": {},
   "outputs": [],
   "source": []
  },
  {
   "cell_type": "code",
   "execution_count": null,
   "metadata": {},
   "outputs": [],
   "source": []
  }
 ],
 "metadata": {
  "kernelspec": {
   "display_name": "Python 3",
   "language": "python",
   "name": "python3"
  },
  "language_info": {
   "codemirror_mode": {
    "name": "ipython",
    "version": 3
   },
   "file_extension": ".py",
   "mimetype": "text/x-python",
   "name": "python",
   "nbconvert_exporter": "python",
   "pygments_lexer": "ipython3",
   "version": "3.11.2"
  }
 },
 "nbformat": 4,
 "nbformat_minor": 2
}
