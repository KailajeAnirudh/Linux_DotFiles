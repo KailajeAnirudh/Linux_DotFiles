{
 "cells": [
  {
   "cell_type": "code",
   "execution_count": 4,
   "metadata": {},
   "outputs": [],
   "source": [
    "import numpy as np, pandas as pd, os, torch, torchaudio, torchaudio.transforms as T\n",
    "import librosa\n",
    "import matplotlib.pyplot as plt\n",
    "import wfdb\n",
    "import ast\n",
    "from IPython.display import Audio\n",
    "from torchaudio.utils import download_asset\n",
    "import seaborn as sns"
   ]
  },
  {
   "cell_type": "code",
   "execution_count": 3,
   "metadata": {},
   "outputs": [
    {
     "ename": "NameError",
     "evalue": "name 'pd' is not defined",
     "output_type": "error",
     "traceback": [
      "\u001b[0;31m---------------------------------------------------------------------------\u001b[0m",
      "\u001b[0;31mNameError\u001b[0m                                 Traceback (most recent call last)",
      "Cell \u001b[0;32mIn [3], line 11\u001b[0m\n\u001b[1;32m      9\u001b[0m path \u001b[38;5;241m=\u001b[39m \u001b[38;5;124m'\u001b[39m\u001b[38;5;124m/home/anirudhkailaje/Documents/01_UPenn/01_ESE5460/03_Project/ptb-xl-a-large-publicly-available-electrocardiography-dataset-1.0.1/\u001b[39m\u001b[38;5;124m'\u001b[39m\n\u001b[1;32m     10\u001b[0m sampling_rate\u001b[38;5;241m=\u001b[39m\u001b[38;5;241m100\u001b[39m\n\u001b[0;32m---> 11\u001b[0m Y \u001b[38;5;241m=\u001b[39m \u001b[43mpd\u001b[49m\u001b[38;5;241m.\u001b[39mread_csv(path\u001b[38;5;241m+\u001b[39m\u001b[38;5;124m'\u001b[39m\u001b[38;5;124mptbxl_database.csv\u001b[39m\u001b[38;5;124m'\u001b[39m, index_col\u001b[38;5;241m=\u001b[39m\u001b[38;5;124m'\u001b[39m\u001b[38;5;124mecg_id\u001b[39m\u001b[38;5;124m'\u001b[39m)\n\u001b[1;32m     12\u001b[0m scp_codes \u001b[38;5;241m=\u001b[39m pd\u001b[38;5;241m.\u001b[39mread_csv(path\u001b[38;5;241m+\u001b[39m\u001b[38;5;124m'\u001b[39m\u001b[38;5;124mscp_statements.csv\u001b[39m\u001b[38;5;124m'\u001b[39m, index_col\u001b[38;5;241m=\u001b[39m\u001b[38;5;241m0\u001b[39m)\n\u001b[1;32m     13\u001b[0m scp_codes\u001b[38;5;241m.\u001b[39mloc[:, [\u001b[38;5;124m'\u001b[39m\u001b[38;5;124mdiagnostic\u001b[39m\u001b[38;5;124m'\u001b[39m, \u001b[38;5;124m'\u001b[39m\u001b[38;5;124mform\u001b[39m\u001b[38;5;124m'\u001b[39m, \u001b[38;5;124m'\u001b[39m\u001b[38;5;124mrhythm\u001b[39m\u001b[38;5;124m'\u001b[39m]]\u001b[38;5;241m.\u001b[39mfillna(\u001b[38;5;241m0\u001b[39m, inplace\u001b[38;5;241m=\u001b[39m\u001b[38;5;28;01mTrue\u001b[39;00m)\n",
      "\u001b[0;31mNameError\u001b[0m: name 'pd' is not defined"
     ]
    }
   ],
   "source": [
    "def load_raw_data(df, sampling_rate, path):\n",
    "    if sampling_rate == 100:\n",
    "        data = [wfdb.rdsamp(path+f) for f in df.filename_lr]\n",
    "    else:\n",
    "        data = [wfdb.rdsamp(path+f) for f in df.filename_hr]\n",
    "    data = np.array([signal for signal, meta in data])\n",
    "    return data\n",
    "\n",
    "path = '/home/anirudhkailaje/Documents/01_UPenn/01_ESE5460/03_Project/ptb-xl-a-large-publicly-available-electrocardiography-dataset-1.0.1/'\n",
    "sampling_rate=100\n",
    "Y = pd.read_csv(path+'ptbxl_database.csv', index_col='ecg_id')\n",
    "scp_codes = pd.read_csv(path+'scp_statements.csv', index_col=0)\n",
    "scp_codes.loc[:, ['diagnostic', 'form', 'rhythm']].fillna(0, inplace=True)\n",
    "scp_codes[['diagnostic', 'form', 'rhythm']] = scp_codes[['diagnostic', 'form', 'rhythm']].apply(pd.to_numeric)\n",
    "scp_codes[['diagnostic', 'form', 'rhythm']] = scp_codes[['diagnostic', 'form', 'rhythm']].fillna(0)\n",
    "scp_codes['super_class'] = scp_codes.diagnostic*1+scp_codes.form*2+scp_codes.rhythm*4\n",
    "scp_codes.sort_values(by = ['super_class'], inplace= True)\n",
    "scp_codes['superclass_desc'] = \"\"\n",
    "scp_codes.loc[scp_codes.super_class == 1, 'superclass_desc'] = \"Diagnostic\" \n",
    "scp_codes.loc[scp_codes.super_class == 2, 'superclass_desc'] = \"Form\" \n",
    "scp_codes.loc[scp_codes.super_class == 4, 'superclass_desc'] = \"Rhythm\" \n",
    "scp_codes.loc[scp_codes.super_class == 3, 'superclass_desc'] = \"Diagnostic and Form\"\n",
    "class2num = {key: i for i, key in enumerate(scp_codes.index.values)}\n",
    "\n",
    "Y.scp_codes = Y.scp_codes.apply(lambda x: ast.literal_eval(x))\n",
    "Y[['Diag', 'Form', 'Rhythm']] = 0\n",
    "for idx in Y.index.values:\n",
    "    labels = Y.loc[idx].scp_codes\n",
    "    for key in labels.keys():\n",
    "        if labels[key] > 0:\n",
    "            Y.loc[idx, ['Diag', 'Form', 'Rhythm']] = scp_codes.loc[key][['diagnostic', 'form', 'rhythm']].values\n",
    "Y.loc[:,['Diag', 'Form', 'Rhythm']].fillna(0, inplace=True)\n",
    "Y.fillna(0, inplace=True)\n",
    "X = load_raw_data(Y, sampling_rate, path)\n",
    "\n",
    "scp_list = Y.scp_codes.values.tolist()\n",
    "unique_scp = []\n",
    "for scps in scp_list:\n",
    "    unique_scp += list(scps.keys())\n",
    "print(f'Number of unique scp codes: {len(set(unique_scp))}')\n",
    "\n",
    "counts = np.zeros(len(class2num), dtype=np.longlong)\n",
    "for i in range(len(Y)):\n",
    "    for key in Y.scp_codes.iloc[i].keys():\n",
    "        counts[class2num[key]] += 1"
   ]
  },
  {
   "cell_type": "code",
   "execution_count": 6,
   "metadata": {},
   "outputs": [],
   "source": [
    "Y = pd.read_csv(path+'ptbxl_database.csv', index_col='ecg_id')\n",
    "X = load_raw_data(Y, sampling_rate, path)"
   ]
  },
  {
   "cell_type": "code",
   "execution_count": 8,
   "metadata": {},
   "outputs": [
    {
     "data": {
      "text/plain": [
       "(1000, 12)"
      ]
     },
     "execution_count": 8,
     "metadata": {},
     "output_type": "execute_result"
    }
   ],
   "source": [
    "X[12].shape"
   ]
  },
  {
   "cell_type": "code",
   "execution_count": 9,
   "metadata": {},
   "outputs": [
    {
     "data": {
      "image/png": "[encoded data removed]",
      "text/plain": [
       "<Figure size 640x480 with 1 Axes>"
      ]
     },
     "metadata": {},
     "output_type": "display_data"
    }
   ],
   "source": [
    "\n"
   ]
  },
  {
   "cell_type": "code",
   "execution_count": 5,
   "metadata": {},
   "outputs": [],
   "source": [
    "for i in Y.index.values:\n",
    "    for key in unique_scp:\n",
    "        if key in Y.loc[i, 'scp_codes'].keys():\n",
    "            Y.loc[i, key] = Y.loc[i, 'scp_codes'][key]/100"
   ]
  },
  {
   "cell_type": "code",
   "execution_count": null,
   "metadata": {},
   "outputs": [],
   "source": [
    "def get_keys(scp_codes):\n",
    "    keys = []\n",
    "    for key in scp_codes.keys():\n",
    "        if scp_codes[key] > 0:\n",
    "            keys.append(key)\n",
    "    return keys"
   ]
  },
  {
   "cell_type": "code",
   "execution_count": null,
   "metadata": {},
   "outputs": [],
   "source": [
    "Y.loc[:, 'scp_keys'] = Y.scp_codes.apply(get_keys)"
   ]
  },
  {
   "cell_type": "code",
   "execution_count": 9,
   "metadata": {},
   "outputs": [],
   "source": [
    "FormLabels = scp_codes[scp_codes.form == 1].index.to_list()\n",
    "RhythmLabels = scp_codes[scp_codes.rhythm == 1].index.to_list()\n",
    "STTCLabels = scp_codes[scp_codes.diagnostic_class == 'STTC'].index.to_list()\n",
    "MIlabels = scp_codes[scp_codes.diagnostic_class == 'MI'].index.to_list()\n",
    "HYPLabels = scp_codes[scp_codes.diagnostic_class == 'HYP'].index.to_list()\n",
    "CDLables = scp_codes[scp_codes.diagnostic_class == 'CD'].index.to_list()"
   ]
  },
  {
   "cell_type": "code",
   "execution_count": 10,
   "metadata": {},
   "outputs": [],
   "source": [
    "Y.loc[:, ['Form', 'Rhythm', 'STTC', 'MI', 'HYP', 'CD']] = 0.0\n",
    "Y.loc[:, 'Form'] = Y.scp_keys.apply(lambda x: 1 if len(set(x).intersection(set(FormLabels))) > 0 else 0)\n",
    "Y.loc[:, 'Rhythm'] = Y.scp_keys.apply(lambda x: 1 if len(set(x).intersection(set(RhythmLabels))) > 0 else 0)\n",
    "Y.loc[:, 'STTC'] = Y.scp_keys.apply(lambda x: 1 if len(set(x).intersection(set(STTCLabels))) > 0 else 0)\n",
    "Y.loc[:, 'MI'] = Y.scp_keys.apply(lambda x: 1 if len(set(x).intersection(set(MIlabels))) > 0 else 0)\n",
    "Y.loc[:, 'HYP'] = Y.scp_keys.apply(lambda x: 1 if len(set(x).intersection(set(HYPLabels))) > 0 else 0)\n",
    "Y.loc[:, 'CD'] = Y.scp_keys.apply(lambda x: 1 if len(set(x).intersection(set(CDLables))) > 0 else 0)\n",
    "\n",
    "Y_train = Y[(Y.strat_fold != 10)&(Y.strat_fold!= 9)].reset_index()\n",
    "X_train = X[np.where((Y.strat_fold != 10)&(Y.strat_fold!= 9))]\n",
    "\n",
    "Y_val = Y[Y.strat_fold == 9].reset_index()\n",
    "X_val = X[np.where(Y.strat_fold ==9)]\n",
    "\n",
    "Y_test = Y[Y.strat_fold == 10].reset_index()\n",
    "X_test = X[np.where(Y.strat_fold == 10)]\n"
   ]
  },
  {
   "cell_type": "code",
   "execution_count": 11,
   "metadata": {},
   "outputs": [],
   "source": [
    "Y_form_train = Y_train[Y_train.Form == 1].reset_index()[FormLabels]\n",
    "X_form_train = X_train[np.where(Y_train.Form == 1)]\n",
    "Y_rhythm_train = Y_train[Y_train.Rhythm == 1].reset_index()[RhythmLabels]\n",
    "X_rhythm_train = X_train[np.where(Y_train.Rhythm == 1)]\n",
    "Y_STTC_train = Y_train[Y_train.STTC == 1].reset_index()[STTCLabels]\n",
    "X_STTC_train = X_train[np.where(Y_train.STTC == 1)]\n",
    "Y_MI_train = Y_train[Y_train.MI == 1].reset_index()[MIlabels]\n",
    "X_MI_train = X_train[np.where(Y_train.MI == 1)]\n",
    "Y_HYP_train = Y_train[Y_train.HYP == 1].reset_index()[HYPLabels]\n",
    "X_HYP_train = X_train[np.where(Y_train.HYP == 1)]\n",
    "Y_CD_train = Y_train[Y_train.CD == 1].reset_index()[CDLables]\n",
    "X_CD_train = X_train[np.where(Y_train.CD == 1)]\n",
    "\n",
    "Y_form_val = Y_val[Y_val.Form == 1].reset_index()[FormLabels]\n",
    "X_form_val = X_val[np.where(Y_val.Form == 1)]\n",
    "Y_rhythm_val = Y_val[Y_val.Rhythm == 1].reset_index()[RhythmLabels]\n",
    "X_rhythm_val = X_val[np.where(Y_val.Rhythm == 1)]\n",
    "Y_STTC_val = Y_val[Y_val.STTC == 1].reset_index()[STTCLabels]\n",
    "X_STTC_val = X_val[np.where(Y_val.STTC == 1)]\n",
    "Y_MI_val = Y_val[Y_val.MI == 1].reset_index()[MIlabels]\n",
    "X_MI_val = X_val[np.where(Y_val.MI == 1)]\n",
    "Y_HYP_val = Y_val[Y_val.HYP == 1].reset_index()[HYPLabels]\n",
    "X_HYP_val = X_val[np.where(Y_val.HYP == 1)]\n",
    "Y_CD_val = Y_val[Y_val.CD == 1].reset_index()[CDLables]\n",
    "X_CD_val = X_val[np.where(Y_val.CD == 1)]\n",
    "\n",
    "Y_form_test = Y_test[Y_test.Form == 1].reset_index()[FormLabels]\n",
    "X_form_test = X_test[np.where(Y_test.Form == 1)]\n",
    "Y_rhythm_test = Y_test[Y_test.Rhythm == 1].reset_index()[RhythmLabels]\n",
    "X_rhythm_test = X_test[np.where(Y_test.Rhythm == 1)]\n",
    "Y_STTC_test = Y_test[Y_test.STTC == 1].reset_index()[STTCLabels]\n",
    "X_STTC_test = X_test[np.where(Y_test.STTC == 1)]\n",
    "Y_MI_test = Y_test[Y_test.MI == 1].reset_index()[MIlabels]\n",
    "X_MI_test = X_test[np.where(Y_test.MI == 1)]\n",
    "Y_HYP_test = Y_test[Y_test.HYP == 1].reset_index()[HYPLabels]\n",
    "X_HYP_test = X_test[np.where(Y_test.HYP == 1)]\n",
    "Y_CD_test = Y_test[Y_test.CD == 1].reset_index()[CDLables]\n",
    "X_CD_test = X_test[np.where(Y_test.CD == 1)]\n"
   ]
  },
  {
   "cell_type": "code",
   "execution_count": 12,
   "metadata": {},
   "outputs": [],
   "source": [
    "Y_form_train[Y_form_train>0] = 1.0\n",
    "Y_form_val[Y_form_val>0] = 1.0\n",
    "Y_form_test[Y_form_test>0] = 1.0\n",
    "Y_rhythm_train[Y_rhythm_train>0] = 1.0\n",
    "Y_rhythm_val[Y_rhythm_val>0] = 1.0\n",
    "Y_rhythm_test[Y_rhythm_test>0] = 1.0\n",
    "Y_STTC_train[Y_STTC_train>0] = 1.0\n",
    "Y_STTC_val[Y_STTC_val>0] = 1.0\n",
    "Y_STTC_test[Y_STTC_test>0] = 1.0\n",
    "Y_MI_train[Y_MI_train>0] = 1.0\n",
    "Y_MI_val[Y_MI_val>0] = 1.0\n",
    "Y_MI_test[Y_MI_test>0] = 1.0\n",
    "Y_HYP_train[Y_HYP_train>0] = 1.0\n",
    "Y_HYP_val[Y_HYP_val>0] = 1.0\n",
    "Y_HYP_test[Y_HYP_test>0] = 1.0\n",
    "Y_CD_train[Y_CD_train>0] = 1.0\n",
    "Y_CD_val[Y_CD_val>0] = 1.0\n",
    "Y_CD_test[Y_CD_test>0] = 1.0\n"
   ]
  },
  {
   "cell_type": "code",
   "execution_count": 11,
   "metadata": {},
   "outputs": [
    {
     "data": {
      "text/plain": [
       "(2804, 1000, 12)"
      ]
     },
     "execution_count": 11,
     "metadata": {},
     "output_type": "execute_result"
    }
   ],
   "source": [
    "X_form_train.shape"
   ]
  },
  {
   "cell_type": "code",
   "execution_count": null,
   "metadata": {},
   "outputs": [],
   "source": [
    "np.savez_compressed('./Datasets/FormTrain.npz', x=X_form_train, y=Y_form_train)\n",
    "np.savez_compressed('./Datasets/RhythmTrain.npz', x=X_rhythm_train, y=Y_rhythm_train)\n",
    "np.savez_compressed('./Datasets/STTCTrain.npz', x=X_STTC_train, y=Y_STTC_train)\n",
    "np.savez_compressed('./Datasets/MITrain.npz', x=X_MI_train, y=Y_MI_train)\n",
    "np.savez_compressed('./Datasets/HYPTrain.npz', x=X_HYP_train, y=Y_HYP_train)\n",
    "np.savez_compressed('./Datasets/CDTrain.npz', x=X_CD_train, y=Y_CD_train)\n",
    "\n",
    "np.savez_compressed('./Datasets/FormVal.npz', x=X_form_val, y=Y_form_val)\n",
    "np.savez_compressed('./Datasets/RhythmVal.npz', x=X_rhythm_val, y=Y_rhythm_val)\n",
    "np.savez_compressed('./Datasets/STTCVal.npz', x=X_STTC_val, y=Y_STTC_val)\n",
    "np.savez_compressed('./Datasets/MIVal.npz', x=X_MI_val, y=Y_MI_val)\n",
    "np.savez_compressed('./Datasets/HYPVal.npz', x=X_HYP_val, y=Y_HYP_val)\n",
    "np.savez_compressed('./Datasets/CDVal.npz', x=X_CD_val, y=Y_CD_val)\n",
    "\n",
    "np.savez_compressed('./Datasets/FormTest.npz', x=X_form_test, y=Y_form_test)\n",
    "np.savez_compressed('./Datasets/RhythmTest.npz', x=X_rhythm_test, y=Y_rhythm_test)\n",
    "np.savez_compressed('./Datasets/STTCTest.npz', x=X_STTC_test, y=Y_STTC_test)\n",
    "np.savez_compressed('./Datasets/MITest.npz', x=X_MI_test, y=Y_MI_test)\n",
    "np.savez_compressed('./Datasets/HYPTest.npz', x=X_HYP_test, y=Y_HYP_test)\n",
    "np.savez_compressed('./Datasets/CDTest.npz', x=X_CD_test, y=Y_CD_test)\n",
    "\n",
    "category_keys = ['Form', 'Rhythm', 'STTC', 'MI', 'HYP', 'CD']\n",
    "category_labels = [FormLabels, RhythmLabels, STTCLabels, MIlabels, HYPLabels, CDLables]\n",
    "category_dict = dict(zip(category_keys, category_labels))\n"
   ]
  },
  {
   "cell_type": "code",
   "execution_count": null,
   "metadata": {},
   "outputs": [],
   "source": [
    "import pickle\n",
    "with open('./Datasets/category.pickle', 'wb') as handle:\n",
    "    pickle.dump(category_dict, handle, protocol=pickle.HIGHEST_PROTOCOL)"
   ]
  },
  {
   "cell_type": "code",
   "execution_count": null,
   "metadata": {},
   "outputs": [],
   "source": [
    "%matplotlib widget\n",
    "fig = plt.figure(figsize=(10.5,8))\n",
    "SMALL_SIZE = 6\n",
    "MEDIUM_SIZE = 6\n",
    "BIGGER_SIZE = 12\n",
    "\n",
    "plt.rc('font', size=SMALL_SIZE)          # controls default text sizes\n",
    "plt.rc('axes', titlesize=SMALL_SIZE)     # fontsize of the axes title\n",
    "plt.rc('axes', labelsize=MEDIUM_SIZE)    # fontsize of the x and y labels\n",
    "plt.rc('xtick', labelsize=SMALL_SIZE)    # fontsize of the tick labels\n",
    "plt.rc('ytick', labelsize=SMALL_SIZE)    # fontsize of the tick labels\n",
    "plt.rc('legend', fontsize=SMALL_SIZE)    # legend fontsize\n",
    "plt.rc('figure', titlesize=BIGGER_SIZE)  # fontsize of the figure title\n",
    "sns.set_theme(style='whitegrid')\n",
    "sns.set_color_codes(\"pastel\")\n",
    "sns.barplot(x=class2num.keys(), y=counts, hue=scp_codes.superclass_desc)\n",
    "sns.despine(left = True)\n",
    "plt.title(\"Distribution of Classes\")\n",
    "plt.xlabel(\"Labels\")\n",
    "plt.ylabel(\"# of Records\")\n",
    "plt.xticks(rotation=90)\n",
    "plt.savefig('../src/report/LabelDistribution.png', dpi =300)\n",
    "plt.show()"
   ]
  },
  {
   "cell_type": "code",
   "execution_count": null,
   "metadata": {},
   "outputs": [],
   "source": []
  }
 ],
 "metadata": {
  "kernelspec": {
   "display_name": "Python 3",
   "language": "python",
   "name": "python3"
  },
  "language_info": {
   "codemirror_mode": {
    "name": "ipython",
    "version": 3
   },
   "file_extension": ".py",
   "mimetype": "text/x-python",
   "name": "python",
   "nbconvert_exporter": "python",
   "pygments_lexer": "ipython3",
   "version": "3.11.2"
  }
 },
 "nbformat": 4,
 "nbformat_minor": 2
}
