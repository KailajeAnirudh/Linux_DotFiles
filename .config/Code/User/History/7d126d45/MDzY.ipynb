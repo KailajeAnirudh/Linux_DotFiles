{
 "cells": [
  {
   "cell_type": "code",
   "execution_count": null,
   "metadata": {},
   "outputs": [],
   "source": [
    "# torch and torchvision imports\n",
    "import torch\n",
    "from torchinfo import summary\n",
    "from torch.utils.tensorboard import SummaryWriter\n",
    "from ResnetModel import *\n",
    "from transformer import *\n",
    "writer = SummaryWriter()\n",
    "# from google.colab import drive\n",
    "# drive.mount('/gdrive')\n",
    "torch.set_default_dtype(torch.float32)\n",
    "device = torch.device('cuda' if torch.cuda.is_available() else 'cpu')\n",
    "print(f\"Device: {device}\")\n"
   ]
  },
  {
   "cell_type": "markdown",
   "metadata": {},
   "source": [
    "### Loading and Preparing Data"
   ]
  },
  {
   "cell_type": "code",
   "execution_count": null,
   "metadata": {},
   "outputs": [],
   "source": [
    "import os"
   ]
  },
  {
   "cell_type": "code",
   "execution_count": null,
   "metadata": {},
   "outputs": [],
   "source": [
    "os.listdir('../')"
   ]
  },
  {
   "cell_type": "code",
   "execution_count": null,
   "metadata": {},
   "outputs": [],
   "source": [
    "path = '../ptb-xl-a-large-publicly-available-electrocardiography-dataset-1.0.1/Datasets/'\n",
    "X_train_form = np.load(path+'FormTrain.npz')['x']\n",
    "X_train_rhythm = np.load(path+'RhythmTrain.npz')['x']\n",
    "X_train_CD = np.load(path+'CDTrain.npz')['x']\n",
    "X_train_HYP = np.load(path+'HYPTrain.npz')['x']\n",
    "X_train_MI = np.load(path+'MITrain.npz')['x']\n",
    "X_train_STTC = np.load(path+'STTCTrain.npz')['x']\n",
    "Y_train_form = np.load(path+'FormTrain.npz')['y']\n",
    "Y_train_rhythm = np.load(path+'RhythmTrain.npz')['y']\n",
    "Y_train_CD = np.load(path+'CDTrain.npz')['y']\n",
    "Y_train_HYP = np.load(path+'HYPTrain.npz')['y']\n",
    "Y_train_MI = np.load(path+'MITrain.npz')['y']\n",
    "Y_train_STTC = np.load(path+'STTCTrain.npz')['y']\n",
    "X_val_form = np.load(path+'FormVal.npz')['x']\n",
    "X_val_rhythm = np.load(path+'RhythmVal.npz')['x']\n",
    "X_val_CD = np.load(path+'CDVal.npz')['x']\n",
    "X_val_HYP = np.load(path+'HYPVal.npz')['x']\n",
    "X_val_MI = np.load(path+'MIVal.npz')['x']\n",
    "X_val_STTC = np.load(path+'STTCVal.npz')['x']\n",
    "Y_val_form = np.load(path+'FormVal.npz')['y']\n",
    "Y_val_rhythm = np.load(path+'RhythmVal.npz')['y']\n",
    "Y_val_CD = np.load(path+'CDVal.npz')['y']\n",
    "Y_val_HYP = np.load(path+'HYPVal.npz')['y']\n",
    "Y_val_MI = np.load(path+'MIVal.npz')['y']\n",
    "Y_val_STTC = np.load(path+'STTCVal.npz')['y']\n"
   ]
  },
  {
   "cell_type": "code",
   "execution_count": null,
   "metadata": {},
   "outputs": [],
   "source": [
    "form_train_dataset = torch.utils.data.TensorDataset(torch.from_numpy(X_train_form), torch.from_numpy(Y_train_form))\n",
    "rhythm_train_dataset = torch.utils.data.TensorDataset(torch.from_numpy(X_train_rhythm), torch.from_numpy(Y_train_rhythm))\n",
    "CD_train_dataset = torch.utils.data.TensorDataset(torch.from_numpy(X_train_CD), torch.from_numpy(Y_train_CD))\n",
    "HYP_train_dataset = torch.utils.data.TensorDataset(torch.from_numpy(X_train_HYP), torch.from_numpy(Y_train_HYP))\n",
    "MI_train_dataset = torch.utils.data.TensorDataset(torch.from_numpy(X_train_MI), torch.from_numpy(Y_train_MI))\n",
    "STTC_train_dataset = torch.utils.data.TensorDataset(torch.from_numpy(X_train_STTC), torch.from_numpy(Y_train_STTC))\n",
    "form_val_dataset = torch.utils.data.TensorDataset(torch.from_numpy(X_val_form), torch.from_numpy(Y_val_form))\n",
    "rhythm_val_dataset = torch.utils.data.TensorDataset(torch.from_numpy(X_val_rhythm), torch.from_numpy(Y_val_rhythm))\n",
    "CD_val_dataset = torch.utils.data.TensorDataset(torch.from_numpy(X_val_CD), torch.from_numpy(Y_val_CD))\n",
    "HYP_val_dataset = torch.utils.data.TensorDataset(torch.from_numpy(X_val_HYP), torch.from_numpy(Y_val_HYP))\n",
    "MI_val_dataset = torch.utils.data.TensorDataset(torch.from_numpy(X_val_MI), torch.from_numpy(Y_val_MI))\n",
    "STTC_val_dataset = torch.utils.data.TensorDataset(torch.from_numpy(X_val_STTC), torch.from_numpy(Y_val_STTC))\n",
    "\n",
    "del X_train_form, X_train_rhythm, X_train_CD, X_train_HYP, X_train_MI, X_train_STTC, Y_train_form, Y_train_rhythm, Y_train_CD, Y_train_HYP, Y_train_MI, Y_train_STTC, X_val_form, X_val_rhythm, X_val_CD, X_val_HYP, X_val_MI, X_val_STTC, Y_val_form, Y_val_rhythm, Y_val_CD, Y_val_HYP, Y_val_MI, Y_val_STTC"
   ]
  },
  {
   "cell_type": "code",
   "execution_count": null,
   "metadata": {},
   "outputs": [],
   "source": [
    "with open(path+'category.pickle', 'rb') as f:\n",
    "    category = pickle.load(f)\n",
    "num_classes = [len(category[key]) for key in category.keys()]\n",
    "models = [key for key in category.keys()]\n",
    "print(num_classes)\n",
    "print(models)"
   ]
  },
  {
   "cell_type": "markdown",
   "metadata": {},
   "source": [
    "### Creating the Resnet Model"
   ]
  },
  {
   "cell_type": "code",
   "execution_count": null,
   "metadata": {},
   "outputs": [],
   "source": [
    "form_model = ResNet(Bottleneck, [3, 4, 23, 3], num_classes[0]).to(device).float()\n",
    "rhythm_model = ResNet(Bottleneck, [3, 4, 23, 3], num_classes[1]).to(device).float()\n",
    "STTC_model = ResNet(Bottleneck, [3, 4, 23, 3], num_classes[2]).to(device).float()\n",
    "MI_model = ResNet(Bottleneck, [3, 4, 23, 3], num_classes[3]).to(device).float()\n",
    "HYP_model = ResNet(Bottleneck, [3, 4, 23, 3], num_classes[4]).to(device).float()\n",
    "CD_model = ResNet(Bottleneck, [3, 4, 23, 3], num_classes[5]).to(device).float()"
   ]
  },
  {
   "cell_type": "code",
   "execution_count": null,
   "metadata": {},
   "outputs": [],
   "source": [
    "form_train_loader = torch.utils.data.DataLoader(form_train_dataset, batch_size=10, shuffle=True)\n",
    "rhythm_train_loader = torch.utils.data.DataLoader(rhythm_train_dataset, batch_size=10, shuffle=True)\n",
    "STCC_train_loader = torch.utils.data.DataLoader(STTC_train_dataset, batch_size=10, shuffle=True)\n",
    "MI_train_loader = torch.utils.data.DataLoader(MI_train_dataset, batch_size=10, shuffle=True)\n",
    "HYP_train_loader = torch.utils.data.DataLoader(HYP_train_dataset, batch_size=10, shuffle=True)\n",
    "CD_train_loader = torch.utils.data.DataLoader(CD_train_dataset, batch_size=10, shuffle=True)\n",
    "form_val_loader = torch.utils.data.DataLoader(form_val_dataset, batch_size=10, shuffle=True)\n",
    "rhythm_val_loader = torch.utils.data.DataLoader(rhythm_val_dataset, batch_size=10, shuffle=True)\n",
    "STCC_val_loader = torch.utils.data.DataLoader(STTC_val_dataset, batch_size=10, shuffle=True)\n",
    "MI_val_loader = torch.utils.data.DataLoader(MI_val_dataset, batch_size=10, shuffle=True)\n",
    "HYP_val_loader = torch.utils.data.DataLoader(HYP_val_dataset, batch_size=10, shuffle=True)\n",
    "CD_val_loader = torch.utils.data.DataLoader(CD_val_dataset, batch_size=10, shuffle=True)\n"
   ]
  },
  {
   "cell_type": "code",
   "execution_count": null,
   "metadata": {},
   "outputs": [],
   "source": [
    "form_metric = MultilabelAUROC(num_labels=num_classes[0])\n",
    "rhythm_metric = MultilabelAUROC(num_labels=num_classes[1])\n",
    "STTC_metric = MultilabelAUROC(num_labels=num_classes[2])\n",
    "MI_metric = MultilabelAUROC(num_labels=num_classes[3])\n",
    "HYP_metric = MultilabelAUROC(num_labels=num_classes[4])\n",
    "CD_metric = MultilabelAUROC(num_labels=num_classes[5])\n",
    "\n",
    "\n",
    "form_criterion = nn.BCELoss()\n",
    "rhythm_criterion = nn.BCELoss()\n",
    "STTC_criterion = nn.BCELoss()\n",
    "MI_criterion = nn.BCELoss()\n",
    "HYP_criterion = nn.BCELoss()\n",
    "CD_criterion = nn.BCELoss()\n",
    "\n",
    "form_optimizer = torch.optim.Adam(form_model.parameters(), lr=0.0001, weight_decay=1e-4)\n",
    "rhythm_optimizer = torch.optim.Adam(rhythm_model.parameters(), lr=0.0001, weight_decay=1e-4)\n",
    "STTC_optimizer = torch.optim.Adam(STTC_model.parameters(), lr=0.0001, weight_decay=1e-4)\n",
    "MI_optimizer = torch.optim.Adam(MI_model.parameters(), lr=0.0001, weight_decay=1e-4)\n",
    "HYP_optimizer = torch.optim.Adam(HYP_model.parameters(), lr=0.0001, weight_decay=1e-4)\n",
    "CD_optimizer = torch.optim.Adam(CD_model.parameters(), lr=0.0001, weight_decay=1e-4)\n",
    "\n",
    "model_names = ['form', 'rhythm', 'STTC', 'MI', 'HYP', 'CD']\n",
    "models = [form_model, rhythm_model, STTC_model, MI_model, HYP_model, CD_model]\n",
    "optimizers = [form_optimizer, rhythm_optimizer, STTC_optimizer, MI_optimizer, HYP_optimizer, CD_optimizer]\n",
    "criterions = [form_criterion, rhythm_criterion, STTC_criterion, MI_criterion, HYP_criterion, CD_criterion]\n",
    "train_loaders = [form_train_loader, rhythm_train_loader, STCC_train_loader, MI_train_loader, HYP_train_loader, CD_train_loader]\n",
    "val_loaders = [form_val_loader, rhythm_val_loader, STCC_val_loader, MI_val_loader, HYP_val_loader, CD_val_loader]\n",
    "metrics = [form_metric, rhythm_metric, STTC_metric, MI_metric, HYP_metric, CD_metric]\n",
    "\n",
    "train_losses = [[] for i in range(len(models))]\n",
    "val_losses = [[] for i in range(len(models))]\n",
    "train_aurocs = [[] for i in range(len(models))]\n",
    "val_aurocs = [[] for i in range(len(models))]\n",
    "lr_records = [[] for i in range(len(models))]\n",
    "\n",
    "lr_max = 0.00035\n",
    "lr = lr_max\n",
    "epochs = 10\n",
    "\n",
    "ts = np.zeros(len(models), dtype=np.int32)\n",
    "lrs = np.zeros(len(models), dtype=np.float32)\n",
    "steps_per_epoch = [len(loader) for loader in train_loaders]\n",
    "T_maxs = [steps_per_epoch[i]*epochs for i in range(len(models))]\n",
    "T_0s = [T_maxs[i]//5 for i in range(len(models))]\n",
    "for optimizer in optimizers:\n",
    "    for param_group in optimizer.param_groups:\n",
    "        param_group['lr'] = lr_max\n",
    "            \n"
   ]
  },
  {
   "cell_type": "code",
   "execution_count": null,
   "metadata": {},
   "outputs": [],
   "source": [
    "for epoch in range(epochs):\n",
    "    for model in range(len(models)):\n",
    "        model_i = models[model]\n",
    "        optimizer = optimizers[model]\n",
    "        criterion = criterions[model]\n",
    "        train_loader = train_loaders[model]\n",
    "        val_loader = val_loaders[model]\n",
    "        metric = metrics[model]\n",
    "        T_0 = T_0s[model]\n",
    "        T_max = T_maxs[model]\n",
    "            \n",
    "        for i, (signal, labels) in enumerate(train_loader):\n",
    "            idx = np.random.randint(0, 1000-200)\n",
    "            signal = signal.transpose(1,2).to(device)\n",
    "            labels = labels.to(device)\n",
    "            optimizer.zero_grad()\n",
    "            outputs = model_i(signal)\n",
    "            loss = criterion(outputs, labels)\n",
    "            loss.backward()\n",
    "            ts[model] += 1\n",
    "            train_losses[model].append(loss.item())\n",
    "            if ts[model] <= T_0:\n",
    "                lrs[model] = 10**(-4) + (ts[model]/T_0)*lr_max  \n",
    "            else: \n",
    "                lrs[model] = lr_max*np.cos((np.pi/2)*((ts[model]-T_0)/(T_max-T_0))) + 10**(-6) \n",
    "\n",
    "            lr_records[model].append(lrs[model])\n",
    "            for g in optimizer.param_groups:\n",
    "                g['lr'] = lrs[model]\n",
    "\n",
    "            optimizer.step()\n",
    "\n",
    "            if (i+1) % len(train_loader)//10 == 0:\n",
    "                print(f'Model: {model_names[model]}, Epoch [{epoch+1}/{epochs}], Step [{i+1}/{steps_per_epoch}], Loss: {loss.item():.4f}, AUROC: {metric(outputs, (labels>0).int()):.4f}')\n",
    "            \n",
    "        test_auc = 0\n",
    "        test_loss = 0\n",
    "        with torch.no_grad():\n",
    "            for signal, labels in val_loader:\n",
    "                idx = np.random.randint(0, 1000-200)\n",
    "                signal = (signal[:, idx:idx+200]).to(device)\n",
    "                labels = labels.to(device)\n",
    "                outputs = model_i(signal)\n",
    "                loss = criterion(outputs, labels)\n",
    "                test_loss += loss.item()\n",
    "                test_auc += metric(outputs, (labels>0).int())\n",
    "            val_losses[model].append(test_loss/len(val_loader))\n",
    "            val_aurocs[model].append(test_auc/len(val_loader))\n",
    "        print(f'Model: {model_names[model]}, Epoch [{epoch+1}/{epochs}], Val Loss: {test_loss/len(val_loader):.4f}, Val AUROC: {test_auc/len(val_loader):.4f}')"
   ]
  },
  {
   "cell_type": "code",
   "execution_count": null,
   "metadata": {},
   "outputs": [],
   "source": [
    "signal"
   ]
  },
  {
   "cell_type": "code",
   "execution_count": null,
   "metadata": {},
   "outputs": [],
   "source": [
    "t = 0\n",
    "steps_per_epoch = len(train_loader)\n",
    "T_max = steps_per_epoch*epochs\n",
    "T_0 = T_max/5 \n",
    "learning_rates = []\n",
    "train_losses = []\n",
    "\n",
    "for epoch in range(epochs):\n",
    "    for i, (signal, labels) in enumerate(train_loader):\n",
    "        idx = np.random.randint(0, 1000-200)\n",
    "        signal_sample = (signal[:, :, idx:idx+200]).to(device)\n",
    "        labels = labels.to(device)\n",
    "        optimizer.zero_grad()\n",
    "        outputs = model(signal_sample)\n",
    "        loss = criterion(outputs, labels.float())\n",
    "        loss.backward()\n",
    "        nn.utils.clip_grad_norm_(model.parameters(), 5)\n",
    "        if t <= T_0:\n",
    "            lr = 10**(-4) + (t/T_0)*lr_max  \n",
    "        else: \n",
    "            lr = lr_max*np.cos((np.pi/2)*((t-T_0)/(T_max-T_0))) + 10**(-6) \n",
    "\n",
    "        for g in optimizer.param_groups:\n",
    "            g['lr'] = lr \n",
    "        learning_rates.append(lr)\n",
    "        train_losses.append(loss.item())\n",
    "        optimizer.step()\n",
    "        t+=1\n",
    "        \n",
    "        train_AUC = ml_auroc(outputs, labels.int())\n",
    "        writer.add_scalar(\"Train_Loss\", loss, t)\n",
    "        writer.add_scalar(\"Learning rate\", lr, t)\n",
    "        writer.add_scalar(\"Batch Train AUC\", train_AUC, t)\n",
    "\n",
    "        if i%(len(train_loader)//10) == 0:\n",
    "            print(f\"Step: {i+1}/{len(train_loader)}  |  Train loss: {loss.item():.4f}  |  Train AUC: {train_AUC:.4f}\")\n",
    "           \n",
    "\n",
    "    # model.eval()\n",
    "    test_auc = 0\n",
    "    with torch.no_grad():\n",
    "        for i, (signal, labels) in enumerate(test_loader):\n",
    "            idx = np.random.randint(0, 1000-200)\n",
    "            signal = (signal[:, :, idx:idx+200]).to(device)\n",
    "            labels = labels.to(device)\n",
    "            outputs = model(signal)\n",
    "            test_auc += ml_auroc(outputs, labels.int())\n",
    "        test_auc /= len(test_loader)\n",
    "    writer.add_scalar(\"Test AUC\", test_auc, epoch)"
   ]
  },
  {
   "cell_type": "code",
   "execution_count": null,
   "metadata": {},
   "outputs": [],
   "source": [
    "signal.shape"
   ]
  },
  {
   "cell_type": "code",
   "execution_count": null,
   "metadata": {},
   "outputs": [],
   "source": [
    "with open('superclassresnetmodel.pickle', 'wb') as f:\n",
    "    pickle.dump(model, f)"
   ]
  },
  {
   "cell_type": "code",
   "execution_count": null,
   "metadata": {},
   "outputs": [],
   "source": [
    "import pickle, matplotlib.pyplot as plt, torch\n",
    "with open('./modelres/SuperClasslosses.pickle', 'rb') as f:\n",
    "    train_losses = pickle.load(f)"
   ]
  },
  {
   "cell_type": "code",
   "execution_count": null,
   "metadata": {},
   "outputs": [],
   "source": [
    "len(train_losses)"
   ]
  },
  {
   "cell_type": "code",
   "execution_count": null,
   "metadata": {},
   "outputs": [],
   "source": [
    "fig,axes = plt.subplots(1,3, figsize = (10,3))\n",
    "axes[0].plot(train_losses[0])\n",
    "axes[1].plot(torch.tensor(train_losses[1]))\n",
    "axes[2].plot(train_losses[2])\n",
    "plt.show()\n"
   ]
  },
  {
   "cell_type": "code",
   "execution_count": null,
   "metadata": {},
   "outputs": [],
   "source": [
    "torch.tensor(train_losses[0][-2000:]).mean()"
   ]
  },
  {
   "cell_type": "code",
   "execution_count": null,
   "metadata": {},
   "outputs": [],
   "source": [
    "import torch\n",
    "torch.tensor(train_losses[1]).device"
   ]
  },
  {
   "cell_type": "code",
   "execution_count": null,
   "metadata": {},
   "outputs": [],
   "source": [
    "train_losses[2]"
   ]
  },
  {
   "cell_type": "code",
   "execution_count": null,
   "metadata": {},
   "outputs": [],
   "source": [
    "model"
   ]
  }
 ],
 "metadata": {
  "kernelspec": {
   "display_name": "Python 3",
   "language": "python",
   "name": "python3"
  },
  "language_info": {
   "codemirror_mode": {
    "name": "ipython",
    "version": 3
   },
   "file_extension": ".py",
   "mimetype": "text/x-python",
   "name": "python",
   "nbconvert_exporter": "python",
   "pygments_lexer": "ipython3",
   "version": "3.11.2"
  }
 },
 "nbformat": 4,
 "nbformat_minor": 2
}
