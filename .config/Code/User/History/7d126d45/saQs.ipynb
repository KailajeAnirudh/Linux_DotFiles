{
 "cells": [
  {
   "cell_type": "code",
   "execution_count": 1,
   "metadata": {},
   "outputs": [
    {
     "name": "stderr",
     "output_type": "stream",
     "text": [
      "2023-12-09 21:30:29.988091: I tensorflow/core/util/port.cc:113] oneDNN custom operations are on. You may see slightly different numerical results due to floating-point round-off errors from different computation orders. To turn them off, set the environment variable `TF_ENABLE_ONEDNN_OPTS=0`.\n",
      "2023-12-09 21:30:30.191400: E external/local_xla/xla/stream_executor/cuda/cuda_dnn.cc:9261] Unable to register cuDNN factory: Attempting to register factory for plugin cuDNN when one has already been registered\n",
      "2023-12-09 21:30:30.191497: E external/local_xla/xla/stream_executor/cuda/cuda_fft.cc:607] Unable to register cuFFT factory: Attempting to register factory for plugin cuFFT when one has already been registered\n",
      "2023-12-09 21:30:30.215765: E external/local_xla/xla/stream_executor/cuda/cuda_blas.cc:1515] Unable to register cuBLAS factory: Attempting to register factory for plugin cuBLAS when one has already been registered\n",
      "2023-12-09 21:30:30.277416: I tensorflow/core/platform/cpu_feature_guard.cc:182] This TensorFlow binary is optimized to use available CPU instructions in performance-critical operations.\n",
      "To enable the following instructions: AVX2 AVX_VNNI FMA, in other operations, rebuild TensorFlow with the appropriate compiler flags.\n",
      "2023-12-09 21:30:31.668732: W tensorflow/compiler/tf2tensorrt/utils/py_utils.cc:38] TF-TRT Warning: Could not find TensorRT\n"
     ]
    },
    {
     "name": "stdout",
     "output_type": "stream",
     "text": [
      "Device: cuda\n"
     ]
    }
   ],
   "source": [
    "# torch and torchvision imports\n",
    "import torch\n",
    "from torchinfo import summary\n",
    "from torch.utils.tensorboard import SummaryWriter\n",
    "from ResnetModel import *\n",
    "from transformer import *\n",
    "writer = SummaryWriter()\n",
    "# from google.colab import drive\n",
    "# drive.mount('/gdrive')\n",
    "torch.set_default_dtype(torch.float32)\n",
    "device = torch.device('cuda' if torch.cuda.is_available() else 'cpu')\n",
    "print(f\"Device: {device}\")\n"
   ]
  },
  {
   "cell_type": "markdown",
   "metadata": {},
   "source": [
    "### Loading and Preparing Data"
   ]
  },
  {
   "cell_type": "code",
   "execution_count": 2,
   "metadata": {},
   "outputs": [],
   "source": [
    "import os"
   ]
  },
  {
   "cell_type": "code",
   "execution_count": 3,
   "metadata": {},
   "outputs": [
    {
     "data": {
      "text/plain": [
       "['ecg_ptbxl_benchmarking',\n",
       " 'runs',\n",
       " 'ptb-xl-a-large-publicly-available-electrocardiography-dataset-1.0.1',\n",
       " '99_Ref',\n",
       " '.git',\n",
       " 'src',\n",
       " '.gitignore']"
      ]
     },
     "execution_count": 3,
     "metadata": {},
     "output_type": "execute_result"
    }
   ],
   "source": [
    "os.listdir('../')"
   ]
  },
  {
   "cell_type": "code",
   "execution_count": 4,
   "metadata": {},
   "outputs": [],
   "source": [
    "path = '../ptb-xl-a-large-publicly-available-electrocardiography-dataset-1.0.1/Datasets/'\n",
    "X_train_form = np.load(path+'FormTrain.npz')['x']\n",
    "X_train_rhythm = np.load(path+'RhythmTrain.npz')['x']\n",
    "X_train_CD = np.load(path+'CDTrain.npz')['x']\n",
    "X_train_HYP = np.load(path+'HYPTrain.npz')['x']\n",
    "X_train_MI = np.load(path+'MITrain.npz')['x']\n",
    "X_train_STTC = np.load(path+'STTCTrain.npz')['x']\n",
    "Y_train_form = np.load(path+'FormTrain.npz')['y']\n",
    "Y_train_rhythm = np.load(path+'RhythmTrain.npz')['y']\n",
    "Y_train_CD = np.load(path+'CDTrain.npz')['y']\n",
    "Y_train_HYP = np.load(path+'HYPTrain.npz')['y']\n",
    "Y_train_MI = np.load(path+'MITrain.npz')['y']\n",
    "Y_train_STTC = np.load(path+'STTCTrain.npz')['y']\n",
    "X_val_form = np.load(path+'FormVal.npz')['x']\n",
    "X_val_rhythm = np.load(path+'RhythmVal.npz')['x']\n",
    "X_val_CD = np.load(path+'CDVal.npz')['x']\n",
    "X_val_HYP = np.load(path+'HYPVal.npz')['x']\n",
    "X_val_MI = np.load(path+'MIVal.npz')['x']\n",
    "X_val_STTC = np.load(path+'STTCVal.npz')['x']\n",
    "Y_val_form = np.load(path+'FormVal.npz')['y']\n",
    "Y_val_rhythm = np.load(path+'RhythmVal.npz')['y']\n",
    "Y_val_CD = np.load(path+'CDVal.npz')['y']\n",
    "Y_val_HYP = np.load(path+'HYPVal.npz')['y']\n",
    "Y_val_MI = np.load(path+'MIVal.npz')['y']\n",
    "Y_val_STTC = np.load(path+'STTCVal.npz')['y']\n"
   ]
  },
  {
   "cell_type": "code",
   "execution_count": 6,
   "metadata": {},
   "outputs": [],
   "source": [
    "form_train_dataset = torch.utils.data.TensorDataset(torch.from_numpy(X_train_form), torch.from_numpy(Y_train_form))\n",
    "rhythm_train_dataset = torch.utils.data.TensorDataset(torch.from_numpy(X_train_rhythm), torch.from_numpy(Y_train_rhythm))\n",
    "CD_train_dataset = torch.utils.data.TensorDataset(torch.from_numpy(X_train_CD), torch.from_numpy(Y_train_CD))\n",
    "HYP_train_dataset = torch.utils.data.TensorDataset(torch.from_numpy(X_train_HYP), torch.from_numpy(Y_train_HYP))\n",
    "MI_train_dataset = torch.utils.data.TensorDataset(torch.from_numpy(X_train_MI), torch.from_numpy(Y_train_MI))\n",
    "STTC_train_dataset = torch.utils.data.TensorDataset(torch.from_numpy(X_train_STTC), torch.from_numpy(Y_train_STTC))\n",
    "form_val_dataset = torch.utils.data.TensorDataset(torch.from_numpy(X_val_form), torch.from_numpy(Y_val_form))\n",
    "rhythm_val_dataset = torch.utils.data.TensorDataset(torch.from_numpy(X_val_rhythm), torch.from_numpy(Y_val_rhythm))\n",
    "CD_val_dataset = torch.utils.data.TensorDataset(torch.from_numpy(X_val_CD), torch.from_numpy(Y_val_CD))\n",
    "HYP_val_dataset = torch.utils.data.TensorDataset(torch.from_numpy(X_val_HYP), torch.from_numpy(Y_val_HYP))\n",
    "MI_val_dataset = torch.utils.data.TensorDataset(torch.from_numpy(X_val_MI), torch.from_numpy(Y_val_MI))\n",
    "STTC_val_dataset = torch.utils.data.TensorDataset(torch.from_numpy(X_val_STTC), torch.from_numpy(Y_val_STTC))\n",
    "\n",
    "del X_train_form, X_train_rhythm, X_train_CD, X_train_HYP, X_train_MI, X_train_STTC, Y_train_form, Y_train_rhythm, Y_train_CD, Y_train_HYP, Y_train_MI, Y_train_STTC, X_val_form, X_val_rhythm, X_val_CD, X_val_HYP, X_val_MI, X_val_STTC, Y_val_form, Y_val_rhythm, Y_val_CD, Y_val_HYP, Y_val_MI, Y_val_STTC"
   ]
  },
  {
   "cell_type": "code",
   "execution_count": 7,
   "metadata": {},
   "outputs": [
    {
     "name": "stdout",
     "output_type": "stream",
     "text": [
      "[19, 12, 13, 14, 5, 11]\n",
      "['Form', 'Rhythm', 'STTC', 'MI', 'HYP', 'CD']\n"
     ]
    }
   ],
   "source": [
    "with open(path+'category.pickle', 'rb') as f:\n",
    "    category = pickle.load(f)\n",
    "num_classes = [len(category[key]) for key in category.keys()]\n",
    "models = [key for key in category.keys()]\n",
    "print(num_classes)\n",
    "print(models)"
   ]
  },
  {
   "cell_type": "markdown",
   "metadata": {},
   "source": [
    "### Creating the Resnet Model"
   ]
  },
  {
   "cell_type": "code",
   "execution_count": 8,
   "metadata": {},
   "outputs": [],
   "source": [
    "form_model = ResNet(Bottleneck, [3, 4, 23, 3], num_classes[0]).to(device).float()\n",
    "rhythm_model = ResNet(Bottleneck, [3, 4, 23, 3], num_classes[1]).to(device).float()\n",
    "STTC_model = ResNet(Bottleneck, [3, 4, 23, 3], num_classes[2]).to(device).float()\n",
    "MI_model = ResNet(Bottleneck, [3, 4, 23, 3], num_classes[3]).to(device).float()\n",
    "HYP_model = ResNet(Bottleneck, [3, 4, 23, 3], num_classes[4]).to(device).float()\n",
    "CD_model = ResNet(Bottleneck, [3, 4, 23, 3], num_classes[5]).to(device).float()"
   ]
  },
  {
   "cell_type": "code",
   "execution_count": 9,
   "metadata": {},
   "outputs": [],
   "source": [
    "form_train_loader = torch.utils.data.DataLoader(form_train_dataset, batch_size=10, shuffle=True)\n",
    "rhythm_train_loader = torch.utils.data.DataLoader(rhythm_train_dataset, batch_size=10, shuffle=True)\n",
    "STCC_train_loader = torch.utils.data.DataLoader(STTC_train_dataset, batch_size=10, shuffle=True)\n",
    "MI_train_loader = torch.utils.data.DataLoader(MI_train_dataset, batch_size=10, shuffle=True)\n",
    "HYP_train_loader = torch.utils.data.DataLoader(HYP_train_dataset, batch_size=10, shuffle=True)\n",
    "CD_train_loader = torch.utils.data.DataLoader(CD_train_dataset, batch_size=10, shuffle=True)\n",
    "form_val_loader = torch.utils.data.DataLoader(form_val_dataset, batch_size=10, shuffle=True)\n",
    "rhythm_val_loader = torch.utils.data.DataLoader(rhythm_val_dataset, batch_size=10, shuffle=True)\n",
    "STCC_val_loader = torch.utils.data.DataLoader(STTC_val_dataset, batch_size=10, shuffle=True)\n",
    "MI_val_loader = torch.utils.data.DataLoader(MI_val_dataset, batch_size=10, shuffle=True)\n",
    "HYP_val_loader = torch.utils.data.DataLoader(HYP_val_dataset, batch_size=10, shuffle=True)\n",
    "CD_val_loader = torch.utils.data.DataLoader(CD_val_dataset, batch_size=10, shuffle=True)\n"
   ]
  },
  {
   "cell_type": "code",
   "execution_count": 10,
   "metadata": {},
   "outputs": [],
   "source": [
    "form_metric = MultilabelAUROC(num_labels=num_classes[0])\n",
    "rhythm_metric = MultilabelAUROC(num_labels=num_classes[1])\n",
    "STTC_metric = MultilabelAUROC(num_labels=num_classes[2])\n",
    "MI_metric = MultilabelAUROC(num_labels=num_classes[3])\n",
    "HYP_metric = MultilabelAUROC(num_labels=num_classes[4])\n",
    "CD_metric = MultilabelAUROC(num_labels=num_classes[5])\n",
    "\n",
    "\n",
    "form_criterion = nn.BCELoss()\n",
    "rhythm_criterion = nn.BCELoss()\n",
    "STTC_criterion = nn.BCELoss()\n",
    "MI_criterion = nn.BCELoss()\n",
    "HYP_criterion = nn.BCELoss()\n",
    "CD_criterion = nn.BCELoss()\n",
    "\n",
    "form_optimizer = torch.optim.Adam(form_model.parameters(), lr=0.0001, weight_decay=1e-4)\n",
    "rhythm_optimizer = torch.optim.Adam(rhythm_model.parameters(), lr=0.0001, weight_decay=1e-4)\n",
    "STTC_optimizer = torch.optim.Adam(STTC_model.parameters(), lr=0.0001, weight_decay=1e-4)\n",
    "MI_optimizer = torch.optim.Adam(MI_model.parameters(), lr=0.0001, weight_decay=1e-4)\n",
    "HYP_optimizer = torch.optim.Adam(HYP_model.parameters(), lr=0.0001, weight_decay=1e-4)\n",
    "CD_optimizer = torch.optim.Adam(CD_model.parameters(), lr=0.0001, weight_decay=1e-4)\n",
    "\n",
    "model_names = ['form', 'rhythm', 'STTC', 'MI', 'HYP', 'CD']\n",
    "models = [form_model, rhythm_model, STTC_model, MI_model, HYP_model, CD_model]\n",
    "optimizers = [form_optimizer, rhythm_optimizer, STTC_optimizer, MI_optimizer, HYP_optimizer, CD_optimizer]\n",
    "criterions = [form_criterion, rhythm_criterion, STTC_criterion, MI_criterion, HYP_criterion, CD_criterion]\n",
    "train_loaders = [form_train_loader, rhythm_train_loader, STCC_train_loader, MI_train_loader, HYP_train_loader, CD_train_loader]\n",
    "val_loaders = [form_val_loader, rhythm_val_loader, STCC_val_loader, MI_val_loader, HYP_val_loader, CD_val_loader]\n",
    "metrics = [form_metric, rhythm_metric, STTC_metric, MI_metric, HYP_metric, CD_metric]\n",
    "\n",
    "train_losses = [[] for i in range(len(models))]\n",
    "val_losses = [[] for i in range(len(models))]\n",
    "train_aurocs = [[] for i in range(len(models))]\n",
    "val_aurocs = [[] for i in range(len(models))]\n",
    "lr_records = [[] for i in range(len(models))]\n",
    "\n",
    "lr_max = 0.00035\n",
    "lr = lr_max\n",
    "epochs = 10\n",
    "\n",
    "ts = np.zeros(len(models), dtype=np.int32)\n",
    "lrs = np.zeros(len(models), dtype=np.float32)\n",
    "steps_per_epoch = [len(loader) for loader in train_loaders]\n",
    "T_maxs = [steps_per_epoch[i]*epochs for i in range(len(models))]\n",
    "T_0s = [T_maxs[i]//5 for i in range(len(models))]\n",
    "for optimizer in optimizers:\n",
    "    for param_group in optimizer.param_groups:\n",
    "        param_group['lr'] = lr_max\n",
    "            \n"
   ]
  },
  {
   "cell_type": "code",
   "execution_count": 11,
   "metadata": {},
   "outputs": [
    {
     "ename": "RuntimeError",
     "evalue": "Input type (torch.cuda.DoubleTensor) and weight type (torch.cuda.FloatTensor) should be the same",
     "output_type": "error",
     "traceback": [
      "\u001b[0;31m---------------------------------------------------------------------------\u001b[0m",
      "\u001b[0;31mRuntimeError\u001b[0m                              Traceback (most recent call last)",
      "\u001b[1;32m/home/anirudhkailaje/Documents/01_UPenn/01_ESE5460/03_Project/src/RemainingModels.ipynb Cell 12\u001b[0m line \u001b[0;36m1\n\u001b[1;32m     <a href='vscode-notebook-cell:/home/anirudhkailaje/Documents/01_UPenn/01_ESE5460/03_Project/src/RemainingModels.ipynb#X24sZmlsZQ%3D%3D?line=14'>15</a>\u001b[0m labels \u001b[39m=\u001b[39m labels\u001b[39m.\u001b[39mto(device)\n\u001b[1;32m     <a href='vscode-notebook-cell:/home/anirudhkailaje/Documents/01_UPenn/01_ESE5460/03_Project/src/RemainingModels.ipynb#X24sZmlsZQ%3D%3D?line=15'>16</a>\u001b[0m optimizer\u001b[39m.\u001b[39mzero_grad()\n\u001b[0;32m---> <a href='vscode-notebook-cell:/home/anirudhkailaje/Documents/01_UPenn/01_ESE5460/03_Project/src/RemainingModels.ipynb#X24sZmlsZQ%3D%3D?line=16'>17</a>\u001b[0m outputs \u001b[39m=\u001b[39m model_i(signal)\n\u001b[1;32m     <a href='vscode-notebook-cell:/home/anirudhkailaje/Documents/01_UPenn/01_ESE5460/03_Project/src/RemainingModels.ipynb#X24sZmlsZQ%3D%3D?line=17'>18</a>\u001b[0m loss \u001b[39m=\u001b[39m criterion(outputs, labels)\n\u001b[1;32m     <a href='vscode-notebook-cell:/home/anirudhkailaje/Documents/01_UPenn/01_ESE5460/03_Project/src/RemainingModels.ipynb#X24sZmlsZQ%3D%3D?line=18'>19</a>\u001b[0m loss\u001b[39m.\u001b[39mbackward()\n",
      "File \u001b[0;32m~/.local/lib/python3.11/site-packages/torch/nn/modules/module.py:1518\u001b[0m, in \u001b[0;36mModule._wrapped_call_impl\u001b[0;34m(self, *args, **kwargs)\u001b[0m\n\u001b[1;32m   1516\u001b[0m     \u001b[39mreturn\u001b[39;00m \u001b[39mself\u001b[39m\u001b[39m.\u001b[39m_compiled_call_impl(\u001b[39m*\u001b[39margs, \u001b[39m*\u001b[39m\u001b[39m*\u001b[39mkwargs)  \u001b[39m# type: ignore[misc]\u001b[39;00m\n\u001b[1;32m   1517\u001b[0m \u001b[39melse\u001b[39;00m:\n\u001b[0;32m-> 1518\u001b[0m     \u001b[39mreturn\u001b[39;00m \u001b[39mself\u001b[39;49m\u001b[39m.\u001b[39;49m_call_impl(\u001b[39m*\u001b[39;49margs, \u001b[39m*\u001b[39;49m\u001b[39m*\u001b[39;49mkwargs)\n",
      "File \u001b[0;32m~/.local/lib/python3.11/site-packages/torch/nn/modules/module.py:1527\u001b[0m, in \u001b[0;36mModule._call_impl\u001b[0;34m(self, *args, **kwargs)\u001b[0m\n\u001b[1;32m   1522\u001b[0m \u001b[39m# If we don't have any hooks, we want to skip the rest of the logic in\u001b[39;00m\n\u001b[1;32m   1523\u001b[0m \u001b[39m# this function, and just call forward.\u001b[39;00m\n\u001b[1;32m   1524\u001b[0m \u001b[39mif\u001b[39;00m \u001b[39mnot\u001b[39;00m (\u001b[39mself\u001b[39m\u001b[39m.\u001b[39m_backward_hooks \u001b[39mor\u001b[39;00m \u001b[39mself\u001b[39m\u001b[39m.\u001b[39m_backward_pre_hooks \u001b[39mor\u001b[39;00m \u001b[39mself\u001b[39m\u001b[39m.\u001b[39m_forward_hooks \u001b[39mor\u001b[39;00m \u001b[39mself\u001b[39m\u001b[39m.\u001b[39m_forward_pre_hooks\n\u001b[1;32m   1525\u001b[0m         \u001b[39mor\u001b[39;00m _global_backward_pre_hooks \u001b[39mor\u001b[39;00m _global_backward_hooks\n\u001b[1;32m   1526\u001b[0m         \u001b[39mor\u001b[39;00m _global_forward_hooks \u001b[39mor\u001b[39;00m _global_forward_pre_hooks):\n\u001b[0;32m-> 1527\u001b[0m     \u001b[39mreturn\u001b[39;00m forward_call(\u001b[39m*\u001b[39;49margs, \u001b[39m*\u001b[39;49m\u001b[39m*\u001b[39;49mkwargs)\n\u001b[1;32m   1529\u001b[0m \u001b[39mtry\u001b[39;00m:\n\u001b[1;32m   1530\u001b[0m     result \u001b[39m=\u001b[39m \u001b[39mNone\u001b[39;00m\n",
      "File \u001b[0;32m~/Documents/01_UPenn/01_ESE5460/03_Project/src/ResnetModel.py:175\u001b[0m, in \u001b[0;36mResNet.forward\u001b[0;34m(self, x)\u001b[0m\n\u001b[1;32m    174\u001b[0m \u001b[39mdef\u001b[39;00m \u001b[39mforward\u001b[39m(\u001b[39mself\u001b[39m, x: Tensor) \u001b[39m-\u001b[39m\u001b[39m>\u001b[39m Tensor:\n\u001b[0;32m--> 175\u001b[0m     \u001b[39mreturn\u001b[39;00m \u001b[39mself\u001b[39;49m\u001b[39m.\u001b[39;49m_forward_impl(x)\n",
      "File \u001b[0;32m~/Documents/01_UPenn/01_ESE5460/03_Project/src/ResnetModel.py:166\u001b[0m, in \u001b[0;36mResNet._forward_impl\u001b[0;34m(self, x)\u001b[0m\n\u001b[1;32m    164\u001b[0m \u001b[39mdef\u001b[39;00m \u001b[39m_forward_impl\u001b[39m(\u001b[39mself\u001b[39m, x: Tensor) \u001b[39m-\u001b[39m\u001b[39m>\u001b[39m Tensor:\n\u001b[1;32m    165\u001b[0m     \u001b[39m# See note [TorchScript super()]\u001b[39;00m\n\u001b[0;32m--> 166\u001b[0m     x \u001b[39m=\u001b[39m \u001b[39mself\u001b[39;49m\u001b[39m.\u001b[39;49mconv1(x); \n\u001b[1;32m    167\u001b[0m     x \u001b[39m=\u001b[39m \u001b[39mself\u001b[39m\u001b[39m.\u001b[39mrelu(x); \n\u001b[1;32m    168\u001b[0m     x \u001b[39m=\u001b[39m \u001b[39mself\u001b[39m\u001b[39m.\u001b[39mbn1(x); \n",
      "File \u001b[0;32m~/.local/lib/python3.11/site-packages/torch/nn/modules/module.py:1518\u001b[0m, in \u001b[0;36mModule._wrapped_call_impl\u001b[0;34m(self, *args, **kwargs)\u001b[0m\n\u001b[1;32m   1516\u001b[0m     \u001b[39mreturn\u001b[39;00m \u001b[39mself\u001b[39m\u001b[39m.\u001b[39m_compiled_call_impl(\u001b[39m*\u001b[39margs, \u001b[39m*\u001b[39m\u001b[39m*\u001b[39mkwargs)  \u001b[39m# type: ignore[misc]\u001b[39;00m\n\u001b[1;32m   1517\u001b[0m \u001b[39melse\u001b[39;00m:\n\u001b[0;32m-> 1518\u001b[0m     \u001b[39mreturn\u001b[39;00m \u001b[39mself\u001b[39;49m\u001b[39m.\u001b[39;49m_call_impl(\u001b[39m*\u001b[39;49margs, \u001b[39m*\u001b[39;49m\u001b[39m*\u001b[39;49mkwargs)\n",
      "File \u001b[0;32m~/.local/lib/python3.11/site-packages/torch/nn/modules/module.py:1527\u001b[0m, in \u001b[0;36mModule._call_impl\u001b[0;34m(self, *args, **kwargs)\u001b[0m\n\u001b[1;32m   1522\u001b[0m \u001b[39m# If we don't have any hooks, we want to skip the rest of the logic in\u001b[39;00m\n\u001b[1;32m   1523\u001b[0m \u001b[39m# this function, and just call forward.\u001b[39;00m\n\u001b[1;32m   1524\u001b[0m \u001b[39mif\u001b[39;00m \u001b[39mnot\u001b[39;00m (\u001b[39mself\u001b[39m\u001b[39m.\u001b[39m_backward_hooks \u001b[39mor\u001b[39;00m \u001b[39mself\u001b[39m\u001b[39m.\u001b[39m_backward_pre_hooks \u001b[39mor\u001b[39;00m \u001b[39mself\u001b[39m\u001b[39m.\u001b[39m_forward_hooks \u001b[39mor\u001b[39;00m \u001b[39mself\u001b[39m\u001b[39m.\u001b[39m_forward_pre_hooks\n\u001b[1;32m   1525\u001b[0m         \u001b[39mor\u001b[39;00m _global_backward_pre_hooks \u001b[39mor\u001b[39;00m _global_backward_hooks\n\u001b[1;32m   1526\u001b[0m         \u001b[39mor\u001b[39;00m _global_forward_hooks \u001b[39mor\u001b[39;00m _global_forward_pre_hooks):\n\u001b[0;32m-> 1527\u001b[0m     \u001b[39mreturn\u001b[39;00m forward_call(\u001b[39m*\u001b[39;49margs, \u001b[39m*\u001b[39;49m\u001b[39m*\u001b[39;49mkwargs)\n\u001b[1;32m   1529\u001b[0m \u001b[39mtry\u001b[39;00m:\n\u001b[1;32m   1530\u001b[0m     result \u001b[39m=\u001b[39m \u001b[39mNone\u001b[39;00m\n",
      "File \u001b[0;32m~/.local/lib/python3.11/site-packages/torch/nn/modules/conv.py:310\u001b[0m, in \u001b[0;36mConv1d.forward\u001b[0;34m(self, input)\u001b[0m\n\u001b[1;32m    309\u001b[0m \u001b[39mdef\u001b[39;00m \u001b[39mforward\u001b[39m(\u001b[39mself\u001b[39m, \u001b[39minput\u001b[39m: Tensor) \u001b[39m-\u001b[39m\u001b[39m>\u001b[39m Tensor:\n\u001b[0;32m--> 310\u001b[0m     \u001b[39mreturn\u001b[39;00m \u001b[39mself\u001b[39;49m\u001b[39m.\u001b[39;49m_conv_forward(\u001b[39minput\u001b[39;49m, \u001b[39mself\u001b[39;49m\u001b[39m.\u001b[39;49mweight, \u001b[39mself\u001b[39;49m\u001b[39m.\u001b[39;49mbias)\n",
      "File \u001b[0;32m~/.local/lib/python3.11/site-packages/torch/nn/modules/conv.py:306\u001b[0m, in \u001b[0;36mConv1d._conv_forward\u001b[0;34m(self, input, weight, bias)\u001b[0m\n\u001b[1;32m    302\u001b[0m \u001b[39mif\u001b[39;00m \u001b[39mself\u001b[39m\u001b[39m.\u001b[39mpadding_mode \u001b[39m!=\u001b[39m \u001b[39m'\u001b[39m\u001b[39mzeros\u001b[39m\u001b[39m'\u001b[39m:\n\u001b[1;32m    303\u001b[0m     \u001b[39mreturn\u001b[39;00m F\u001b[39m.\u001b[39mconv1d(F\u001b[39m.\u001b[39mpad(\u001b[39minput\u001b[39m, \u001b[39mself\u001b[39m\u001b[39m.\u001b[39m_reversed_padding_repeated_twice, mode\u001b[39m=\u001b[39m\u001b[39mself\u001b[39m\u001b[39m.\u001b[39mpadding_mode),\n\u001b[1;32m    304\u001b[0m                     weight, bias, \u001b[39mself\u001b[39m\u001b[39m.\u001b[39mstride,\n\u001b[1;32m    305\u001b[0m                     _single(\u001b[39m0\u001b[39m), \u001b[39mself\u001b[39m\u001b[39m.\u001b[39mdilation, \u001b[39mself\u001b[39m\u001b[39m.\u001b[39mgroups)\n\u001b[0;32m--> 306\u001b[0m \u001b[39mreturn\u001b[39;00m F\u001b[39m.\u001b[39;49mconv1d(\u001b[39minput\u001b[39;49m, weight, bias, \u001b[39mself\u001b[39;49m\u001b[39m.\u001b[39;49mstride,\n\u001b[1;32m    307\u001b[0m                 \u001b[39mself\u001b[39;49m\u001b[39m.\u001b[39;49mpadding, \u001b[39mself\u001b[39;49m\u001b[39m.\u001b[39;49mdilation, \u001b[39mself\u001b[39;49m\u001b[39m.\u001b[39;49mgroups)\n",
      "\u001b[0;31mRuntimeError\u001b[0m: Input type (torch.cuda.DoubleTensor) and weight type (torch.cuda.FloatTensor) should be the same"
     ]
    }
   ],
   "source": [
    "for epoch in range(epochs):\n",
    "    for model in range(len(models)):\n",
    "        model_i = models[model]\n",
    "        optimizer = optimizers[model]\n",
    "        criterion = criterions[model]\n",
    "        train_loader = train_loaders[model]\n",
    "        val_loader = val_loaders[model]\n",
    "        metric = metrics[model]\n",
    "        T_0 = T_0s[model]\n",
    "        T_max = T_maxs[model]\n",
    "            \n",
    "        for i, (signal, labels) in enumerate(train_loader):\n",
    "            idx = np.random.randint(0, 1000-200)\n",
    "            signal = signal.transpose(1,2).to(device)\n",
    "            labels = labels.to(device)\n",
    "            optimizer.zero_grad()\n",
    "            outputs = model_i(signal)\n",
    "            loss = criterion(outputs, labels)\n",
    "            loss.backward()\n",
    "            ts[model] += 1\n",
    "            train_losses[model].append(loss.item())\n",
    "            if ts[model] <= T_0:\n",
    "                lrs[model] = 10**(-4) + (ts[model]/T_0)*lr_max  \n",
    "            else: \n",
    "                lrs[model] = lr_max*np.cos((np.pi/2)*((ts[model]-T_0)/(T_max-T_0))) + 10**(-6) \n",
    "\n",
    "            lr_records[model].append(lrs[model])\n",
    "            for g in optimizer.param_groups:\n",
    "                g['lr'] = lrs[model]\n",
    "\n",
    "            optimizer.step()\n",
    "\n",
    "            if (i+1) % len(train_loader)//10 == 0:\n",
    "                print(f'Model: {model_names[model]}, Epoch [{epoch+1}/{epochs}], Step [{i+1}/{steps_per_epoch}], Loss: {loss.item():.4f}, AUROC: {metric(outputs, (labels>0).int()):.4f}')\n",
    "            \n",
    "        test_auc = 0\n",
    "        test_loss = 0\n",
    "        with torch.no_grad():\n",
    "            for signal, labels in val_loader:\n",
    "                idx = np.random.randint(0, 1000-200)\n",
    "                signal = (signal[:, idx:idx+200]).to(device)\n",
    "                labels = labels.to(device)\n",
    "                outputs = model_i(signal)\n",
    "                loss = criterion(outputs, labels)\n",
    "                test_loss += loss.item()\n",
    "                test_auc += metric(outputs, (labels>0).int())\n",
    "            val_losses[model].append(test_loss/len(val_loader))\n",
    "            val_aurocs[model].append(test_auc/len(val_loader))\n",
    "        print(f'Model: {model_names[model]}, Epoch [{epoch+1}/{epochs}], Val Loss: {test_loss/len(val_loader):.4f}, Val AUROC: {test_auc/len(val_loader):.4f}')"
   ]
  },
  {
   "cell_type": "code",
   "execution_count": null,
   "metadata": {},
   "outputs": [],
   "source": [
    "signal"
   ]
  },
  {
   "cell_type": "code",
   "execution_count": null,
   "metadata": {},
   "outputs": [],
   "source": [
    "t = 0\n",
    "steps_per_epoch = len(train_loader)\n",
    "T_max = steps_per_epoch*epochs\n",
    "T_0 = T_max/5 \n",
    "learning_rates = []\n",
    "train_losses = []\n",
    "\n",
    "for epoch in range(epochs):\n",
    "    for i, (signal, labels) in enumerate(train_loader):\n",
    "        idx = np.random.randint(0, 1000-200)\n",
    "        signal_sample = (signal[:, :, idx:idx+200]).to(device)\n",
    "        labels = labels.to(device)\n",
    "        optimizer.zero_grad()\n",
    "        outputs = model(signal_sample)\n",
    "        loss = criterion(outputs, labels.float())\n",
    "        loss.backward()\n",
    "        nn.utils.clip_grad_norm_(model.parameters(), 5)\n",
    "        if t <= T_0:\n",
    "            lr = 10**(-4) + (t/T_0)*lr_max  \n",
    "        else: \n",
    "            lr = lr_max*np.cos((np.pi/2)*((t-T_0)/(T_max-T_0))) + 10**(-6) \n",
    "\n",
    "        for g in optimizer.param_groups:\n",
    "            g['lr'] = lr \n",
    "        learning_rates.append(lr)\n",
    "        train_losses.append(loss.item())\n",
    "        optimizer.step()\n",
    "        t+=1\n",
    "        \n",
    "        train_AUC = ml_auroc(outputs, labels.int())\n",
    "        writer.add_scalar(\"Train_Loss\", loss, t)\n",
    "        writer.add_scalar(\"Learning rate\", lr, t)\n",
    "        writer.add_scalar(\"Batch Train AUC\", train_AUC, t)\n",
    "\n",
    "        if i%(len(train_loader)//10) == 0:\n",
    "            print(f\"Step: {i+1}/{len(train_loader)}  |  Train loss: {loss.item():.4f}  |  Train AUC: {train_AUC:.4f}\")\n",
    "           \n",
    "\n",
    "    # model.eval()\n",
    "    test_auc = 0\n",
    "    with torch.no_grad():\n",
    "        for i, (signal, labels) in enumerate(test_loader):\n",
    "            idx = np.random.randint(0, 1000-200)\n",
    "            signal = (signal[:, :, idx:idx+200]).to(device)\n",
    "            labels = labels.to(device)\n",
    "            outputs = model(signal)\n",
    "            test_auc += ml_auroc(outputs, labels.int())\n",
    "        test_auc /= len(test_loader)\n",
    "    writer.add_scalar(\"Test AUC\", test_auc, epoch)"
   ]
  },
  {
   "cell_type": "code",
   "execution_count": null,
   "metadata": {},
   "outputs": [],
   "source": [
    "signal.shape"
   ]
  },
  {
   "cell_type": "code",
   "execution_count": null,
   "metadata": {},
   "outputs": [],
   "source": [
    "with open('superclassresnetmodel.pickle', 'wb') as f:\n",
    "    pickle.dump(model, f)"
   ]
  },
  {
   "cell_type": "code",
   "execution_count": null,
   "metadata": {},
   "outputs": [],
   "source": [
    "import pickle, matplotlib.pyplot as plt, torch\n",
    "with open('./modelres/SuperClasslosses.pickle', 'rb') as f:\n",
    "    train_losses = pickle.load(f)"
   ]
  },
  {
   "cell_type": "code",
   "execution_count": null,
   "metadata": {},
   "outputs": [],
   "source": [
    "len(train_losses)"
   ]
  },
  {
   "cell_type": "code",
   "execution_count": null,
   "metadata": {},
   "outputs": [],
   "source": [
    "fig,axes = plt.subplots(1,3, figsize = (10,3))\n",
    "axes[0].plot(train_losses[0])\n",
    "axes[1].plot(torch.tensor(train_losses[1]))\n",
    "axes[2].plot(train_losses[2])\n",
    "plt.show()\n"
   ]
  },
  {
   "cell_type": "code",
   "execution_count": null,
   "metadata": {},
   "outputs": [],
   "source": [
    "torch.tensor(train_losses[0][-2000:]).mean()"
   ]
  },
  {
   "cell_type": "code",
   "execution_count": null,
   "metadata": {},
   "outputs": [],
   "source": [
    "import torch\n",
    "torch.tensor(train_losses[1]).device"
   ]
  },
  {
   "cell_type": "code",
   "execution_count": null,
   "metadata": {},
   "outputs": [],
   "source": [
    "train_losses[2]"
   ]
  },
  {
   "cell_type": "code",
   "execution_count": null,
   "metadata": {},
   "outputs": [],
   "source": [
    "model"
   ]
  }
 ],
 "metadata": {
  "kernelspec": {
   "display_name": "Python 3",
   "language": "python",
   "name": "python3"
  },
  "language_info": {
   "codemirror_mode": {
    "name": "ipython",
    "version": 3
   },
   "file_extension": ".py",
   "mimetype": "text/x-python",
   "name": "python",
   "nbconvert_exporter": "python",
   "pygments_lexer": "ipython3",
   "version": "3.11.2"
  }
 },
 "nbformat": 4,
 "nbformat_minor": 2
}
